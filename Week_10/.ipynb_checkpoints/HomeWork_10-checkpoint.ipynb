{
 "cells": [
  {
   "cell_type": "markdown",
   "id": "a6e0ec82",
   "metadata": {},
   "source": [
    "## Homework\n",
    "\n",
    "In this homework, we'll deploy Credit Card prediction model from the homework 5. We already have a docker image for this model - we'll use it for deploying the model to Kubernetes.\n",
    "\n",
    "### Bulding the image\n",
    "\n",
    "Clone the course repo if you haven't:\n",
    "\n",
    "```\n",
    "git clone https://github.com/alexeygrigorev/mlbookcamp-code.git\n",
    "```\n",
    "\n",
    "Go to the `course-zoomcamp/cohorts/2022/05-deployment/homework` folder and execute the following:\n",
    "\n",
    "```\n",
    "docker build -t zoomcamp-model:v001 .\n",
    "```\n",
    "\n",
    "   \n",
    " > Note: If you have troubles building the image, you can use the image we built and published to docker hub: `svizor42/zoomcamp-model:v001`\n"
   ]
  },
  {
   "cell_type": "markdown",
   "id": "e6d66f2e",
   "metadata": {},
   "source": [
    "### Question 1\n",
    "\n",
    "Run it to test that it's working locally:\n",
    "\n",
    "```\n",
    "docker run -it --rm -p 9696:9696 zoomcamp-model:v001\n",
    "```\n",
    "\n",
    "And in another terminal, execute `q6_test.py file`:\n",
    "\n",
    "```\n",
    "python q6_test.py\n",
    "```\n",
    "\n",
    "You should see this:\n",
    "\n",
    "```\n",
    "{'get_card': True, 'get_card_probability': <value>}\n",
    "```\n",
    "\n",
    "Here <value> is the probability of getting a credit card. You need to choose the right one.\n",
    "\n",
    "- 0.289\n",
    "    \n",
    "- 0.502\n",
    "    \n",
    "- 0.769\n",
    "\n",
    "- 0.972\n",
    "    \n",
    "Now you can stop the container running in Docker."
   ]
  },
  {
   "cell_type": "code",
   "execution_count": 2,
   "id": "7f7c082f",
   "metadata": {},
   "outputs": [],
   "source": [
    "import requests\n",
    "\n",
    "\n",
    "url = \"http://localhost:9696/predict\"\n",
    "\n",
    "client = {\"reports\": 0, \"share\": 0.245, \"expenditure\": 3.438, \"owner\": \"yes\"}\n",
    "response = requests.post(url, json=client).json()\n",
    "\n",
    "print(response)"
   ]
  },
  {
   "cell_type": "markdown",
   "id": "22d6cfe2",
   "metadata": {},
   "source": [
    "{'get_card': True, 'get_card_probability': 0.7692649226628628}"
   ]
  },
  {
   "cell_type": "markdown",
   "id": "b44026fc",
   "metadata": {},
   "source": [
    "Answer: `0.769`"
   ]
  },
  {
   "cell_type": "markdown",
   "id": "638bd4ee",
   "metadata": {},
   "source": [
    "You need to install:\n",
    "\n",
    "- kubectl - https://kubernetes.io/docs/tasks/tools/ (you might already have it - check before installing)\n",
    " \n",
    "- kind - https://kind.sigs.k8s.io/docs/user/quick-start/"
   ]
  },
  {
   "cell_type": "code",
   "execution_count": 5,
   "id": "7307dd21",
   "metadata": {
    "scrolled": true
   },
   "outputs": [
    {
     "name": "stdout",
     "output_type": "stream",
     "text": [
      "kubectl controls the Kubernetes cluster manager.\r\n",
      "\r\n",
      " Find more information at:\r\n",
      "https://kubernetes.io/docs/reference/kubectl/overview/\r\n",
      "\r\n",
      "Basic Commands (Beginner):\r\n",
      "  create        Create a resource from a file or from stdin.\r\n",
      "  expose        Take a replication controller, service, deployment or pod and\r\n",
      "expose it as a new Kubernetes Service\r\n",
      "  run           Run a particular image on the cluster\r\n",
      "  set           Set specific features on objects\r\n",
      "\r\n",
      "Basic Commands (Intermediate):\r\n",
      "  explain       Documentation of resources\r\n",
      "  get           Display one or many resources\r\n",
      "  edit          Edit a resource on the server\r\n",
      "  delete        Delete resources by filenames, stdin, resources and names, or by\r\n",
      "resources and label selector\r\n",
      "\r\n",
      "Deploy Commands:\r\n",
      "  rollout       Manage the rollout of a resource\r\n",
      "  scale         Set a new size for a Deployment, ReplicaSet or Replication\r\n",
      "Controller\r\n",
      "  autoscale     Auto-scale a Deployment, ReplicaSet, StatefulSet, or\r\n",
      "ReplicationController\r\n",
      "\r\n",
      "Cluster Management Commands:\r\n",
      "  certificate   Modify certificate resources.\r\n",
      "  cluster-info  Display cluster info\r\n",
      "  top           Display Resource (CPU/Memory) usage.\r\n",
      "  cordon        Mark node as unschedulable\r\n",
      "  uncordon      Mark node as schedulable\r\n",
      "  drain         Drain node in preparation for maintenance\r\n",
      "  taint         Update the taints on one or more nodes\r\n",
      "\r\n",
      "Troubleshooting and Debugging Commands:\r\n",
      "  describe      Show details of a specific resource or group of resources\r\n",
      "  logs          Print the logs for a container in a pod\r\n",
      "  attach        Attach to a running container\r\n",
      "  exec          Execute a command in a container\r\n",
      "  port-forward  Forward one or more local ports to a pod\r\n",
      "  proxy         Run a proxy to the Kubernetes API server\r\n",
      "  cp            Copy files and directories to and from containers.\r\n",
      "  auth          Inspect authorization\r\n",
      "  debug         Create debugging sessions for troubleshooting workloads and\r\n",
      "nodes\r\n",
      "\r\n",
      "Advanced Commands:\r\n",
      "  diff          Diff live version against would-be applied version\r\n",
      "  apply         Apply a configuration to a resource by filename or stdin\r\n",
      "  patch         Update field(s) of a resource\r\n",
      "  replace       Replace a resource by filename or stdin\r\n",
      "  wait          Experimental: Wait for a specific condition on one or many\r\n",
      "resources.\r\n",
      "  kustomize     Build a kustomization target from a directory or URL.\r\n",
      "\r\n",
      "Settings Commands:\r\n",
      "  label         Update the labels on a resource\r\n",
      "  annotate      Update the annotations on a resource\r\n",
      "  completion    Output shell completion code for the specified shell (bash or\r\n",
      "zsh)\r\n",
      "\r\n",
      "Other Commands:\r\n",
      "  api-resources Print the supported API resources on the server\r\n",
      "  api-versions  Print the supported API versions on the server, in the form of\r\n",
      "\"group/version\"\r\n",
      "  config        Modify kubeconfig files\r\n",
      "  plugin        Provides utilities for interacting with plugins.\r\n",
      "  version       Print the client and server version information\r\n",
      "\r\n",
      "Usage:\r\n",
      "  kubectl [flags] [options]\r\n",
      "\r\n",
      "Use \"kubectl <command> --help\" for more information about a given command.\r\n",
      "Use \"kubectl options\" for a list of global command-line options (applies to all\r\n",
      "commands).\r\n"
     ]
    }
   ],
   "source": [
    "!kubectl"
   ]
  },
  {
   "cell_type": "code",
   "execution_count": 7,
   "id": "9a6c5e63",
   "metadata": {
    "scrolled": true
   },
   "outputs": [
    {
     "name": "stdout",
     "output_type": "stream",
     "text": [
      "Running `brew update --auto-update`...\n",
      "\u001b[34m==>\u001b[0m \u001b[1mAuto-updated Homebrew!\u001b[0m\n",
      "Updated 2 taps (homebrew/core and homebrew/cask).\n",
      "\u001b[34m==>\u001b[0m \u001b[1mNew Formulae\u001b[0m\n",
      "bindgen                    libdivide                  pluto\n",
      "btrfs-progs                libemf2svg                 pomsky\n",
      "cdsclient                  libgrapheme                proxsuite\n",
      "cmctl                      libunibreak                python-lsp-server\n",
      "cntb                       license-eye                rnr\n",
      "conda-zsh-completion       llama                      ruff\n",
      "corrosion                  macpine                    socket_vmnet\n",
      "d2                         mariadb@10.8               tart\n",
      "graphqxl                   mariadb@10.9               temporal\n",
      "hotbuild                   markdownlint-cli2          tut\n",
      "huggingface-cli            muon                       typos-cli\n",
      "hysteria                   node@18                    valijson\n",
      "joker                      pandemics                  vhs\n",
      "kubevious                  pbzx                       waybackpy\n",
      "kustomizer                 pferd                      xcodes\n",
      "\u001b[34m==>\u001b[0m \u001b[1mNew Casks\u001b[0m\n",
      "adze                                     openlens\n",
      "ankerslicer                              opensoundmeter\n",
      "binocs                                   paper\n",
      "blurscreen                               protonmail-import-export\n",
      "buzz                                     quiet-reader\n",
      "cad-assistant                            rapidapi\n",
      "clickshare                               restfox\n",
      "dbeaverlite                              slab\n",
      "dbeaverultimate                          superkey\n",
      "faxbot                                   tageditor\n",
      "finch                                    thangs-sync\n",
      "icon-shelf                               unite-phone\n",
      "kopiaui                                  watchfacestudio\n",
      "mixin                                    workspace-one-intelligent-hub\n",
      "neat\n",
      "\n",
      "You have \u001b[1m64\u001b[0m outdated formulae installed.\n",
      "You can upgrade them with \u001b[1mbrew upgrade\u001b[0m\n",
      "or list them with \u001b[1mbrew outdated\u001b[0m.\n",
      "\n",
      "\u001b[34m==>\u001b[0m \u001b[1mDownloading https://ghcr.io/v2/homebrew/core/kind/manifests/0.17.0\u001b[0m\n",
      "######################################################################## 100.0%\n",
      "\u001b[34m==>\u001b[0m \u001b[1mDownloading https://ghcr.io/v2/homebrew/core/kind/blobs/sha256:20675a8cfd768\u001b[0m\n",
      "\u001b[34m==>\u001b[0m \u001b[1mDownloading from https://pkg-containers.githubusercontent.com/ghcr1/blobs/sh\u001b[0m\n",
      "######################################################################## 100.0%\n",
      "\u001b[34m==>\u001b[0m \u001b[1mPouring kind--0.17.0.big_sur.bottle.tar.gz\u001b[0m\n",
      "\u001b[34m==>\u001b[0m \u001b[1mCaveats\u001b[0m\n",
      "zsh completions have been installed to:\n",
      "  /usr/local/share/zsh/site-functions\n",
      "\u001b[34m==>\u001b[0m \u001b[1mSummary\u001b[0m\n",
      "🍺  /usr/local/Cellar/kind/0.17.0: 8 files, 8.9MB\n",
      "\u001b[34m==>\u001b[0m \u001b[1mRunning `brew cleanup kind`...\u001b[0m\n",
      "Disable this behaviour by setting HOMEBREW_NO_INSTALL_CLEANUP.\n",
      "Hide these hints with HOMEBREW_NO_ENV_HINTS (see `man brew`).\n",
      "\u001b[32m==>\u001b[0m \u001b[1m`brew cleanup` has not been run in the last 30 days, running now...\u001b[0m\n",
      "Disable this behaviour by setting HOMEBREW_NO_INSTALL_CLEANUP.\n",
      "Hide these hints with HOMEBREW_NO_ENV_HINTS (see `man brew`).\n",
      "Removing: /Users/tatyjanaankudo/Library/Caches/Homebrew/berkeley-db--18.1.40_1... (2.4MB)\n",
      "Removing: /Users/tatyjanaankudo/Library/Caches/Homebrew/cmake--3.24.2... (15.8MB)\n",
      "Removing: /Users/tatyjanaankudo/Library/Caches/Homebrew/gdbm--1.23... (272.4KB)\n",
      "Removing: /Users/tatyjanaankudo/Library/Caches/Homebrew/htop--3.2.1... (127.2KB)\n",
      "Removing: /Users/tatyjanaankudo/Library/Caches/Homebrew/libomp--15.0.3... (554.6KB)\n",
      "Removing: /Users/tatyjanaankudo/Library/Caches/Homebrew/lua--5.4.4_1... (263.7KB)\n",
      "Removing: /Users/tatyjanaankudo/Library/Caches/Homebrew/ncurses--6.3... (2.3MB)\n",
      "Removing: /Users/tatyjanaankudo/Library/Caches/Homebrew/tmux--3.3a... (456.1KB)\n",
      "Removing: /Users/tatyjanaankudo/Library/Caches/Homebrew/utf8proc--2.7.0... (172.6KB)\n",
      "Removing: /Users/tatyjanaankudo/Library/Caches/Homebrew/berkeley-db_bottle_manifest--18.1.40_1... (7.2KB)\n",
      "Removing: /Users/tatyjanaankudo/Library/Caches/Homebrew/descriptions.json... (340.8KB)\n",
      "Removing: /Users/tatyjanaankudo/Library/Caches/Homebrew/cask_descriptions.json... (258.3KB)\n",
      "Removing: /Users/tatyjanaankudo/Library/Caches/Homebrew/gdbm_bottle_manifest--1.23... (6.1KB)\n",
      "Removing: /Users/tatyjanaankudo/Library/Caches/Homebrew/utf8proc_bottle_manifest--2.7.0... (6.4KB)\n",
      "Removing: /Users/tatyjanaankudo/Library/Caches/Homebrew/lua_bottle_manifest--5.4.4_1... (6.6KB)\n",
      "Removing: /Users/tatyjanaankudo/Library/Caches/Homebrew/openssl@1.1_bottle_manifest--1.1.1p... (7.6KB)\n",
      "Removing: /Users/tatyjanaankudo/Library/Caches/Homebrew/ca-certificates_bottle_manifest--2022-04-26... (1.8KB)\n",
      "Removing: /Users/tatyjanaankudo/Library/Caches/Homebrew/htop_bottle_manifest--3.2.1... (6.7KB)\n",
      "Removing: /Users/tatyjanaankudo/Library/Caches/Homebrew/portable-ruby-2.6.8_1.el_capitan.bottle.tar.gz... (8.8MB)\n",
      "Removing: /Users/tatyjanaankudo/Library/Caches/Homebrew/tmux_bottle_manifest--3.3a-1... (8.5KB)\n",
      "Removing: /Users/tatyjanaankudo/Library/Caches/Homebrew/perl_bottle_manifest--5.34.0... (19KB)\n",
      "Removing: /Users/tatyjanaankudo/Library/Caches/Homebrew/sqlite_bottle_manifest--3.38.5... (6.9KB)\n",
      "Removing: /Users/tatyjanaankudo/Library/Caches/Homebrew/ncurses_bottle_manifest--6.3... (9KB)\n",
      "Removing: /Users/tatyjanaankudo/Library/Caches/Homebrew/readline_bottle_manifest--8.1.2... (6.6KB)\n",
      "Removing: /Users/tatyjanaankudo/Library/Caches/Homebrew/Cask/openscad--2021.01.dmg... (26.1MB)\n",
      "Removing: /Users/tatyjanaankudo/Library/Logs/Homebrew/cmake... (64B)\n",
      "Removing: /Users/tatyjanaankudo/Library/Logs/Homebrew/lightgbm... (64B)\n",
      "Removing: /Users/tatyjanaankudo/Library/Logs/Homebrew/libomp... (64B)\n"
     ]
    }
   ],
   "source": [
    "!brew install kind"
   ]
  },
  {
   "cell_type": "code",
   "execution_count": 8,
   "id": "3552383e",
   "metadata": {},
   "outputs": [
    {
     "name": "stdout",
     "output_type": "stream",
     "text": [
      "kind creates and manages local Kubernetes clusters using Docker container 'nodes'\r\n",
      "\r\n",
      "Usage:\r\n",
      "  kind [command]\r\n",
      "\r\n",
      "Available Commands:\r\n",
      "  build       Build one of [node-image]\r\n",
      "  completion  Output shell completion code for the specified shell (bash, zsh or fish)\r\n",
      "  create      Creates one of [cluster]\r\n",
      "  delete      Deletes one of [cluster]\r\n",
      "  export      Exports one of [kubeconfig, logs]\r\n",
      "  get         Gets one of [clusters, nodes, kubeconfig]\r\n",
      "  help        Help about any command\r\n",
      "  load        Loads images into nodes\r\n",
      "  version     Prints the kind CLI version\r\n",
      "\r\n",
      "Flags:\r\n",
      "  -h, --help              help for kind\r\n",
      "      --loglevel string   DEPRECATED: see -v instead\r\n",
      "  -q, --quiet             silence all stderr output\r\n",
      "  -v, --verbosity int32   info log verbosity, higher value produces more output\r\n",
      "      --version           version for kind\r\n",
      "\r\n",
      "Use \"kind [command] --help\" for more information about a command.\r\n"
     ]
    }
   ],
   "source": [
    "!kind"
   ]
  },
  {
   "cell_type": "markdown",
   "id": "3cedf136",
   "metadata": {},
   "source": [
    "## Question 2\n",
    "\n",
    "What's the version of kind that you have?\n",
    "\n",
    "Use `kind --version` to find out."
   ]
  },
  {
   "cell_type": "code",
   "execution_count": 9,
   "id": "3ad7c4d7",
   "metadata": {},
   "outputs": [
    {
     "name": "stdout",
     "output_type": "stream",
     "text": [
      "kind version 0.17.0\r\n"
     ]
    }
   ],
   "source": [
    "!kind --version"
   ]
  },
  {
   "cell_type": "markdown",
   "id": "ad200a5d",
   "metadata": {},
   "source": [
    "### Creating a cluster\n",
    "\n",
    "Now let's create a cluster with `kind`:\n",
    "\n",
    "```\n",
    "kind create cluster\n",
    "```\n",
    "\n",
    "And check with `kubectl` that it was successfully created:\n",
    "\n",
    "```\n",
    "kubectl cluster-info\n",
    "```"
   ]
  },
  {
   "cell_type": "code",
   "execution_count": 10,
   "id": "b6d289ad",
   "metadata": {},
   "outputs": [
    {
     "name": "stdout",
     "output_type": "stream",
     "text": [
      "Creating cluster \"kind\" ...\n",
      " \u001b[32m✓\u001b[0m Ensuring node image (kindest/node:v1.25.3) 🖼7l\u001b[?7l\u001b[?7l\u001b[?7l\u001b[?7l\u001b[?7l\u001b[?7l\u001b[?7l\u001b[?7l\u001b[?7l\u001b[?7l\u001b[?7l\u001b[?7l\u001b[?7l\u001b[?7l\u001b[?7l\u001b[?7l\u001b[?7l\u001b[?7l\u001b[?7l\u001b[?7l\u001b[?7l\u001b[?7l\u001b[?7l\u001b[?7l\u001b[?7l\u001b[?7l\u001b[?7l\u001b[?7l\u001b[?7l\u001b[?7l\u001b[?7l\u001b[?7l\u001b[?7l\u001b[?7l\u001b[?7l\u001b[?7l\u001b[?7l\u001b[?7l\u001b[?7l\u001b[?7l\u001b[?7l\u001b[?7l\u001b[?7l\u001b[?7l\u001b[?7l\u001b[?7l\u001b[?7l\u001b[?7l\u001b[?7l\u001b[?7l\u001b[?7l\u001b[?7l\u001b[?7l\u001b[?7l\u001b[?7l\u001b[?7l\u001b[?7l\u001b[?7l\u001b[?7l\u001b[?7l\u001b[?7l\u001b[?7l\u001b[?7l\u001b[?7l\u001b[?7l\u001b[?7l\u001b[?7l\u001b[?7l\u001b[?7l\u001b[?7l\u001b[?7l\u001b[?7l\u001b[?7l\u001b[?7l\u001b[?7l\u001b[?7l\u001b[?7l\u001b[?7l\u001b[?7l\u001b[?7l\u001b[?7l\u001b[?7l\u001b[?7l\u001b[?7l\u001b[?7l\u001b[?7l\u001b[?7l\u001b[?7l\u001b[?7l\u001b[?7l\u001b[?7l\u001b[?7l\u001b[?7l\u001b[?7l\u001b[?7l\u001b[?7l\u001b[?7l\u001b[?7l\u001b[?7l\u001b[?7l\u001b[?7l\u001b[?7l\u001b[?7l\u001b[?7l\u001b[?7l\u001b[?7l\u001b[?7l\u001b[?7l\u001b[?7l\u001b[?7l\u001b[?7l\u001b[?7l\u001b[?7l\u001b[?7l\u001b[?7l\u001b[?7l\u001b[?7l\u001b[?7l\u001b[?7l\u001b[?7l\u001b[?7l\u001b[?7l\u001b[?7l\u001b[?7l\u001b[?7l\u001b[?7l\u001b[?7l\u001b[?7l\u001b[?7l\u001b[?7l\u001b[?7l\u001b[?7l\u001b[?7l\u001b[?7l\u001b[?7l\u001b[?7l\u001b[?7l\u001b[?7l\u001b[?7l\u001b[?7l\u001b[?7l\u001b[?7l\u001b[?7l\u001b[?7l\u001b[?7l\u001b[?7l\u001b[?7l\u001b[?7l\u001b[?7l\u001b[?7l\u001b[?7l\u001b[?7l\u001b[?7l\u001b[?7l\u001b[?7l\u001b[?7l\u001b[?7l\u001b[?7l\u001b[?7l\u001b[?7l\u001b[?7l\u001b[?7l\u001b[?7l\u001b[?7l\u001b[?7l\u001b[?7l\u001b[?7l\u001b[?7l\u001b[?7l\u001b[?7l\u001b[?7l\u001b[?7l\u001b[?7l\u001b[?7l\u001b[?7l\u001b[?7l\u001b[?7l\u001b[?7l\u001b[?7l\u001b[?7l\u001b[?7l\u001b[?7l\u001b[?7l\u001b[?7l\u001b[?7l\u001b[?7l\u001b[?7l\u001b[?7l\u001b[?7l\u001b[?7l\u001b[?7l\u001b[?7l\u001b[?7l\u001b[?7l\u001b[?7l\u001b[?7l\u001b[?7l\u001b[?7l\u001b[?7l\u001b[?7l\u001b[?7l\u001b[?7l\u001b[?7l\u001b[?7l\u001b[?7l\u001b[?7l\u001b[?7l\u001b[?7l\u001b[?7l\u001b[?7l\u001b[?7l\u001b[?7l\u001b[?7l\u001b[?7l\u001b[?7l\u001b[?7l\u001b[?7l\u001b[?7l\u001b[?7l\u001b[?7l\u001b[?7l\u001b[?7l\u001b[?7l\u001b[?7l\u001b[?7l\u001b[?7l\u001b[?7l\u001b[?7l\u001b[?7l\u001b[?7l\u001b[?7l\u001b[?7l\u001b[?7l\u001b[?7l\u001b[?7l\u001b[?7l\u001b[?7l\u001b[?7l\u001b[?7l\u001b[?7l\u001b[?7l\u001b[?7l\u001b[?7l\u001b[?7l\u001b[?7l\u001b[?7l\u001b[?7l\u001b[?7l\u001b[?7l\u001b[?7l\u001b[?7l\u001b[?7l\u001b[?7l\u001b[?7l\u001b[?7l\u001b[?7l\u001b[?7l\u001b[?7l\u001b[?7l\u001b[?7l\u001b[?7l\u001b[?7l\u001b[?7l\u001b[?7l\u001b[?7l\u001b[?7l\u001b[?7l\u001b[?7l\u001b[?7l\u001b[?7l\u001b[?7l\u001b[?7l\u001b[?7l\u001b[?7l\u001b[?7l\u001b[?7l\u001b[?7l\u001b[?7l\u001b[?7l\u001b[?7l\u001b[?7l\u001b[?7l\u001b[?7l\u001b[?7l\u001b[?7l\u001b[?7l\u001b[?7l\u001b[?7l\u001b[?7l\u001b[?7l\u001b[?7l\u001b[?7l\u001b[?7l\u001b[?7l\u001b[?7l\u001b[?7l\u001b[?7l\u001b[?7l\u001b[?7l\u001b[?7l\u001b[?7l\u001b[?7l\u001b[?7l\u001b[?7l\u001b[?7l\u001b[?7l\u001b[?7l\u001b[?7l\u001b[?7l\u001b[?7l\u001b[?7l\u001b[?7l\u001b[?7l\u001b[?7l\u001b[?7l\u001b[?7l\u001b[?7l\u001b[?7l\u001b[?7l\u001b[?7l\u001b[?7l\u001b[?7l\u001b[?7l\u001b[?7l\u001b[?7l\u001b[?7l\u001b[?7l\u001b[?7l\u001b[?7l\u001b[?7l\u001b[?7l\u001b[?7l\u001b[?7l\u001b[?7l\u001b[?7l\u001b[?7l\u001b[?7l\u001b[?7l\u001b[?7l\u001b[?7l\u001b[?7l\u001b[?7l\u001b[?7l\u001b[?7l\u001b[?7l\u001b[?7l\u001b[?7l\u001b[?7l\u001b[?7l\u001b[?7l\u001b[?7l\u001b[?7l\u001b[?7l\u001b[?7l\u001b[?7l\u001b[?7l\u001b[?7l\u001b[?7l\u001b[?7l\u001b[?7l\u001b[?7l\u001b[?7l\u001b[?7l\u001b[?7l\u001b[?7l\u001b[?7l\u001b[?7l\u001b[?7l\u001b[?7l\u001b[?7l\u001b[?7l\u001b[?7l\u001b[?7l\u001b[?7l\u001b[?7l\u001b[?7l\u001b[?7l\u001b[?7l\u001b[?7l\u001b[?7l\u001b[?7l\u001b[?7l\u001b[?7l\u001b[?7l\u001b[?7l\u001b[?7l\u001b[?7l\n",
      " \u001b[32m✓\u001b[0m Preparing nodes 📦 7l\u001b[?7l\u001b[?7l\u001b[?7l\u001b[?7l\u001b[?7l\u001b[?7l\u001b[?7l\u001b[?7l\u001b[?7l\u001b[?7l\u001b[?7l\u001b[?7l\u001b[?7l\u001b[?7l\u001b[?7l\u001b[?7l\u001b[?7l\u001b[?7l\u001b[?7l\u001b[?7l\u001b[?7l\u001b[?7l\u001b[?7l\u001b[?7l\u001b[?7l\u001b[?7l\u001b[?7l\u001b[?7l\u001b[?7l\u001b[?7l\u001b[?7l\u001b[?7l\u001b[?7l\u001b[?7l\u001b[?7l\u001b[?7l\u001b[?7l\u001b[?7l\u001b[?7l\u001b[?7l\u001b[?7l\u001b[?7l\u001b[?7l\u001b[?7l\u001b[?7l\n",
      " \u001b[32m✓\u001b[0m Writing configuration 📜7l\u001b[?7l\u001b[?7l\u001b[?7l\u001b[?7l\u001b[?7l\u001b[?7l\u001b[?7l\u001b[?7l\u001b[?7l\u001b[?7l\u001b[?7l\u001b[?7l\u001b[?7l\u001b[?7l\u001b[?7l\u001b[?7l\u001b[?7l\u001b[?7l\u001b[?7l\u001b[?7l\u001b[?7l\u001b[?7l\u001b[?7l\u001b[?7l\u001b[?7l\n",
      " \u001b[32m✓\u001b[0m Starting control-plane 🕹️7l\u001b[?7l\u001b[?7l\u001b[?7l\u001b[?7l\u001b[?7l\u001b[?7l\u001b[?7l\u001b[?7l\u001b[?7l\u001b[?7l\u001b[?7l\u001b[?7l\u001b[?7l\u001b[?7l\u001b[?7l\u001b[?7l\u001b[?7l\u001b[?7l\u001b[?7l\u001b[?7l\u001b[?7l\u001b[?7l\u001b[?7l\u001b[?7l\u001b[?7l\u001b[?7l\u001b[?7l\u001b[?7l\u001b[?7l\u001b[?7l\u001b[?7l\u001b[?7l\u001b[?7l\u001b[?7l\u001b[?7l\u001b[?7l\u001b[?7l\u001b[?7l\u001b[?7l\u001b[?7l\u001b[?7l\u001b[?7l\u001b[?7l\u001b[?7l\u001b[?7l\u001b[?7l\u001b[?7l\u001b[?7l\u001b[?7l\u001b[?7l\u001b[?7l\u001b[?7l\u001b[?7l\u001b[?7l\u001b[?7l\u001b[?7l\u001b[?7l\u001b[?7l\u001b[?7l\u001b[?7l\u001b[?7l\u001b[?7l\u001b[?7l\u001b[?7l\u001b[?7l\u001b[?7l\u001b[?7l\u001b[?7l\u001b[?7l\u001b[?7l\u001b[?7l\u001b[?7l\u001b[?7l\u001b[?7l\u001b[?7l\u001b[?7l\u001b[?7l\u001b[?7l\u001b[?7l\u001b[?7l\u001b[?7l\u001b[?7l\u001b[?7l\u001b[?7l\u001b[?7l\u001b[?7l\u001b[?7l\u001b[?7l\u001b[?7l\u001b[?7l\u001b[?7l\u001b[?7l\u001b[?7l\u001b[?7l\u001b[?7l\u001b[?7l\u001b[?7l\u001b[?7l\u001b[?7l\u001b[?7l\u001b[?7l\u001b[?7l\u001b[?7l\u001b[?7l\u001b[?7l\u001b[?7l\u001b[?7l\u001b[?7l\u001b[?7l\u001b[?7l\u001b[?7l\u001b[?7l\u001b[?7l\u001b[?7l\u001b[?7l\u001b[?7l\u001b[?7l\u001b[?7l\u001b[?7l\u001b[?7l\u001b[?7l\u001b[?7l\u001b[?7l\u001b[?7l\u001b[?7l\u001b[?7l\u001b[?7l\u001b[?7l\u001b[?7l\u001b[?7l\u001b[?7l\u001b[?7l\u001b[?7l\u001b[?7l\u001b[?7l\u001b[?7l\u001b[?7l\u001b[?7l\u001b[?7l\u001b[?7l\u001b[?7l\u001b[?7l\u001b[?7l\u001b[?7l\u001b[?7l\u001b[?7l\u001b[?7l\u001b[?7l\u001b[?7l\u001b[?7l\u001b[?7l\u001b[?7l\u001b[?7l\u001b[?7l\u001b[?7l\u001b[?7l\u001b[?7l\u001b[?7l\u001b[?7l\u001b[?7l\u001b[?7l\u001b[?7l\u001b[?7l\u001b[?7l\u001b[?7l\u001b[?7l\u001b[?7l\u001b[?7l\u001b[?7l\u001b[?7l\u001b[?7l\u001b[?7l\u001b[?7l\u001b[?7l\u001b[?7l\u001b[?7l\u001b[?7l\u001b[?7l\u001b[?7l\u001b[?7l\u001b[?7l\u001b[?7l\u001b[?7l\u001b[?7l\u001b[?7l\u001b[?7l\u001b[?7l\u001b[?7l\u001b[?7l\u001b[?7l\u001b[?7l\u001b[?7l\u001b[?7l\u001b[?7l\u001b[?7l\u001b[?7l\u001b[?7l\u001b[?7l\u001b[?7l\u001b[?7l\u001b[?7l\u001b[?7l\u001b[?7l\u001b[?7l\u001b[?7l\u001b[?7l\u001b[?7l\u001b[?7l\u001b[?7l\u001b[?7l\u001b[?7l\u001b[?7l\u001b[?7l\u001b[?7l\u001b[?7l\u001b[?7l\u001b[?7l\u001b[?7l\u001b[?7l\u001b[?7l\u001b[?7l\u001b[?7l\u001b[?7l\u001b[?7l\u001b[?7l\u001b[?7l\u001b[?7l\u001b[?7l\u001b[?7l\u001b[?7l\u001b[?7l\u001b[?7l\u001b[?7l\u001b[?7l\u001b[?7l\u001b[?7l\u001b[?7l\u001b[?7l\u001b[?7l\u001b[?7l\u001b[?7l\u001b[?7l\u001b[?7l\u001b[?7l\u001b[?7l\u001b[?7l\u001b[?7l\u001b[?7l\u001b[?7l\u001b[?7l\u001b[?7l\u001b[?7l\u001b[?7l\u001b[?7l\u001b[?7l\u001b[?7l\u001b[?7l\u001b[?7l\u001b[?7l\u001b[?7l\u001b[?7l\u001b[?7l\u001b[?7l\u001b[?7l\u001b[?7l\u001b[?7l\u001b[?7l\u001b[?7l\u001b[?7l\u001b[?7l\u001b[?7l\u001b[?7l\u001b[?7l\u001b[?7l\u001b[?7l\u001b[?7l\u001b[?7l\u001b[?7l\u001b[?7l\u001b[?7l\u001b[?7l\u001b[?7l\u001b[?7l\u001b[?7l\u001b[?7l\u001b[?7l\u001b[?7l\u001b[?7l\u001b[?7l\u001b[?7l\u001b[?7l\u001b[?7l\u001b[?7l\n",
      " \u001b[32m✓\u001b[0m Installing CNI 🔌7l\u001b[?7l\u001b[?7l\u001b[?7l\u001b[?7l\u001b[?7l\u001b[?7l\u001b[?7l\u001b[?7l\u001b[?7l\u001b[?7l\u001b[?7l\u001b[?7l\u001b[?7l\u001b[?7l\u001b[?7l\u001b[?7l\u001b[?7l\u001b[?7l\u001b[?7l\u001b[?7l\u001b[?7l\u001b[?7l\u001b[?7l\u001b[?7l\u001b[?7l\u001b[?7l\u001b[?7l\u001b[?7l\u001b[?7l\u001b[?7l\u001b[?7l\u001b[?7l\n",
      " \u001b[32m✓\u001b[0m Installing StorageClass 💾7l\u001b[?7l\u001b[?7l\u001b[?7l\u001b[?7l\u001b[?7l\u001b[?7l\u001b[?7l\u001b[?7l\u001b[?7l\u001b[?7l\u001b[?7l\u001b[?7l\u001b[?7l\u001b[?7l\u001b[?7l\u001b[?7l\n",
      "Set kubectl context to \"kind-kind\"\n",
      "You can now use your cluster with:\n",
      "\n",
      "kubectl cluster-info --context kind-kind\n",
      "\n",
      "Have a nice day! 👋\n"
     ]
    }
   ],
   "source": [
    "!kind create cluster"
   ]
  },
  {
   "cell_type": "code",
   "execution_count": 11,
   "id": "c204e099",
   "metadata": {},
   "outputs": [
    {
     "name": "stdout",
     "output_type": "stream",
     "text": [
      "\u001b[0;32mKubernetes control plane\u001b[0m is running at \u001b[0;33mhttps://127.0.0.1:64550\u001b[0m\r\n",
      "\u001b[0;32mCoreDNS\u001b[0m is running at \u001b[0;33mhttps://127.0.0.1:64550/api/v1/namespaces/kube-system/services/kube-dns:dns/proxy\u001b[0m\r\n",
      "\r\n",
      "To further debug and diagnose cluster problems, use 'kubectl cluster-info dump'.\r\n"
     ]
    }
   ],
   "source": [
    "!kubectl cluster-info"
   ]
  },
  {
   "cell_type": "markdown",
   "id": "d9dbc713",
   "metadata": {},
   "source": [
    "### Question 3\n",
    "\n",
    "What's the smallest deployable computing unit that we can create and manage in Kubernetes (kind in our case)?\n",
    "\n",
    "- Node\n",
    "\n",
    "- Pod\n",
    "\n",
    "- Deployment\n",
    "\n",
    "- Service"
   ]
  },
  {
   "cell_type": "markdown",
   "id": "f7e0442a",
   "metadata": {},
   "source": [
    "Answer: `Pod`"
   ]
  },
  {
   "cell_type": "markdown",
   "id": "501e1580",
   "metadata": {},
   "source": [
    "### Question 4\n",
    "\n",
    "Now let's test if everything works. Use `kubectl` to get the list of running services.\n",
    "\n",
    "What's the `Type` of the service that is already running there?\n",
    "\n",
    "- ClusterIP\n",
    "\n",
    "- NodePort\n",
    "\n",
    "- LoadBalancer\n",
    "\n",
    "- ExternalName"
   ]
  },
  {
   "cell_type": "code",
   "execution_count": 12,
   "id": "689e5ba2",
   "metadata": {},
   "outputs": [
    {
     "name": "stdout",
     "output_type": "stream",
     "text": [
      "NAME         TYPE        CLUSTER-IP   EXTERNAL-IP   PORT(S)   AGE\r\n",
      "kubernetes   ClusterIP   10.96.0.1    <none>        443/TCP   111s\r\n"
     ]
    }
   ],
   "source": [
    "!kubectl get services"
   ]
  },
  {
   "cell_type": "markdown",
   "id": "89418eb2",
   "metadata": {},
   "source": [
    "Answer: `ClusterIP`"
   ]
  },
  {
   "cell_type": "markdown",
   "id": "ed02aaed",
   "metadata": {},
   "source": [
    "### Question 5\n",
    "\n",
    "To be able to use the docker image we previously created (zoomcamp-model:v001), we need to register it with kind.\n",
    "\n",
    "What's the command we need to run for that?\n",
    "\n",
    "- kind create cluster\n",
    "\n",
    "- kind build node-image\n",
    "\n",
    "- kind load docker-image\n",
    "\n",
    "- kubectl apply"
   ]
  },
  {
   "cell_type": "code",
   "execution_count": 14,
   "id": "495bd8aa",
   "metadata": {},
   "outputs": [],
   "source": [
    "!kind load docker-image zoomcamp-model:v001"
   ]
  },
  {
   "cell_type": "markdown",
   "id": "c0d5c5ac",
   "metadata": {},
   "source": [
    "Answer: `kind load docker-image`"
   ]
  },
  {
   "cell_type": "markdown",
   "id": "59ea1087",
   "metadata": {},
   "source": [
    "### Question 6\n",
    "\n",
    "Now let's create a deployment config (e.g. `deployment.yaml`):\n",
    "```\n",
    "apiVersion: apps/v1\n",
    "kind: Deployment\n",
    "metadata:\n",
    "  name: credit-card\n",
    "spec:\n",
    "  selector:\n",
    "    matchLabels:\n",
    "      app: credit-card\n",
    "  replicas: 1\n",
    "  template:\n",
    "    metadata:\n",
    "      labels:\n",
    "        app: credit-card\n",
    "    spec:\n",
    "      containers:\n",
    "      - name: credit-card\n",
    "        image: <Image>\n",
    "        resources:\n",
    "          requests:\n",
    "            memory: \"64Mi\"\n",
    "            cpu: \"100m\"            \n",
    "          limits:\n",
    "            memory: <Memory>\n",
    "            cpu: <CPU>\n",
    "        ports:\n",
    "        - containerPort: <Port>\n",
    "```\n",
    "Replace `<Image>`, `<Memory>`, `<CPU>`, `<Port>` with the correct values.\n",
    "\n",
    "What is the value for `<Port>`?\n",
    "\n",
    "Apply this deployment using the appropriate command and get a list of running Pods. You can see one running Pod."
   ]
  },
  {
   "cell_type": "code",
   "execution_count": null,
   "id": "7cdac289",
   "metadata": {},
   "outputs": [],
   "source": [
    "!kubectl apply -f deployment.yaml\n",
    "!kubectl get deployment\n",
    "!kubectl get pod"
   ]
  },
  {
   "cell_type": "markdown",
   "id": "4059f208",
   "metadata": {},
   "source": [
    "### Question 7\n",
    "\n",
    "Let's create a service for this deployment (service.yaml):\n",
    "\n",
    "```\n",
    "apiVersion: v1\n",
    "kind: Service\n",
    "metadata:\n",
    "  name: <Service name>\n",
    "spec:\n",
    "  type: LoadBalancer\n",
    "  selector:\n",
    "    app: <???>\n",
    "  ports:\n",
    "  - port: 80\n",
    "    targetPort: <PORT>\n",
    "```\n",
    "\n",
    "Fill it in. What do we need to write instead of `<???>`?\n",
    "\n",
    "Apply this config file."
   ]
  },
  {
   "cell_type": "markdown",
   "id": "70b6db16",
   "metadata": {},
   "source": [
    "Answer: `credit-card`"
   ]
  },
  {
   "cell_type": "code",
   "execution_count": 15,
   "id": "c5ba8032",
   "metadata": {},
   "outputs": [
    {
     "name": "stdout",
     "output_type": "stream",
     "text": [
      "service/credit-card-service created\n",
      "NAME                  TYPE           CLUSTER-IP     EXTERNAL-IP   PORT(S)        AGE\n",
      "credit-card-service   LoadBalancer   10.96.194.18   <pending>     80:32727/TCP   0s\n",
      "kubernetes            ClusterIP      10.96.0.1      <none>        443/TCP        11m\n"
     ]
    }
   ],
   "source": [
    "!kubectl apply -f service.yaml\n",
    "!kubectl get service"
   ]
  },
  {
   "cell_type": "markdown",
   "id": "668781a8",
   "metadata": {},
   "source": [
    "### Testing the service\n",
    "\n",
    "We can test our service locally by forwarding the port 9696 on our computer to the port 80 on the service:\n",
    "\n",
    "```\n",
    "kubectl port-forward service/<Service name> 9696:80\n",
    "```\n",
    "\n",
    "`Run q6_test.py` (from the homework 5) once again to verify that everything is working. You should get the same result as in Question 1.\n",
    "\n",
    "### Autoscaling\n",
    "\n",
    "Now we're going to use a [HorizontalPodAutoscaler](https://kubernetes.io/docs/tasks/run-application/horizontal-pod-autoscale-walkthrough/) (HPA for short) that automatically updates a workload resource (such as our deployment), with the aim of automatically scaling the workload to match demand.\n",
    "\n",
    "Use the following command to create the HPA:\n",
    "\n",
    "```\n",
    "kubectl autoscale deployment credit-card --name credit-card-hpa --cpu-percent=20 --min=1 --max=3\n",
    "```\n",
    "\n",
    "You can check the current status of the new HPA by running:\n",
    "\n",
    "```\n",
    "kubectl get hpa\n",
    "```\n",
    "\n",
    "The output should be similar to the next:\n",
    "\n",
    "```\n",
    "NAME              REFERENCE                TARGETS   MINPODS   MAXPODS   REPLICAS   AGE\n",
    "credit-card-hpa   Deployment/credit-card   1%/20%    1         3         1          27s\n",
    "```\n",
    "\n",
    "`TARGET` column shows the average CPU consumption across all the Pods controlled by the corresponding deployment. Current CPU consumption is about 0% as there are no clients sending requests to the server.\n",
    "\n",
    ">Note: In case the HPA instance doesn't run properly, try to install the latest Metrics Server release from the components.yaml manifest:\n",
    "```\n",
    "kubectl apply -f https://github.com/kubernetes-sigs/metrics-server/releases/latest/download/components.yaml\n",
    "```\n",
    "\n",
    "### Increase the load\n",
    "\n",
    "Let's see how the autoscaler reacts to increasing the load. To do this, we can slightly modify the existing q6_test.py script by putting the operator that sends the request to the credit-card service into a loop.\n",
    "\n",
    "```\n",
    "while True:\n",
    "    sleep(0.1)\n",
    "    response = requests.post(url, json=client).json()\n",
    "    print(response)\n",
    "```\n",
    "\n",
    "Now you can run this script."
   ]
  },
  {
   "cell_type": "code",
   "execution_count": 17,
   "id": "e76b360e",
   "metadata": {},
   "outputs": [],
   "source": [
    "!kubectl port-forward service/credit-card-service 9696:80"
   ]
  },
  {
   "cell_type": "code",
   "execution_count": null,
   "id": "cae8c783",
   "metadata": {},
   "outputs": [],
   "source": [
    "import requests\n",
    "\n",
    "\n",
    "url = \"http://localhost:9696/predict\"\n",
    "\n",
    "client = {\"reports\": 0, \"share\": 0.245, \"expenditure\": 3.438, \"owner\": \"yes\"}\n",
    "response = requests.post(url, json=client).json()\n",
    "\n",
    "print(response)"
   ]
  },
  {
   "cell_type": "code",
   "execution_count": null,
   "id": "8250199c",
   "metadata": {},
   "outputs": [],
   "source": [
    "!kubectl autoscale deployment credit-card --name credit-card-hpa --cpu-percent=20 --min=1 --max=3\n",
    "!kubectl get hpa # on MACOS for live feedback: watch kubectl get hpa"
   ]
  },
  {
   "cell_type": "code",
   "execution_count": null,
   "id": "580d2313",
   "metadata": {},
   "outputs": [],
   "source": [
    "from time import sleep\n",
    "import requests\n",
    "\n",
    "url = \"http://localhost:9696/predict\"\n",
    "\n",
    "client = {\"reports\": 0, \"share\": 0.245, \"expenditure\": 3.438, \"owner\": \"yes\"}\n",
    "\n",
    "while True:\n",
    "    sleep(0.01)\n",
    "    response = requests.post(url, json=client).json()"
   ]
  },
  {
   "cell_type": "markdown",
   "id": "b83c8bbe",
   "metadata": {},
   "source": [
    "### Question 8 (optional)\n",
    "\n",
    "Run kubectl get hpa credit-card-hpa --watch command to monitor how the autoscaler performs. Within a minute or so, you should see the higher CPU load; and then - more replicas. What was the maximum amount of the replicas during this test?\n",
    "\n",
    "- 1\n",
    "\n",
    "- 2\n",
    "\n",
    "- 3\n",
    "\n",
    "- 4\n",
    "> Note: It may take a few minutes to stabilize the number of replicas. Since the amount of load is not controlled in any way it may happen that the final number of replicas will differ from initial."
   ]
  },
  {
   "cell_type": "markdown",
   "id": "9d61939b",
   "metadata": {},
   "source": [
    "Answer: `3`"
   ]
  },
  {
   "cell_type": "code",
   "execution_count": null,
   "id": "95b76f94",
   "metadata": {},
   "outputs": [],
   "source": []
  }
 ],
 "metadata": {
  "kernelspec": {
   "display_name": "Python 3 (ipykernel)",
   "language": "python",
   "name": "python3"
  },
  "language_info": {
   "codemirror_mode": {
    "name": "ipython",
    "version": 3
   },
   "file_extension": ".py",
   "mimetype": "text/x-python",
   "name": "python",
   "nbconvert_exporter": "python",
   "pygments_lexer": "ipython3",
   "version": "3.9.13"
  }
 },
 "nbformat": 4,
 "nbformat_minor": 5
}
