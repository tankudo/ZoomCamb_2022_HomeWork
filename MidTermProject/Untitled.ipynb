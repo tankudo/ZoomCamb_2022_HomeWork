{
 "cells": [
  {
   "cell_type": "code",
   "execution_count": 1,
   "id": "ec46026b",
   "metadata": {},
   "outputs": [
    {
     "data": {
      "application/javascript": [
       "IPython.notebook.set_autosave_interval(0)"
      ]
     },
     "metadata": {},
     "output_type": "display_data"
    },
    {
     "name": "stdout",
     "output_type": "stream",
     "text": [
      "Autosave disabled\n"
     ]
    }
   ],
   "source": [
    "%autosave 0"
   ]
  },
  {
   "cell_type": "code",
   "execution_count": 2,
   "id": "57309f12",
   "metadata": {},
   "outputs": [],
   "source": [
    "import requests"
   ]
  },
  {
   "cell_type": "code",
   "execution_count": 3,
   "id": "eeb5500a",
   "metadata": {},
   "outputs": [],
   "source": [
    "url = \"http://localhost:9696/predict\""
   ]
  },
  {
   "cell_type": "code",
   "execution_count": 4,
   "id": "52f92998",
   "metadata": {},
   "outputs": [],
   "source": [
    "card = {\"V1\": -1.377245329,\n",
    " \"V2\": 0.714822534,\n",
    " \"V3\": 2.507512766,\n",
    " \"V4\": 0.865082434,\n",
    " \"V5\": -0.290489181,\n",
    " \"V6\": 1.077327555,\n",
    " \"V7\": 0.032507083,\n",
    " \"V8\": 0.510945608,\n",
    " \"V9\": 0.717788301,\n",
    " \"V10\": -0.256417813,\n",
    " \"V11\": 0.316423719,\n",
    " \"V12\": 0.759520508,\n",
    " \"V13\": -1.439420629,\n",
    " \"V14\": -0.592772797,\n",
    " \"V15\": -2.397140825,\n",
    " \"V16\": -1.072538941,\n",
    " \"V17\": 0.615996407,\n",
    " \"V18\": -0.58145074,\n",
    " \"V19\": 0.714980257,\n",
    " \"V20\": -0.125335333,\n",
    " \"V21\": -0.341852731,\n",
    " \"V22\": -0.60673121,\n",
    " \"V23\": -0.0997405,\n",
    " \"V24\": -0.009123052,\n",
    " \"V25\": 0.32837917,\n",
    " \"V26\": -0.506683335,\n",
    " \"V27\": -0.032234738,\n",
    " \"V28\": 0.139840723,\n",
    " \"NormAmount\": -0.299135286762843}"
   ]
  },
  {
   "cell_type": "code",
   "execution_count": 13,
   "id": "da52bdc9",
   "metadata": {},
   "outputs": [
    {
     "data": {
      "text/plain": [
       "{'card type': True, 'prediction': 0.0}"
      ]
     },
     "execution_count": 13,
     "metadata": {},
     "output_type": "execute_result"
    }
   ],
   "source": [
    "requests.post(url, json=card).json()"
   ]
  },
  {
   "cell_type": "code",
   "execution_count": null,
   "id": "3fb943be",
   "metadata": {},
   "outputs": [],
   "source": []
  }
 ],
 "metadata": {
  "kernelspec": {
   "display_name": "Python 3 (ipykernel)",
   "language": "python",
   "name": "python3"
  },
  "language_info": {
   "codemirror_mode": {
    "name": "ipython",
    "version": 3
   },
   "file_extension": ".py",
   "mimetype": "text/x-python",
   "name": "python",
   "nbconvert_exporter": "python",
   "pygments_lexer": "ipython3",
   "version": "3.9.13"
  }
 },
 "nbformat": 4,
 "nbformat_minor": 5
}
