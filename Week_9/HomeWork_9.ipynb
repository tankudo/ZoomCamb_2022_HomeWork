{
 "cells": [
  {
   "cell_type": "markdown",
   "id": "6052a966",
   "metadata": {},
   "source": [
    "## Homework 9\n",
    "\n",
    "In this homework, we'll deploy the dino or dragon model we trained in the previous homework.\n",
    "\n",
    "Download the model from [here](https://github.com/SVizor42/ML_Zoomcamp/releases/download/dino-dragon-model/dino_dragon_10_0.899.h5)"
   ]
  },
  {
   "cell_type": "markdown",
   "id": "7b3a0538",
   "metadata": {},
   "source": [
    "### Question 1\n",
    "\n",
    "Now convert this model from Keras to TF-Lite format.\n",
    "\n",
    "What's the size of the converted model?\n",
    "\n",
    "- 21 Mb\n",
    "\n",
    "- 43 Mb\n",
    "\n",
    "- 80 Mb\n",
    "\n",
    "- 164 Mb"
   ]
  },
  {
   "cell_type": "code",
   "execution_count": 2,
   "id": "414430e8",
   "metadata": {
    "scrolled": true
   },
   "outputs": [],
   "source": [
    "import tensorflow as tf\n",
    "from tensorflow import keras\n",
    "from keras_image_helper import create_preprocessor"
   ]
  },
  {
   "cell_type": "code",
   "execution_count": 5,
   "id": "0b9908ef",
   "metadata": {
    "scrolled": true
   },
   "outputs": [
    {
     "name": "stderr",
     "output_type": "stream",
     "text": [
      "2022-11-27 08:12:39.749023: I tensorflow/core/platform/cpu_feature_guard.cc:193] This TensorFlow binary is optimized with oneAPI Deep Neural Network Library (oneDNN) to use the following CPU instructions in performance-critical operations:  AVX2 FMA\n",
      "To enable them in other operations, rebuild TensorFlow with the appropriate compiler flags.\n"
     ]
    }
   ],
   "source": [
    "model = keras.models.load_model('dino_dragon_10_0.899.h5')"
   ]
  },
  {
   "cell_type": "code",
   "execution_count": 8,
   "id": "1d95f3f4",
   "metadata": {},
   "outputs": [
    {
     "name": "stderr",
     "output_type": "stream",
     "text": [
      "WARNING:absl:Found untraced functions such as _jit_compiled_convolution_op while saving (showing 1 of 1). These functions will not be directly callable after loading.\n"
     ]
    },
    {
     "name": "stdout",
     "output_type": "stream",
     "text": [
      "INFO:tensorflow:Assets written to: /var/folders/mp/981dprsj49dbyd4clvj123sm0000gn/T/tmpv1ou4g4x/assets\n"
     ]
    },
    {
     "name": "stderr",
     "output_type": "stream",
     "text": [
      "INFO:tensorflow:Assets written to: /var/folders/mp/981dprsj49dbyd4clvj123sm0000gn/T/tmpv1ou4g4x/assets\n",
      "2022-11-27 08:15:06.458564: W tensorflow/compiler/mlir/lite/python/tf_tfl_flatbuffer_helpers.cc:362] Ignored output_format.\n",
      "2022-11-27 08:15:06.458587: W tensorflow/compiler/mlir/lite/python/tf_tfl_flatbuffer_helpers.cc:365] Ignored drop_control_dependency.\n",
      "2022-11-27 08:15:06.458725: I tensorflow/cc/saved_model/reader.cc:45] Reading SavedModel from: /var/folders/mp/981dprsj49dbyd4clvj123sm0000gn/T/tmpv1ou4g4x\n",
      "2022-11-27 08:15:06.460337: I tensorflow/cc/saved_model/reader.cc:89] Reading meta graph with tags { serve }\n",
      "2022-11-27 08:15:06.460351: I tensorflow/cc/saved_model/reader.cc:130] Reading SavedModel debug info (if present) from: /var/folders/mp/981dprsj49dbyd4clvj123sm0000gn/T/tmpv1ou4g4x\n",
      "2022-11-27 08:15:06.465815: I tensorflow/cc/saved_model/loader.cc:229] Restoring SavedModel bundle.\n",
      "2022-11-27 08:15:06.548193: I tensorflow/cc/saved_model/loader.cc:213] Running initialization op on SavedModel bundle at path: /var/folders/mp/981dprsj49dbyd4clvj123sm0000gn/T/tmpv1ou4g4x\n",
      "2022-11-27 08:15:06.558556: I tensorflow/cc/saved_model/loader.cc:305] SavedModel load for tags { serve }; Status: success: OK. Took 99830 microseconds.\n"
     ]
    }
   ],
   "source": [
    "converter = tf.lite.TFLiteConverter.from_keras_model(model)\n",
    "tflite_model = converter.convert()\n",
    "\n",
    "with open('dino_dragon.tflite', 'wb') as f_out:\n",
    "    f_out.write(tflite_model)"
   ]
  },
  {
   "cell_type": "code",
   "execution_count": 11,
   "id": "4d79552c",
   "metadata": {
    "scrolled": true
   },
   "outputs": [
    {
     "name": "stdout",
     "output_type": "stream",
     "text": [
      "total 262968\r\n",
      "-rw-r--r--   1 tatyjanaankudo  staff   7.8K Nov 27 08:16 HomeWork_9.ipynb\r\n",
      "drwxr-xr-x  11 tatyjanaankudo  staff   352B Nov 26 22:15 \u001b[34mTheory\u001b[m\u001b[m\r\n",
      "drwxr-xr-x   3 tatyjanaankudo  staff    96B Nov 26 18:56 \u001b[34m__pycache__\u001b[m\u001b[m\r\n",
      "-rw-r--r--   1 tatyjanaankudo  staff    43M Nov 27 08:15 dino_dragon.tflite\r\n",
      "-rw-r--r--@  1 tatyjanaankudo  staff    86M Nov 27 07:34 dino_dragon_10_0.899.h5\r\n",
      "-rw-r--r--   1 tatyjanaankudo  staff   278B Nov 27 07:48 test.py\r\n"
     ]
    }
   ],
   "source": [
    "!ls -lh"
   ]
  },
  {
   "cell_type": "markdown",
   "id": "8f0bebf5",
   "metadata": {},
   "source": [
    "`Answer - 43M`"
   ]
  },
  {
   "cell_type": "markdown",
   "id": "17ab1b9a",
   "metadata": {},
   "source": [
    "### Question 2\n",
    "\n",
    "To be able to use this model, we need to know the index of the input and the index of the output.\n",
    "\n",
    "What's the output index for this model?\n",
    "\n",
    "- 3\n",
    "\n",
    "- 7\n",
    "\n",
    "- 13\n",
    "\n",
    "- 24"
   ]
  },
  {
   "cell_type": "code",
   "execution_count": 12,
   "id": "358b2fca",
   "metadata": {},
   "outputs": [],
   "source": [
    "import tensorflow.lite as tflite"
   ]
  },
  {
   "cell_type": "code",
   "execution_count": 14,
   "id": "60037556",
   "metadata": {},
   "outputs": [],
   "source": [
    "interpreter = tflite.Interpreter(model_path='dino_dragon.tflite')\n",
    "interpreter.allocate_tensors()\n",
    "\n",
    "input_index = interpreter.get_input_details()[0]['index']\n",
    "output_index = interpreter.get_output_details()[0]['index']"
   ]
  },
  {
   "cell_type": "code",
   "execution_count": 15,
   "id": "79364a9c",
   "metadata": {},
   "outputs": [
    {
     "data": {
      "text/plain": [
       "13"
      ]
     },
     "execution_count": 15,
     "metadata": {},
     "output_type": "execute_result"
    }
   ],
   "source": [
    "output_index"
   ]
  },
  {
   "cell_type": "markdown",
   "id": "857fa428",
   "metadata": {},
   "source": [
    "`Answer - 13`"
   ]
  },
  {
   "cell_type": "markdown",
   "id": "d9d462b4",
   "metadata": {},
   "source": [
    "Preparing the image\n",
    "\n",
    "You'll need some code for downloading and resizing images. You can use this code:"
   ]
  },
  {
   "cell_type": "code",
   "execution_count": 16,
   "id": "adc84bce",
   "metadata": {},
   "outputs": [],
   "source": [
    "from io import BytesIO\n",
    "from urllib import request\n",
    "\n",
    "from PIL import Image\n",
    "\n",
    "def download_image(url):\n",
    "    with request.urlopen(url) as resp:\n",
    "        buffer = resp.read()\n",
    "    stream = BytesIO(buffer)\n",
    "    img = Image.open(stream)\n",
    "    return img\n",
    "\n",
    "\n",
    "def prepare_image(img, target_size):\n",
    "    if img.mode != 'RGB':\n",
    "        img = img.convert('RGB')\n",
    "    img = img.resize(target_size, Image.NEAREST)\n",
    "    return img"
   ]
  },
  {
   "cell_type": "markdown",
   "id": "50adeb3a",
   "metadata": {},
   "source": [
    "For that, you'll need to have pillow installed:"
   ]
  },
  {
   "cell_type": "markdown",
   "id": "43ef759f",
   "metadata": {},
   "source": [
    "Let's download and resize this [image](https://upload.wikimedia.org/wikipedia/commons/thumb/d/df/Smaug_par_David_Demaret.jpg/1280px-Smaug_par_David_Demaret.jpg):\n",
    "\n",
    "Based on the previous homework, what should be the target size for the image?"
   ]
  },
  {
   "cell_type": "code",
   "execution_count": 18,
   "id": "8c529de3",
   "metadata": {},
   "outputs": [],
   "source": [
    "url_img = 'https://upload.wikimedia.org/wikipedia/commons/thumb/d/df/Smaug_par_David_Demaret.jpg/1280px-Smaug_par_David_Demaret.jpg'"
   ]
  },
  {
   "cell_type": "code",
   "execution_count": 32,
   "id": "54989df5",
   "metadata": {},
   "outputs": [
    {
     "name": "stderr",
     "output_type": "stream",
     "text": [
      "/var/folders/mp/981dprsj49dbyd4clvj123sm0000gn/T/ipykernel_673/2487457277.py:17: DeprecationWarning: NEAREST is deprecated and will be removed in Pillow 10 (2023-07-01). Use Resampling.NEAREST or Dither.NONE instead.\n",
      "  img = img.resize(target_size, Image.NEAREST)\n"
     ]
    }
   ],
   "source": [
    "IMG_SIZE = (150, 150)\n",
    "img = download_image(url_img)\n",
    "img = prepare_image(img, IMG_SIZE)"
   ]
  },
  {
   "cell_type": "markdown",
   "id": "789ddfd2",
   "metadata": {},
   "source": [
    "### Question 3\n",
    "\n",
    "Now we need to turn the image into numpy array and pre-process it.\n",
    "\n",
    "Tip: Check the previous homework. What was the pre-processing we did there?\n",
    "After the pre-processing, what's the value in the first pixel, the R channel?\n",
    "\n",
    "- 0.3353411\n",
    "\n",
    "- 0.5529412\n",
    "\n",
    "- 0.7458824\n",
    "\n",
    "- 0.9654902"
   ]
  },
  {
   "cell_type": "code",
   "execution_count": 29,
   "id": "7959a04f",
   "metadata": {},
   "outputs": [],
   "source": [
    "from tensorflow.keras.preprocessing.image import load_img\n",
    "from tensorflow.keras.applications.xception import preprocess_input\n",
    "import numpy as np"
   ]
  },
  {
   "cell_type": "code",
   "execution_count": 39,
   "id": "18b3a12c",
   "metadata": {},
   "outputs": [],
   "source": [
    "x = np.array(img, dtype='float32')\n",
    "X = np.array([x])/255\n",
    "\n",
    "X = X.astype(np.float32)"
   ]
  },
  {
   "cell_type": "code",
   "execution_count": 40,
   "id": "96fb7068",
   "metadata": {},
   "outputs": [
    {
     "data": {
      "text/plain": [
       "0.5529412"
      ]
     },
     "execution_count": 40,
     "metadata": {},
     "output_type": "execute_result"
    }
   ],
   "source": [
    "X[0][0,0,0]"
   ]
  },
  {
   "cell_type": "markdown",
   "id": "09bb810b",
   "metadata": {},
   "source": [
    "`Answer 0.5529412`"
   ]
  },
  {
   "cell_type": "markdown",
   "id": "3a437afb",
   "metadata": {},
   "source": [
    "### Question 4\n",
    "\n",
    "Now let's apply this model to this image. What's the output of the model?\n",
    "\n",
    "- 0.17049132\n",
    "\n",
    "- 0.39009996\n",
    "\n",
    "- 0.60146114\n",
    "\n",
    "- 0.82448614"
   ]
  },
  {
   "cell_type": "code",
   "execution_count": 42,
   "id": "af23fa00",
   "metadata": {},
   "outputs": [
    {
     "data": {
      "text/plain": [
       "(1, 150, 150, 3)"
      ]
     },
     "execution_count": 42,
     "metadata": {},
     "output_type": "execute_result"
    }
   ],
   "source": [
    "X.shape"
   ]
  },
  {
   "cell_type": "code",
   "execution_count": 43,
   "id": "4de3caff",
   "metadata": {},
   "outputs": [
    {
     "name": "stdout",
     "output_type": "stream",
     "text": [
      "1/1 [==============================] - 0s 139ms/step\n"
     ]
    }
   ],
   "source": [
    "preds = model.predict(X)"
   ]
  },
  {
   "cell_type": "code",
   "execution_count": 44,
   "id": "51c75804",
   "metadata": {},
   "outputs": [
    {
     "data": {
      "text/plain": [
       "array([[0.82448584]], dtype=float32)"
      ]
     },
     "execution_count": 44,
     "metadata": {},
     "output_type": "execute_result"
    }
   ],
   "source": [
    "preds"
   ]
  },
  {
   "cell_type": "markdown",
   "id": "ba784fa1",
   "metadata": {},
   "source": [
    "`Answer 0.82448584`"
   ]
  },
  {
   "cell_type": "markdown",
   "id": "a69357e8",
   "metadata": {},
   "source": [
    "#### Prepare the lambda code\n",
    "\n",
    "Now you need to copy all the code into a separate python file. You will need to use this file for the next two questions.\n",
    "\n",
    "Tip: you can test this file locally with ipython or Jupyter Notebook by importing the file and invoking the function from this file.\n",
    "\n",
    "#### Docker\n",
    "\n",
    "For the next two questions, we'll use a Docker image that we already prepared. This is the Dockerfile that we used for creating the image:\n",
    "\n",
    "```\n",
    "FROM public.ecr.aws/lambda/python:3.9\n",
    "COPY dino-vs-dragon-v2.tflite .\n",
    "```\n",
    "\n",
    "And pushed it to svizor42/zoomcamp-dino-dragon-lambda:v2.\n",
    "\n",
    "A few notes:\n",
    "\n",
    "The image already contains a model and it's not the same model as the one we used for questions 1-4.\n",
    "The version of Python is 3.9, so you need to use the right wheel for TF-Lite. For Tensorflow 2.7.0, [it's](https://github.com/alexeygrigorev/tflite-aws-lambda/raw/main/tflite/tflite_runtime-2.7.0-cp39-cp39-linux_x86_64.whl)"
   ]
  },
  {
   "cell_type": "markdown",
   "id": "df201990",
   "metadata": {},
   "source": [
    "### Question 5\n",
    "\n",
    "Download the base image svizor42/zoomcamp-dino-dragon-lambda:v2. You can easily make it by using docker pull command.\n",
    "\n",
    "So what's the size of this base image?\n",
    "\n",
    "- 139 Mb\n",
    "\n",
    "- 329 Mb\n",
    "\n",
    "- 639 Mb\n",
    "\n",
    "- 929 Mb\n",
    "\n",
    "You can get this information when running docker images - it'll be in the \"SIZE\" column."
   ]
  },
  {
   "cell_type": "markdown",
   "id": "914f9b72",
   "metadata": {},
   "source": [
    "Build container and test:\n",
    "\n",
    "```\n",
    "$ docker build -t dino_dragon \n",
    "\n",
    "$ docker run -it --rm -p 8080:8080 dino_dragon:latest\n",
    "\n",
    "$ python request.py\n",
    "\n",
    "```\n",
    "\n",
    "To get size of the image:\n",
    "\n",
    "```\n",
    "$ docker inspect -f \"{{ .Size }}\" svizor42/zoomcamp-dino-dragon-lambda:v2\n",
    "```\n"
   ]
  },
  {
   "cell_type": "markdown",
   "id": "f8bd7c5a",
   "metadata": {},
   "source": [
    "docker images dino_dragon"
   ]
  },
  {
   "cell_type": "markdown",
   "id": "c9bd241f",
   "metadata": {},
   "source": [
    "`answer: 639M`"
   ]
  },
  {
   "cell_type": "markdown",
   "id": "fe2ef676",
   "metadata": {},
   "source": [
    "### Question 6\n",
    "\n",
    "Now let's extend this docker image, install all the required libraries and add the code for lambda.\n",
    "\n",
    "You don't need to include the model in the image. It's already included. The name of the file with the model is dino-vs-dragon-v2.tflite and it's in the current workdir in the image (see the Dockerfile above for the reference).\n",
    "\n",
    "Now run the container locally.\n",
    "\n",
    "Score this [image](https://upload.wikimedia.org/wikipedia/en/e/e9/GodzillaEncounterModel.jpg)\n",
    "\n",
    "What's the output from the model?\n",
    "\n",
    "- 0.12\n",
    "\n",
    "- 0.32\n",
    "\n",
    "- 0.52\n",
    "\n",
    "- 0.72\n",
    "\n",
    "```\n",
    "$ docker build -t dino_dragon .\n",
    "\n",
    "$ run : docker run -it --rm -p 8080:8080 dino_dragon\n",
    "\n",
    "$ run : python request.py\n",
    "```\n"
   ]
  },
  {
   "cell_type": "markdown",
   "id": "fd42316b",
   "metadata": {},
   "source": [
    "`Answer 0.32`"
   ]
  },
  {
   "cell_type": "markdown",
   "id": "8bdc7451",
   "metadata": {},
   "source": [
    "Publishing it to AWS\n",
    "\n",
    "Now you can deploy your model to AWS!\n",
    "\n",
    "Publish your image to ECR\n",
    "Create a lambda function in AWS, use the ECR image\n",
    "Give it more RAM and increase the timeout\n",
    "Test it\n",
    "Expose the lambda function using API Gateway\n",
    "This is optional and not graded.\n",
    "\n",
    "Publishing to Docker hub\n",
    "\n",
    "This is just for reference, this is how we published our image to Docker hub:\n",
    "\n",
    "docker build -t zoomcamp-dino-dragon-lambda .\n",
    "docker tag zoomcamp-dino-dragon-lambda:latest svizor42/zoomcamp-dino-dragon-lambda:v2\n",
    "docker push svizor42/zoomcamp-dino-dragon-lambda:v2\n",
    "Submit the results\n",
    "\n",
    "Submit your results here: https://forms.gle/Pnx563ELg9jgjxHX6\n",
    "You can submit your solution multiple times. In this case, only the last submission will be used\n",
    "If your answer doesn't match options exactly, select the closest one"
   ]
  },
  {
   "cell_type": "code",
   "execution_count": null,
   "id": "1149a76e",
   "metadata": {},
   "outputs": [],
   "source": []
  }
 ],
 "metadata": {
  "kernelspec": {
   "display_name": "Python 3 (ipykernel)",
   "language": "python",
   "name": "python3"
  },
  "language_info": {
   "codemirror_mode": {
    "name": "ipython",
    "version": 3
   },
   "file_extension": ".py",
   "mimetype": "text/x-python",
   "name": "python",
   "nbconvert_exporter": "python",
   "pygments_lexer": "ipython3",
   "version": "3.9.13"
  }
 },
 "nbformat": 4,
 "nbformat_minor": 5
}
