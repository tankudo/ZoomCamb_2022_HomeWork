{
 "cells": [
  {
   "cell_type": "markdown",
   "id": "299a2e96",
   "metadata": {},
   "source": [
    "## Homework 9\n",
    "\n",
    "In this homework, we'll deploy the dino or dragon model we trained in the previous homework.\n",
    "\n",
    "Download the model from [here](https://github.com/SVizor42/ML_Zoomcamp/releases/download/dino-dragon-model/dino_dragon_10_0.899.h5)"
   ]
  },
  {
   "cell_type": "markdown",
   "id": "f83a3e59",
   "metadata": {},
   "source": [
    "##Question 1\n",
    "\n",
    "Now convert this model from Keras to TF-Lite format.\n",
    "\n",
    "What's the size of the converted model?\n",
    "\n",
    "21 Mb\n",
    "43 Mb\n",
    "80 Mb\n",
    "164 Mb"
   ]
  }
 ],
 "metadata": {
  "kernelspec": {
   "display_name": "Python 3 (ipykernel)",
   "language": "python",
   "name": "python3"
  },
  "language_info": {
   "codemirror_mode": {
    "name": "ipython",
    "version": 3
   },
   "file_extension": ".py",
   "mimetype": "text/x-python",
   "name": "python",
   "nbconvert_exporter": "python",
   "pygments_lexer": "ipython3",
   "version": "3.9.13"
  }
 },
 "nbformat": 4,
 "nbformat_minor": 5
}
