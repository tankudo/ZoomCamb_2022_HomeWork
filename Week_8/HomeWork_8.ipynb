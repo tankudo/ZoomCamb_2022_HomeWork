{
 "cells": [
  {
   "cell_type": "markdown",
   "id": "95ecab08",
   "metadata": {},
   "source": [
    "# Homework\n",
    "\n",
    "### Dataset\n",
    "\n",
    "In this homework, we'll build a model for predicting if we have an image of a dino or a dragon. For this, we will use the \"Dino or Dragon?\" dataset that can be downloaded from [Kaggle](https://www.kaggle.com/datasets/agrigorev/dino-or-dragon).\n",
    "\n",
    "In the lectures we saw how to use a pre-trained neural network. In the homework, we'll train a much smaller model from scratch.\n",
    "\n",
    "Note: You don't need a computer with a GPU for this homework. A laptop or any personal computer should be sufficient.\n",
    "\n",
    "### Data Preparation\n",
    "\n",
    "The dataset contains around 1900 images of dinos and around 1900 images of dragons.\n",
    "\n",
    "The dataset contains separate folders for training and validation.\n",
    "\n",
    "### Model\n",
    "\n",
    "For this homework we will use Convolutional Neural Network (CNN). Like in the lectures, we'll use Keras.\n",
    "\n",
    "You need to develop the model with following structure:\n",
    "\n",
    "- The shape for input should be (150, 150, 3)\n",
    "\n",
    "- Next, create a convolutional layer ([Conv2D](https://keras.io/api/layers/convolution_layers/convolution2d/)):\n",
    "\n",
    "    - Use 32 filters\n",
    "\n",
    "    - Kernel size should be (3, 3) (that's the size of the filter)\n",
    "\n",
    "    - Use 'relu' as activation\n",
    "\n",
    "- Reduce the size of the feature map with max pooling ([MaxPooling2D](https://keras.io/api/layers/pooling_layers/max_pooling2d/))\n",
    "\n",
    "    - Set the pooling size to (2, 2)\n",
    "\n",
    "- Turn the multi-dimensional result into vectors using a [Flatten](https://keras.io/api/layers/reshaping_layers/flatten/) layer\n",
    "\n",
    "- Next, add a Dense layer with 64 neurons and 'relu' activation\n",
    "\n",
    "- Finally, create the Dense layer with 1 neuron - this will be the output\n",
    "\n",
    "    - The output layer should have an activation - use the appropriate activation for the binary classification case\n",
    "\n",
    "- As optimizer use [SGD](https://keras.io/api/optimizers/sgd/) with the following parameters:\n",
    "\n",
    "    - SGD(lr=0.002, momentum=0.8)\n",
    "    \n",
    "For clarification about kernel size and max pooling, check [Office Hours](https://www.youtube.com/watch?v=1WRgdBTUaAc)."
   ]
  },
  {
   "cell_type": "markdown",
   "id": "eb936070",
   "metadata": {},
   "source": [
    "[Homework](https://github.com/alexeygrigorev/mlbookcamp-code/blob/master/course-zoomcamp/cohorts/2022/08-deep-learning/homework.md)\n",
    "\n",
    "### Submit the results\n",
    "\n",
    "Submit your results [here](https://forms.gle/XdH5ztBddvTvxzpT6): \n",
    "\n",
    "You can submit your solution multiple times. In this case, only the last submission will be used\n",
    "If your answer doesn't match options exactly, select the closest one\n",
    "Deadline\n",
    "\n",
    "- The deadline for submitting is 21 November 2022, 23:00 CEST.\n",
    "\n",
    "After that, the form will be closed."
   ]
  },
  {
   "cell_type": "code",
   "execution_count": null,
   "id": "9fec2343",
   "metadata": {},
   "outputs": [],
   "source": []
  }
 ],
 "metadata": {
  "kernelspec": {
   "display_name": "Python 3 (ipykernel)",
   "language": "python",
   "name": "python3"
  },
  "language_info": {
   "codemirror_mode": {
    "name": "ipython",
    "version": 3
   },
   "file_extension": ".py",
   "mimetype": "text/x-python",
   "name": "python",
   "nbconvert_exporter": "python",
   "pygments_lexer": "ipython3",
   "version": "3.9.13"
  }
 },
 "nbformat": 4,
 "nbformat_minor": 5
}
