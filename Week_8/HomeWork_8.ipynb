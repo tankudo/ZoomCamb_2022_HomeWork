{
 "cells": [
  {
   "cell_type": "markdown",
   "id": "9f83ef76-9e08-4354-9e65-04bd744f83c3",
   "metadata": {},
   "source": [
    "## Homework\n",
    "\n",
    "### Dataset\n",
    "\n",
    "In this homework, we'll build a model for predicting if we have an image of a dino or a dragon. For this, we will use the \"Dino or Dragon?\" dataset that can be downloaded from Kaggle.\n",
    "\n",
    "You can get a wget-able version here:\n",
    "\n",
    "wget https://github.com/alexeygrigorev/dino-or-dragon/releases/download/data/dino-dragon.zip\n",
    "unzip dino-dragon.zip\n",
    "\n",
    "In the lectures we saw how to use a pre-trained neural network. In the homework, we'll train a much smaller model from scratch.\n",
    "\n",
    "Note: You will need an environment with a GPU for this homework. We recommend to use Saturn Cloud. You can also use a computer without a GPU (e.g. your laptop), but it will be slower.\n",
    "\n",
    "### Data Preparation\n",
    "\n",
    "The dataset contains around 1900 images of dinos and around 1900 images of dragons.\n",
    "\n",
    "The dataset contains separate folders for training and test sets.\n",
    "\n",
    "### Model\n",
    "\n",
    "For this homework we will use Convolutional Neural Network (CNN). Like in the lectures, we'll use Keras.\n",
    "\n",
    "You need to develop the model with following structure:\n",
    "\n",
    "- The shape for input should be (150, 150, 3)\n",
    "- Next, create a convolutional layer (Conv2D):\n",
    "    - Use 32 filters\n",
    "    - Kernel size should be (3, 3) (that's the size of the filter)\n",
    "    - Use 'relu' as activation\n",
    "- Reduce the size of the feature map with max pooling (MaxPooling2D)\n",
    "    - Set the pooling size to (2, 2)\n",
    "- Turn the multi-dimensional result into vectors using a Flatten layer\n",
    "- Next, add a Dense layer with 64 neurons and 'relu' activation\n",
    "- Finally, create the Dense layer with 1 neuron - this will be the output\n",
    "    - The output layer should have an activation - use the appropriate activation for the binary classification case\n",
    "As optimizer use SGD with the following parameters:\n",
    "\n",
    "- SGD(lr=0.002, momentum=0.8)\n",
    "For clarification about kernel size and max pooling, check Office Hours."
   ]
  },
  {
   "cell_type": "code",
   "execution_count": 1,
   "id": "65ea03ea-a4f5-4a64-9582-1ed86eef444c",
   "metadata": {
    "execution": {
     "iopub.execute_input": "2022-11-20T19:58:25.555834Z",
     "iopub.status.busy": "2022-11-20T19:58:25.555447Z",
     "iopub.status.idle": "2022-11-20T19:58:27.518067Z",
     "shell.execute_reply": "2022-11-20T19:58:27.517351Z",
     "shell.execute_reply.started": "2022-11-20T19:58:25.555749Z"
    },
    "tags": []
   },
   "outputs": [
    {
     "name": "stderr",
     "output_type": "stream",
     "text": [
      "2022-11-20 19:58:25.709165: I tensorflow/core/util/util.cc:169] oneDNN custom operations are on. You may see slightly different numerical results due to floating-point round-off errors from different computation orders. To turn them off, set the environment variable `TF_ENABLE_ONEDNN_OPTS=0`.\n"
     ]
    }
   ],
   "source": [
    "import tensorflow as tf"
   ]
  },
  {
   "cell_type": "code",
   "execution_count": 2,
   "id": "6aafcade-d5a8-4b79-8a95-8beb46766b23",
   "metadata": {
    "execution": {
     "iopub.execute_input": "2022-11-20T19:58:27.521886Z",
     "iopub.status.busy": "2022-11-20T19:58:27.519547Z",
     "iopub.status.idle": "2022-11-20T19:58:27.530701Z",
     "shell.execute_reply": "2022-11-20T19:58:27.529883Z",
     "shell.execute_reply.started": "2022-11-20T19:58:27.521860Z"
    },
    "tags": []
   },
   "outputs": [
    {
     "data": {
      "text/plain": [
       "'2.9.1'"
      ]
     },
     "execution_count": 2,
     "metadata": {},
     "output_type": "execute_result"
    }
   ],
   "source": [
    "tf.__version__"
   ]
  },
  {
   "cell_type": "code",
   "execution_count": 3,
   "id": "df2f4a30-6757-4842-9db2-18cb59d73263",
   "metadata": {
    "execution": {
     "iopub.execute_input": "2022-11-20T19:50:22.177727Z",
     "iopub.status.busy": "2022-11-20T19:50:22.177492Z",
     "iopub.status.idle": "2022-11-20T19:50:26.735323Z",
     "shell.execute_reply": "2022-11-20T19:50:26.734560Z",
     "shell.execute_reply.started": "2022-11-20T19:50:22.177681Z"
    },
    "tags": []
   },
   "outputs": [
    {
     "name": "stdout",
     "output_type": "stream",
     "text": [
      "Collecting wget\n",
      "  Using cached wget-3.2-py3-none-any.whl\n",
      "Installing collected packages: wget\n",
      "Successfully installed wget-3.2\n",
      "100% [..................................................] 109298562 / 109298562\n",
      "Saved under dino-dragon (1).zip\n"
     ]
    }
   ],
   "source": [
    "!pip install wget\n",
    "!python -m wget https://github.com/alexeygrigorev/dino-or-dragon/releases/download/data/dino-dragon.zip"
   ]
  },
  {
   "cell_type": "code",
   "execution_count": 4,
   "id": "5269edeb-22af-4846-9154-d97343efef1c",
   "metadata": {
    "execution": {
     "iopub.execute_input": "2022-11-20T19:50:26.736788Z",
     "iopub.status.busy": "2022-11-20T19:50:26.736435Z",
     "iopub.status.idle": "2022-11-20T19:50:27.539102Z",
     "shell.execute_reply": "2022-11-20T19:50:27.538312Z",
     "shell.execute_reply.started": "2022-11-20T19:50:26.736763Z"
    },
    "tags": []
   },
   "outputs": [
    {
     "name": "stdout",
     "output_type": "stream",
     "text": [
      "mkdir: cannot create directory ‘dino_dragon’: File exists\n"
     ]
    }
   ],
   "source": [
    "!mkdir dino_dragon"
   ]
  },
  {
   "cell_type": "code",
   "execution_count": 5,
   "id": "a31e06d3-1333-42aa-9abb-20e50c64d520",
   "metadata": {
    "execution": {
     "iopub.execute_input": "2022-11-20T19:50:27.541626Z",
     "iopub.status.busy": "2022-11-20T19:50:27.541225Z",
     "iopub.status.idle": "2022-11-20T19:57:58.717364Z",
     "shell.execute_reply": "2022-11-20T19:57:58.716493Z",
     "shell.execute_reply.started": "2022-11-20T19:50:27.541590Z"
    },
    "tags": []
   },
   "outputs": [
    {
     "name": "stdout",
     "output_type": "stream",
     "text": [
      "Archive:  dino-dragon.zip\n",
      "replace dino_dragon/test/dino/001db8b8-33ff-44b3-8f50-325f4ab4f713.jpg? [y]es, [n]o, [A]ll, [N]one, [r]ename: ^C\n"
     ]
    }
   ],
   "source": [
    "!unzip dino-dragon.zip -d dino_dragon"
   ]
  },
  {
   "cell_type": "code",
   "execution_count": 3,
   "id": "608d21d2-398e-45db-a1b9-29410ba61d4d",
   "metadata": {
    "execution": {
     "iopub.execute_input": "2022-11-20T19:58:36.665226Z",
     "iopub.status.busy": "2022-11-20T19:58:36.664820Z",
     "iopub.status.idle": "2022-11-20T19:58:37.162495Z",
     "shell.execute_reply": "2022-11-20T19:58:37.161890Z",
     "shell.execute_reply.started": "2022-11-20T19:58:36.665202Z"
    },
    "tags": []
   },
   "outputs": [],
   "source": [
    "import numpy as np\n",
    "import matplotlib.pyplot as plt\n",
    "import tensorflow as tf\n",
    "from tensorflow import keras\n",
    "\n",
    "from tensorflow.keras import layers\n",
    "from tensorflow.keras import models\n",
    "from tensorflow.keras import optimizers\n",
    "from tensorflow.keras.preprocessing.image import ImageDataGenerator\n",
    "\n",
    "%matplotlib inline"
   ]
  },
  {
   "cell_type": "code",
   "execution_count": 4,
   "id": "ac74503b-0030-42d5-9966-0aa74cadb121",
   "metadata": {
    "execution": {
     "iopub.execute_input": "2022-11-20T19:58:37.392228Z",
     "iopub.status.busy": "2022-11-20T19:58:37.391411Z",
     "iopub.status.idle": "2022-11-20T19:58:37.395441Z",
     "shell.execute_reply": "2022-11-20T19:58:37.394779Z",
     "shell.execute_reply.started": "2022-11-20T19:58:37.392199Z"
    },
    "tags": []
   },
   "outputs": [],
   "source": [
    "test_dir = 'dino_dragon/test/'\n",
    "train_dir = 'dino_dragon/train/'"
   ]
  },
  {
   "cell_type": "markdown",
   "id": "1a607137-00fa-43a8-8304-e0e37e883ca6",
   "metadata": {},
   "source": [
    "## Model"
   ]
  },
  {
   "cell_type": "code",
   "execution_count": 5,
   "id": "2850b78d-0fc4-4654-8604-c98cdb426cf4",
   "metadata": {
    "execution": {
     "iopub.execute_input": "2022-11-20T19:58:38.415313Z",
     "iopub.status.busy": "2022-11-20T19:58:38.414920Z",
     "iopub.status.idle": "2022-11-20T19:58:39.541421Z",
     "shell.execute_reply": "2022-11-20T19:58:39.540731Z",
     "shell.execute_reply.started": "2022-11-20T19:58:38.415290Z"
    },
    "tags": []
   },
   "outputs": [
    {
     "name": "stderr",
     "output_type": "stream",
     "text": [
      "2022-11-20 19:58:38.478325: I tensorflow/stream_executor/cuda/cuda_gpu_executor.cc:975] successful NUMA node read from SysFS had negative value (-1), but there must be at least one NUMA node, so returning NUMA node zero\n",
      "2022-11-20 19:58:38.486345: I tensorflow/stream_executor/cuda/cuda_gpu_executor.cc:975] successful NUMA node read from SysFS had negative value (-1), but there must be at least one NUMA node, so returning NUMA node zero\n",
      "2022-11-20 19:58:38.486946: I tensorflow/stream_executor/cuda/cuda_gpu_executor.cc:975] successful NUMA node read from SysFS had negative value (-1), but there must be at least one NUMA node, so returning NUMA node zero\n",
      "2022-11-20 19:58:38.488138: I tensorflow/core/platform/cpu_feature_guard.cc:193] This TensorFlow binary is optimized with oneAPI Deep Neural Network Library (oneDNN) to use the following CPU instructions in performance-critical operations:  AVX2 AVX512F AVX512_VNNI FMA\n",
      "To enable them in other operations, rebuild TensorFlow with the appropriate compiler flags.\n",
      "2022-11-20 19:58:38.488503: I tensorflow/stream_executor/cuda/cuda_gpu_executor.cc:975] successful NUMA node read from SysFS had negative value (-1), but there must be at least one NUMA node, so returning NUMA node zero\n",
      "2022-11-20 19:58:38.489103: I tensorflow/stream_executor/cuda/cuda_gpu_executor.cc:975] successful NUMA node read from SysFS had negative value (-1), but there must be at least one NUMA node, so returning NUMA node zero\n",
      "2022-11-20 19:58:38.489656: I tensorflow/stream_executor/cuda/cuda_gpu_executor.cc:975] successful NUMA node read from SysFS had negative value (-1), but there must be at least one NUMA node, so returning NUMA node zero\n",
      "2022-11-20 19:58:39.129400: I tensorflow/stream_executor/cuda/cuda_gpu_executor.cc:975] successful NUMA node read from SysFS had negative value (-1), but there must be at least one NUMA node, so returning NUMA node zero\n",
      "2022-11-20 19:58:39.130070: I tensorflow/stream_executor/cuda/cuda_gpu_executor.cc:975] successful NUMA node read from SysFS had negative value (-1), but there must be at least one NUMA node, so returning NUMA node zero\n",
      "2022-11-20 19:58:39.130633: I tensorflow/stream_executor/cuda/cuda_gpu_executor.cc:975] successful NUMA node read from SysFS had negative value (-1), but there must be at least one NUMA node, so returning NUMA node zero\n",
      "2022-11-20 19:58:39.131161: I tensorflow/core/common_runtime/gpu/gpu_device.cc:1532] Created device /job:localhost/replica:0/task:0/device:GPU:0 with 13795 MB memory:  -> device: 0, name: Tesla T4, pci bus id: 0000:00:1e.0, compute capability: 7.5\n"
     ]
    }
   ],
   "source": [
    "#  use Convolutional Neural Network (CNN)\n",
    "model = models.Sequential()\n",
    "\n",
    "#The shape for input should be (150, 150, 3)\n",
    "# convolutional layer (Conv2D)- 32 filters, kernel size (3, 3), relu for activation\n",
    "model.add(layers.Conv2D(32, (3, 3), activation='relu', input_shape=(150, 150, 3)))\n",
    "\n",
    "# Reduce the size of the feature map with max pooling (MaxPooling2D)\n",
    "# Set the pooling size to (2, 2)\n",
    "model.add(layers.MaxPooling2D((2, 2)))\n",
    "\n",
    "# Turn the multi-dimensional result into vectors using a Flatten layer\n",
    "model.add(layers.Flatten())\n",
    "\n",
    "# add a Dense layer with 64 neurons and 'relu' activation\n",
    "model.add(layers.Dense(64, activation='relu'))\n",
    "\n",
    "# create the Dense layer with 1 neuron - this is the output\n",
    "model.add(layers.Dense(1, activation='sigmoid'))"
   ]
  },
  {
   "cell_type": "markdown",
   "id": "b40d5ee0-b043-49c4-8e7f-4097415e6056",
   "metadata": {},
   "source": [
    "## Question 1\n",
    "\n",
    "Since we have a binary classification problem, what is the best loss function for us?\n",
    "\n",
    "- binary crossentropy\n",
    "- focal loss\n",
    "- mean squared error\n",
    "- categorical crossentropy\n",
    "\n",
    "Note: since we specify an activation for the output layer, we don't need to set from_logits=True"
   ]
  },
  {
   "cell_type": "code",
   "execution_count": 6,
   "id": "80fc6c38-944d-4e30-b676-6d97dc289022",
   "metadata": {
    "execution": {
     "iopub.execute_input": "2022-11-20T19:58:39.542940Z",
     "iopub.status.busy": "2022-11-20T19:58:39.542616Z",
     "iopub.status.idle": "2022-11-20T19:58:39.552616Z",
     "shell.execute_reply": "2022-11-20T19:58:39.551875Z",
     "shell.execute_reply.started": "2022-11-20T19:58:39.542918Z"
    },
    "tags": []
   },
   "outputs": [],
   "source": [
    "# as it's a binary classification,the loss function to use is binary_crossentropy\n",
    "model.compile(loss='binary_crossentropy',\\\n",
    "             optimizer=optimizers.SGD(learning_rate=0.002, momentum=0.8),\\\n",
    "             metrics=['acc'])"
   ]
  },
  {
   "cell_type": "markdown",
   "id": "ce3aa049-357a-4523-a710-ccd9c1687553",
   "metadata": {},
   "source": [
    "`Answer: binary crossentropy`"
   ]
  },
  {
   "cell_type": "markdown",
   "id": "e723b059-4cad-40a4-989c-0365d1b5b9ce",
   "metadata": {},
   "source": [
    "## Question 2\n",
    "\n",
    "What's the total number of parameters of the model? You can use the summary method for that.\n",
    "\n",
    "- 9215873\n",
    "- 11215873\n",
    "- 14215873\n",
    "- 19215873"
   ]
  },
  {
   "cell_type": "code",
   "execution_count": 7,
   "id": "f555b67d-46d7-41f2-a8a0-0f07a1bc8568",
   "metadata": {
    "execution": {
     "iopub.execute_input": "2022-11-20T19:58:40.308327Z",
     "iopub.status.busy": "2022-11-20T19:58:40.307943Z",
     "iopub.status.idle": "2022-11-20T19:58:40.323602Z",
     "shell.execute_reply": "2022-11-20T19:58:40.323011Z",
     "shell.execute_reply.started": "2022-11-20T19:58:40.308300Z"
    },
    "tags": []
   },
   "outputs": [
    {
     "name": "stdout",
     "output_type": "stream",
     "text": [
      "Model: \"sequential\"\n",
      "_________________________________________________________________\n",
      " Layer (type)                Output Shape              Param #   \n",
      "=================================================================\n",
      " conv2d (Conv2D)             (None, 148, 148, 32)      896       \n",
      "                                                                 \n",
      " max_pooling2d (MaxPooling2D  (None, 74, 74, 32)       0         \n",
      " )                                                               \n",
      "                                                                 \n",
      " flatten (Flatten)           (None, 175232)            0         \n",
      "                                                                 \n",
      " dense (Dense)               (None, 64)                11214912  \n",
      "                                                                 \n",
      " dense_1 (Dense)             (None, 1)                 65        \n",
      "                                                                 \n",
      "=================================================================\n",
      "Total params: 11,215,873\n",
      "Trainable params: 11,215,873\n",
      "Non-trainable params: 0\n",
      "_________________________________________________________________\n"
     ]
    }
   ],
   "source": [
    "model.summary()"
   ]
  },
  {
   "cell_type": "markdown",
   "id": "702d5eed-184b-4677-83e6-519f922bfb5d",
   "metadata": {},
   "source": [
    "`Answer: 11215873`"
   ]
  },
  {
   "cell_type": "markdown",
   "id": "cd5b91cc-70ee-4904-871c-8ce669128155",
   "metadata": {},
   "source": [
    "## Data Generators\n",
    "For the next two questions, use the following data generator for both train and test sets:\n",
    "\n",
    "```\n",
    "ImageDataGenerator(rescale=1./255)\n",
    "```\n",
    "\n",
    "- We don't need to do any additional pre-processing for the images.\n",
    "- When reading the data from train/val directories, check the class_mode parameter. Which value should it be for a binary classification problem?\n",
    "- Use`batch_size=20`\n",
    "- Use `shuffle=True` for both training and test sets.\n",
    "\n",
    "For training use .fit() with the following params:\n",
    "\n",
    "```\n",
    "model.fit(\n",
    "    train_generator,\n",
    "    epochs=10,\n",
    "    validation_data=test_generator\n",
    ")\n",
    "```"
   ]
  },
  {
   "cell_type": "code",
   "execution_count": 8,
   "id": "87086536-6a4e-4774-9ee1-e80603e88cf6",
   "metadata": {
    "execution": {
     "iopub.execute_input": "2022-11-20T19:58:41.103443Z",
     "iopub.status.busy": "2022-11-20T19:58:41.103053Z",
     "iopub.status.idle": "2022-11-20T19:58:41.107020Z",
     "shell.execute_reply": "2022-11-20T19:58:41.106361Z",
     "shell.execute_reply.started": "2022-11-20T19:58:41.103418Z"
    },
    "tags": []
   },
   "outputs": [],
   "source": [
    "# use data generator\n",
    "train_datagen = ImageDataGenerator(rescale=1./255)\n",
    "val_datagen = ImageDataGenerator(rescale=1./255)"
   ]
  },
  {
   "cell_type": "code",
   "execution_count": 9,
   "id": "cc604805-38dc-44f5-8af1-071112fb419d",
   "metadata": {
    "execution": {
     "iopub.execute_input": "2022-11-20T19:58:41.403546Z",
     "iopub.status.busy": "2022-11-20T19:58:41.403165Z",
     "iopub.status.idle": "2022-11-20T19:58:41.449094Z",
     "shell.execute_reply": "2022-11-20T19:58:41.448265Z",
     "shell.execute_reply.started": "2022-11-20T19:58:41.403523Z"
    },
    "tags": []
   },
   "outputs": [
    {
     "name": "stdout",
     "output_type": "stream",
     "text": [
      "Found 1594 images belonging to 2 classes.\n"
     ]
    }
   ],
   "source": [
    "# set class-mode parametr to \"binary\"\n",
    "# use batch-size = 20\n",
    "# Set shuffle = True\n",
    "train_generator = (\n",
    "    train_datagen\n",
    "    .flow_from_directory(\n",
    "        train_dir, \n",
    "        target_size=(150, 150), \n",
    "        batch_size=20, \n",
    "        class_mode='binary',\n",
    "        shuffle=True\n",
    "    )\n",
    ")"
   ]
  },
  {
   "cell_type": "code",
   "execution_count": 10,
   "id": "b26d1c75-9a58-48c4-8c41-ae642597c50f",
   "metadata": {
    "execution": {
     "iopub.execute_input": "2022-11-20T19:58:41.727620Z",
     "iopub.status.busy": "2022-11-20T19:58:41.727238Z",
     "iopub.status.idle": "2022-11-20T19:58:41.747901Z",
     "shell.execute_reply": "2022-11-20T19:58:41.747118Z",
     "shell.execute_reply.started": "2022-11-20T19:58:41.727596Z"
    },
    "tags": []
   },
   "outputs": [
    {
     "name": "stdout",
     "output_type": "stream",
     "text": [
      "Found 394 images belonging to 2 classes.\n"
     ]
    }
   ],
   "source": [
    "validation_generator = (\n",
    "    val_datagen\n",
    "    .flow_from_directory(\n",
    "        test_dir,\n",
    "        target_size=(150, 150),\n",
    "        batch_size=20,\n",
    "        class_mode='binary',\n",
    "        shuffle=True\n",
    "    )\n",
    ")"
   ]
  },
  {
   "cell_type": "markdown",
   "id": "551a1103-780c-4de9-9a81-570bad11e601",
   "metadata": {},
   "source": [
    "## Model fitting and Accuracy/Loss Evaluation"
   ]
  },
  {
   "cell_type": "code",
   "execution_count": 11,
   "id": "0c936380-298a-4c55-9b7f-c6dcf4cc59c7",
   "metadata": {
    "execution": {
     "iopub.execute_input": "2022-11-20T19:58:42.625443Z",
     "iopub.status.busy": "2022-11-20T19:58:42.625021Z",
     "iopub.status.idle": "2022-11-20T20:00:11.245565Z",
     "shell.execute_reply": "2022-11-20T20:00:11.244883Z",
     "shell.execute_reply.started": "2022-11-20T19:58:42.625415Z"
    },
    "tags": []
   },
   "outputs": [
    {
     "name": "stdout",
     "output_type": "stream",
     "text": [
      "Epoch 1/10\n"
     ]
    },
    {
     "name": "stderr",
     "output_type": "stream",
     "text": [
      "2022-11-20 19:58:43.899349: I tensorflow/stream_executor/cuda/cuda_dnn.cc:384] Loaded cuDNN version 8100\n",
      "2022-11-20 19:58:44.537024: I tensorflow/core/platform/default/subprocess.cc:304] Start cannot spawn child process: No such file or directory\n",
      "2022-11-20 19:58:44.537566: I tensorflow/core/platform/default/subprocess.cc:304] Start cannot spawn child process: No such file or directory\n",
      "2022-11-20 19:58:44.537608: W tensorflow/stream_executor/gpu/asm_compiler.cc:80] Couldn't get ptxas version string: INTERNAL: Couldn't invoke ptxas --version\n",
      "2022-11-20 19:58:44.538135: I tensorflow/core/platform/default/subprocess.cc:304] Start cannot spawn child process: No such file or directory\n",
      "2022-11-20 19:58:44.538215: W tensorflow/stream_executor/gpu/redzone_allocator.cc:314] INTERNAL: Failed to launch ptxas\n",
      "Relying on driver to perform ptx compilation. \n",
      "Modify $PATH to customize ptxas location.\n",
      "This message will be only logged once.\n"
     ]
    },
    {
     "name": "stdout",
     "output_type": "stream",
     "text": [
      "80/80 [==============================] - 11s 109ms/step - loss: 0.6820 - acc: 0.5784 - val_loss: 0.6651 - val_acc: 0.5000\n",
      "Epoch 2/10\n",
      "80/80 [==============================] - 9s 107ms/step - loss: 0.6110 - acc: 0.6807 - val_loss: 0.5385 - val_acc: 0.8020\n",
      "Epoch 3/10\n",
      "80/80 [==============================] - 9s 107ms/step - loss: 0.5058 - acc: 0.7716 - val_loss: 0.5149 - val_acc: 0.7310\n",
      "Epoch 4/10\n",
      "80/80 [==============================] - 9s 107ms/step - loss: 0.4192 - acc: 0.8306 - val_loss: 0.3856 - val_acc: 0.8477\n",
      "Epoch 5/10\n",
      "80/80 [==============================] - 9s 107ms/step - loss: 0.3860 - acc: 0.8400 - val_loss: 0.3607 - val_acc: 0.8528\n",
      "Epoch 6/10\n",
      "80/80 [==============================] - 9s 108ms/step - loss: 0.3209 - acc: 0.8695 - val_loss: 0.4147 - val_acc: 0.8096\n",
      "Epoch 7/10\n",
      "80/80 [==============================] - 9s 107ms/step - loss: 0.2916 - acc: 0.8940 - val_loss: 0.3164 - val_acc: 0.8629\n",
      "Epoch 8/10\n",
      "80/80 [==============================] - 9s 108ms/step - loss: 0.2542 - acc: 0.9103 - val_loss: 0.3243 - val_acc: 0.8553\n",
      "Epoch 9/10\n",
      "80/80 [==============================] - 9s 106ms/step - loss: 0.2415 - acc: 0.9097 - val_loss: 0.3041 - val_acc: 0.8731\n",
      "Epoch 10/10\n",
      "80/80 [==============================] - 9s 107ms/step - loss: 0.2010 - acc: 0.9335 - val_loss: 0.2976 - val_acc: 0.8782\n"
     ]
    }
   ],
   "source": [
    "hist = model.fit(\n",
    "    train_generator,\n",
    "    epochs=10,\n",
    "    validation_data=validation_generator\n",
    ")"
   ]
  },
  {
   "cell_type": "code",
   "execution_count": 12,
   "id": "d6683fb3-46e6-450a-8a07-348646ce82f4",
   "metadata": {
    "execution": {
     "iopub.execute_input": "2022-11-20T20:00:11.247294Z",
     "iopub.status.busy": "2022-11-20T20:00:11.246868Z",
     "iopub.status.idle": "2022-11-20T20:00:11.252002Z",
     "shell.execute_reply": "2022-11-20T20:00:11.251271Z",
     "shell.execute_reply.started": "2022-11-20T20:00:11.247270Z"
    },
    "tags": []
   },
   "outputs": [
    {
     "data": {
      "text/plain": [
       "dict_keys(['loss', 'acc', 'val_loss', 'val_acc'])"
      ]
     },
     "execution_count": 12,
     "metadata": {},
     "output_type": "execute_result"
    }
   ],
   "source": [
    "hist.history.keys()"
   ]
  },
  {
   "cell_type": "code",
   "execution_count": 13,
   "id": "315776ff-5638-4afa-a914-96e7cf6b8cfb",
   "metadata": {
    "execution": {
     "iopub.execute_input": "2022-11-20T20:00:11.253472Z",
     "iopub.status.busy": "2022-11-20T20:00:11.253109Z",
     "iopub.status.idle": "2022-11-20T20:00:11.257524Z",
     "shell.execute_reply": "2022-11-20T20:00:11.256924Z",
     "shell.execute_reply.started": "2022-11-20T20:00:11.253441Z"
    },
    "tags": []
   },
   "outputs": [],
   "source": [
    "acc = hist.history['acc']\n",
    "val_acc= hist.history['val_acc']\n",
    "loss = hist.history['loss']\n",
    "val_loss= hist.history['val_loss']"
   ]
  },
  {
   "cell_type": "code",
   "execution_count": 14,
   "id": "a29b2f13-e1e9-4898-8e7a-0c1d8ebb24b1",
   "metadata": {
    "execution": {
     "iopub.execute_input": "2022-11-20T20:00:11.260018Z",
     "iopub.status.busy": "2022-11-20T20:00:11.259493Z",
     "iopub.status.idle": "2022-11-20T20:00:11.263410Z",
     "shell.execute_reply": "2022-11-20T20:00:11.262809Z",
     "shell.execute_reply.started": "2022-11-20T20:00:11.259997Z"
    },
    "tags": []
   },
   "outputs": [],
   "source": [
    "mean_acc = np.median(acc)"
   ]
  },
  {
   "cell_type": "markdown",
   "id": "4dde4ce7-8bc5-4735-b173-4fdc16662774",
   "metadata": {},
   "source": [
    "## Question 3\n",
    "\n",
    "What is the median of training accuracy for all the epochs for this model?\n",
    "\n",
    "- 0.40\n",
    "- 0.60\n",
    "- 0.90\n",
    "- 0.20"
   ]
  },
  {
   "cell_type": "code",
   "execution_count": 15,
   "id": "e707eab6-a9ca-412a-94e6-8e60ce7fa3aa",
   "metadata": {
    "execution": {
     "iopub.execute_input": "2022-11-20T20:00:11.264697Z",
     "iopub.status.busy": "2022-11-20T20:00:11.264194Z",
     "iopub.status.idle": "2022-11-20T20:00:11.418351Z",
     "shell.execute_reply": "2022-11-20T20:00:11.417549Z",
     "shell.execute_reply.started": "2022-11-20T20:00:11.264676Z"
    },
    "tags": []
   },
   "outputs": [
    {
     "name": "stdout",
     "output_type": "stream",
     "text": [
      "Mean Acc 0.8547678589820862\n"
     ]
    },
    {
     "data": {
      "image/png": "[encoded data removed]",
      "text/plain": [
       "<Figure size 640x480 with 1 Axes>"
      ]
     },
     "metadata": {},
     "output_type": "display_data"
    }
   ],
   "source": [
    "epochs = range(1,len(acc)+1)\n",
    "\n",
    "plt.plot(epochs, acc, label='Training acc')\n",
    "plt.plot(epochs, val_acc, label='Validation acc')\n",
    "plt.axhline(y=mean_acc, color='violet', linestyle='--')\n",
    "\n",
    "plt.title('Training and Validation Accuracy')\n",
    "plt.legend()\n",
    "print('Mean Acc',mean_acc)"
   ]
  },
  {
   "cell_type": "markdown",
   "id": "21ab6d31-c98d-47d9-aa17-86ba7215ecb6",
   "metadata": {},
   "source": [
    "`Answer 0.9`"
   ]
  },
  {
   "cell_type": "markdown",
   "id": "14940954-e78b-4cf0-ac7e-74ea04275757",
   "metadata": {},
   "source": [
    "## Question 4\n",
    "\n",
    "What is the standard deviation of training loss for all the epochs for this model?\n",
    "\n",
    "- 0.11\n",
    "- 0.66\n",
    "- 0.99\n",
    "- 0.33"
   ]
  },
  {
   "cell_type": "code",
   "execution_count": 16,
   "id": "5c95fcdc-a9b1-4dea-bd43-f375e787ba79",
   "metadata": {
    "execution": {
     "iopub.execute_input": "2022-11-20T20:00:11.419856Z",
     "iopub.status.busy": "2022-11-20T20:00:11.419486Z",
     "iopub.status.idle": "2022-11-20T20:00:11.424003Z",
     "shell.execute_reply": "2022-11-20T20:00:11.423298Z",
     "shell.execute_reply.started": "2022-11-20T20:00:11.419825Z"
    },
    "tags": []
   },
   "outputs": [],
   "source": [
    "std_acc = np.std(loss)"
   ]
  },
  {
   "cell_type": "code",
   "execution_count": 17,
   "id": "96e18cc3-24ab-4c17-802e-903067490478",
   "metadata": {
    "execution": {
     "iopub.execute_input": "2022-11-20T20:00:11.425560Z",
     "iopub.status.busy": "2022-11-20T20:00:11.425264Z",
     "iopub.status.idle": "2022-11-20T20:00:11.552018Z",
     "shell.execute_reply": "2022-11-20T20:00:11.551285Z",
     "shell.execute_reply.started": "2022-11-20T20:00:11.425531Z"
    },
    "tags": []
   },
   "outputs": [
    {
     "name": "stdout",
     "output_type": "stream",
     "text": [
      "Std acc 0.1546081076236525\n"
     ]
    },
    {
     "data": {
      "image/png": "[encoded data removed]",
      "text/plain": [
       "<Figure size 640x480 with 1 Axes>"
      ]
     },
     "metadata": {},
     "output_type": "display_data"
    }
   ],
   "source": [
    "plt.plot(epochs, loss, label='Training loss')\n",
    "plt.plot(epochs, val_loss, label='Validation loss')\n",
    "\n",
    "plt.title('Training and Validation Loss')\n",
    "plt.legend()\n",
    "print('Std acc',std_acc)"
   ]
  },
  {
   "cell_type": "markdown",
   "id": "c15fb3bf-17f5-4f02-99cc-46c52332ecbf",
   "metadata": {
    "execution": {
     "iopub.execute_input": "2022-11-20T11:08:01.010833Z",
     "iopub.status.busy": "2022-11-20T11:08:01.010423Z",
     "iopub.status.idle": "2022-11-20T11:08:01.015794Z",
     "shell.execute_reply": "2022-11-20T11:08:01.014714Z",
     "shell.execute_reply.started": "2022-11-20T11:08:01.010809Z"
    }
   },
   "source": [
    "`Answer 0.11`"
   ]
  },
  {
   "cell_type": "markdown",
   "id": "25e2b76f-3595-41dd-9f5c-2ecb592d46a1",
   "metadata": {},
   "source": [
    "## Data Augmentation\n",
    "\n",
    "For the next two questions, we'll generate more data using data augmentations.\n",
    "\n",
    "Add the following augmentations to your training data generator:\n",
    "\n",
    "- `rotation_range=40`,\n",
    "- `width_shift_range=0.2`,\n",
    "- `height_shift_range=0.2`,\n",
    "- `shear_range=0.2`,\n",
    "- `zoom_range=0.2`,\n",
    "- `horizontal_flip=True`,\n",
    "- `fill_mode='nearest'`"
   ]
  },
  {
   "cell_type": "code",
   "execution_count": 18,
   "id": "399d9718-631a-4caa-bf78-797d003b8027",
   "metadata": {
    "execution": {
     "iopub.execute_input": "2022-11-20T20:00:11.553780Z",
     "iopub.status.busy": "2022-11-20T20:00:11.553140Z",
     "iopub.status.idle": "2022-11-20T20:00:11.558198Z",
     "shell.execute_reply": "2022-11-20T20:00:11.557465Z",
     "shell.execute_reply.started": "2022-11-20T20:00:11.553747Z"
    },
    "tags": []
   },
   "outputs": [],
   "source": [
    "train_datagen = ImageDataGenerator(\n",
    "    rescale=1./255,\n",
    "    rotation_range=40,\n",
    "    width_shift_range=0.2,\n",
    "    height_shift_range=0.2,\n",
    "    shear_range=0.2,\n",
    "    zoom_range=0.2,\n",
    "    horizontal_flip=True,\n",
    "    fill_mode='nearest'\n",
    ")"
   ]
  },
  {
   "cell_type": "code",
   "execution_count": 19,
   "id": "b6dad453-01c6-46dc-9548-b1fee16a414c",
   "metadata": {
    "execution": {
     "iopub.execute_input": "2022-11-20T20:00:11.559948Z",
     "iopub.status.busy": "2022-11-20T20:00:11.559284Z",
     "iopub.status.idle": "2022-11-20T20:00:11.563576Z",
     "shell.execute_reply": "2022-11-20T20:00:11.562866Z",
     "shell.execute_reply.started": "2022-11-20T20:00:11.559917Z"
    },
    "tags": []
   },
   "outputs": [],
   "source": [
    "test_datagen = ImageDataGenerator(rescale=1./255)"
   ]
  },
  {
   "cell_type": "code",
   "execution_count": 20,
   "id": "d8626c9f-cdca-41f2-8778-2891d3586652",
   "metadata": {
    "execution": {
     "iopub.execute_input": "2022-11-20T20:00:11.565903Z",
     "iopub.status.busy": "2022-11-20T20:00:11.565624Z",
     "iopub.status.idle": "2022-11-20T20:00:11.608725Z",
     "shell.execute_reply": "2022-11-20T20:00:11.608004Z",
     "shell.execute_reply.started": "2022-11-20T20:00:11.565883Z"
    },
    "tags": []
   },
   "outputs": [
    {
     "name": "stdout",
     "output_type": "stream",
     "text": [
      "Found 1594 images belonging to 2 classes.\n"
     ]
    }
   ],
   "source": [
    "train_generator = (\n",
    "    train_datagen\n",
    "    .flow_from_directory(\n",
    "        train_dir, \n",
    "        target_size=(150, 150),\n",
    "        batch_size=32,\n",
    "        class_mode='binary'\n",
    "    )\n",
    ")"
   ]
  },
  {
   "cell_type": "code",
   "execution_count": 21,
   "id": "4001712c-44a4-40a7-8c69-2351f5aead50",
   "metadata": {
    "execution": {
     "iopub.execute_input": "2022-11-20T20:00:11.610256Z",
     "iopub.status.busy": "2022-11-20T20:00:11.609898Z",
     "iopub.status.idle": "2022-11-20T20:00:11.625963Z",
     "shell.execute_reply": "2022-11-20T20:00:11.625374Z",
     "shell.execute_reply.started": "2022-11-20T20:00:11.610226Z"
    },
    "tags": []
   },
   "outputs": [
    {
     "name": "stdout",
     "output_type": "stream",
     "text": [
      "Found 394 images belonging to 2 classes.\n"
     ]
    }
   ],
   "source": [
    "validation_generator = (\n",
    "    test_datagen\n",
    "    .flow_from_directory(\n",
    "        test_dir, \n",
    "        target_size=(150, 150),\n",
    "        batch_size=32,\n",
    "        class_mode='binary'\n",
    "    )\n",
    ")"
   ]
  },
  {
   "cell_type": "markdown",
   "id": "87209854-74f4-4a18-8ebe-09880b508549",
   "metadata": {},
   "source": [
    "## Question 5\n",
    "\n",
    "Let's train our model for 10 more epochs using the same code as previously. Make sure you don't re-create the model - we want to continue training the model we already started training.\n",
    "\n",
    "What is the mean of test loss for all the epochs for the model trained with augmentations?\n",
    "\n",
    "- 0.15\n",
    "- 0.77\n",
    "- 0.37\n",
    "- 0.97"
   ]
  },
  {
   "cell_type": "code",
   "execution_count": null,
   "id": "de8bb599-1298-4f51-88b4-c84e8b04dbf5",
   "metadata": {
    "execution": {
     "iopub.execute_input": "2022-11-20T20:00:11.627406Z",
     "iopub.status.busy": "2022-11-20T20:00:11.626876Z"
    },
    "tags": []
   },
   "outputs": [
    {
     "name": "stdout",
     "output_type": "stream",
     "text": [
      "Epoch 1/10\n",
      "50/50 [==============================] - 16s 309ms/step - loss: 0.4640 - acc: 0.7961 - val_loss: 0.2888 - val_acc: 0.8858\n",
      "Epoch 2/10\n",
      "50/50 [==============================] - 15s 303ms/step - loss: 0.4442 - acc: 0.7817 - val_loss: 0.2686 - val_acc: 0.8883\n",
      "Epoch 3/10\n",
      "50/50 [==============================] - 15s 302ms/step - loss: 0.4137 - acc: 0.8174 - val_loss: 0.3529 - val_acc: 0.8477\n",
      "Epoch 4/10\n",
      "50/50 [==============================] - 15s 299ms/step - loss: 0.3917 - acc: 0.8275 - val_loss: 0.4247 - val_acc: 0.8046\n",
      "Epoch 5/10\n",
      "50/50 [==============================] - 15s 305ms/step - loss: 0.3982 - acc: 0.8162 - val_loss: 0.3091 - val_acc: 0.8706\n",
      "Epoch 6/10\n",
      "50/50 [==============================] - 15s 304ms/step - loss: 0.3902 - acc: 0.8287 - val_loss: 0.3587 - val_acc: 0.8452\n",
      "Epoch 7/10\n",
      "50/50 [==============================] - 15s 304ms/step - loss: 0.3985 - acc: 0.8099 - val_loss: 0.4490 - val_acc: 0.7944\n",
      "Epoch 8/10\n",
      "50/50 [==============================] - 15s 302ms/step - loss: 0.3776 - acc: 0.8319 - val_loss: 0.3153 - val_acc: 0.8579\n",
      "Epoch 9/10\n",
      " 5/50 [==>...........................] - ETA: 11s - loss: 0.3834 - acc: 0.8250"
     ]
    }
   ],
   "source": [
    "hist = model.fit(\n",
    "    train_generator,\n",
    "    epochs=10,\n",
    "    validation_data=validation_generator\n",
    ")"
   ]
  },
  {
   "cell_type": "code",
   "execution_count": null,
   "id": "e7c0346e-f6c8-46e1-ad16-25b1c858b526",
   "metadata": {
    "tags": []
   },
   "outputs": [],
   "source": [
    "acc = hist.history['acc']\n",
    "val_acc= hist.history['val_acc']\n",
    "loss = hist.history['loss']\n",
    "val_loss= hist.history['val_loss']"
   ]
  },
  {
   "cell_type": "code",
   "execution_count": null,
   "id": "95daeb34-bbd6-413c-a5a3-f6f8612e5be2",
   "metadata": {
    "tags": []
   },
   "outputs": [],
   "source": [
    "mean_val_loss = np.median(val_loss)"
   ]
  },
  {
   "cell_type": "code",
   "execution_count": null,
   "id": "27351824-961d-44c3-bac0-12a37582a71a",
   "metadata": {
    "tags": []
   },
   "outputs": [],
   "source": [
    "epochs = range(1,len(acc)+1)\n",
    "\n",
    "plt.plot(epochs, acc, label='Training acc')\n",
    "plt.plot(epochs, val_acc, label='Validation acc')\n",
    "\n",
    "plt.title('Training and Validation Accuracy')\n",
    "plt.legend()"
   ]
  },
  {
   "cell_type": "code",
   "execution_count": null,
   "id": "19a89822-e639-4330-b7ec-4ee7668ff457",
   "metadata": {
    "tags": []
   },
   "outputs": [],
   "source": [
    "plt.plot(epochs, loss, label='Training loss')\n",
    "plt.plot(epochs, val_loss, label='Validation loss')\n",
    "\n",
    "plt.axhline(y=mean_val_loss, color='red', linestyle='--')\n",
    "\n",
    "plt.title('Training and Validation Accuracy')\n",
    "plt.legend()\n",
    "print('Mean Val loss',mean_val_loss)"
   ]
  },
  {
   "cell_type": "markdown",
   "id": "4d4ac7a4-c9b1-4712-9e2d-739d1fd4e120",
   "metadata": {},
   "source": [
    "`Answer: 0.37`"
   ]
  },
  {
   "cell_type": "markdown",
   "id": "7a624780-068b-4d32-bc86-ec053349c6fe",
   "metadata": {},
   "source": [
    "## Question 6\n",
    "\n",
    "What's the average of test accuracy for the last 5 epochs (from 6 to 10) for the model trained with augmentations?\n",
    "\n",
    "- 0.84\n",
    "- 0.54\n",
    "- 0.44\n",
    "- 0.24"
   ]
  },
  {
   "cell_type": "code",
   "execution_count": null,
   "id": "668308fc-b6d1-46aa-8546-d8763eac3e76",
   "metadata": {
    "tags": []
   },
   "outputs": [],
   "source": [
    "np.mean(val_acc[-5:])"
   ]
  },
  {
   "cell_type": "markdown",
   "id": "91497792-405f-4272-ae42-8c052c530c45",
   "metadata": {},
   "source": [
    "`Answer 0.84`"
   ]
  },
  {
   "cell_type": "markdown",
   "id": "13cfaa0b-7823-4041-a908-57d67972e92d",
   "metadata": {
    "tags": []
   },
   "source": [
    "# Is Susu Dragon?"
   ]
  },
  {
   "cell_type": "code",
   "execution_count": null,
   "id": "63464d14-0733-4940-adc9-1c5a42cd3454",
   "metadata": {
    "tags": []
   },
   "outputs": [],
   "source": [
    "from tensorflow.keras.preprocessing.image import load_img\n",
    "from tensorflow.keras.applications.xception import preprocess_input\n",
    "from tensorflow.keras.applications.xception import decode_predictions"
   ]
  },
  {
   "cell_type": "code",
   "execution_count": null,
   "id": "9cbb699f-8254-452c-bc03-93789b11981d",
   "metadata": {
    "tags": []
   },
   "outputs": [],
   "source": [
    "file = 'susu.jpg'\n",
    "file1 = 'susu-1.jpg'\n",
    "file2 = 'susu-3.jpg'"
   ]
  },
  {
   "cell_type": "code",
   "execution_count": null,
   "id": "11e07534-1618-454d-9317-41bed7939fde",
   "metadata": {
    "tags": []
   },
   "outputs": [],
   "source": [
    "img = load_img(file, target_size=(150, 150))"
   ]
  },
  {
   "cell_type": "code",
   "execution_count": null,
   "id": "3452ad90-3848-4a4b-a78b-7aebba330237",
   "metadata": {
    "tags": []
   },
   "outputs": [],
   "source": [
    "img"
   ]
  },
  {
   "cell_type": "code",
   "execution_count": null,
   "id": "6d292b68-0b55-41ac-a2f9-83a11e171b16",
   "metadata": {
    "tags": []
   },
   "outputs": [],
   "source": [
    "from random import sample\n",
    "\n",
    "sample_imgs = sample(validation_generator.filepaths, 9)\n",
    "sample_imgs.append(file)\n",
    "sample_imgs.append(file1)\n",
    "sample_imgs.append(file3)\n",
    "sample_imgs"
   ]
  },
  {
   "cell_type": "code",
   "execution_count": null,
   "id": "b4480764-47a4-4c2a-958c-9b7f9197dc3c",
   "metadata": {
    "tags": []
   },
   "outputs": [],
   "source": [
    "for file in sample_imgs:\n",
    "    img = load_img(file, target_size=(150, 150))\n",
    "    x = np.array(img)\n",
    "    X = np.array([x])\n",
    "    X.shape\n",
    "    X = preprocess_input(X)\n",
    "    pred = model.predict(X)\n",
    "    spicies = file[17:21]\n",
    "    if spicies == 'drag':\n",
    "        spicies = 'drogon'\n",
    "    elif spicies == '':\n",
    "        spicies = 'SUSU is:'\n",
    "    if pred < 1:\n",
    "        print(spicies)\n",
    "        print('dino')\n",
    "    else:\n",
    "        print(spicies)\n",
    "        print('dragon')"
   ]
  },
  {
   "cell_type": "code",
   "execution_count": null,
   "id": "7a4d8973-b9a1-4d75-9940-04d46e17ae93",
   "metadata": {},
   "outputs": [],
   "source": []
  },
  {
   "cell_type": "code",
   "execution_count": null,
   "id": "2e6b0f4d-1b5d-4cb9-81c0-26218cbf1efb",
   "metadata": {},
   "outputs": [],
   "source": []
  }
 ],
 "metadata": {
  "kernelspec": {
   "display_name": "saturn (Python 3)",
   "language": "python",
   "name": "python3"
  },
  "language_info": {
   "codemirror_mode": {
    "name": "ipython",
    "version": 3
   },
   "file_extension": ".py",
   "mimetype": "text/x-python",
   "name": "python",
   "nbconvert_exporter": "python",
   "pygments_lexer": "ipython3",
   "version": "3.9.13"
  }
 },
 "nbformat": 4,
 "nbformat_minor": 5
}
