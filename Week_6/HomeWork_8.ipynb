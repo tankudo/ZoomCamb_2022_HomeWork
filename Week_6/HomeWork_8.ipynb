{
 "cells": [
  {
   "cell_type": "markdown",
   "id": "9f83ef76-9e08-4354-9e65-04bd744f83c3",
   "metadata": {},
   "source": [
    "## Homework\n",
    "\n",
    "### Dataset\n",
    "\n",
    "In this homework, we'll build a model for predicting if we have an image of a dino or a dragon. For this, we will use the \"Dino or Dragon?\" dataset that can be downloaded from Kaggle.\n",
    "\n",
    "You can get a wget-able version here:\n",
    "\n",
    "wget https://github.com/alexeygrigorev/dino-or-dragon/releases/download/data/dino-dragon.zip\n",
    "unzip dino-dragon.zip\n",
    "\n",
    "In the lectures we saw how to use a pre-trained neural network. In the homework, we'll train a much smaller model from scratch.\n",
    "\n",
    "Note: You will need an environment with a GPU for this homework. We recommend to use Saturn Cloud. You can also use a computer without a GPU (e.g. your laptop), but it will be slower.\n",
    "\n",
    "### Data Preparation\n",
    "\n",
    "The dataset contains around 1900 images of dinos and around 1900 images of dragons.\n",
    "\n",
    "The dataset contains separate folders for training and test sets.\n",
    "\n",
    "### Model\n",
    "\n",
    "For this homework we will use Convolutional Neural Network (CNN). Like in the lectures, we'll use Keras.\n",
    "\n",
    "You need to develop the model with following structure:\n",
    "\n",
    "- The shape for input should be (150, 150, 3)\n",
    "- Next, create a convolutional layer (Conv2D):\n",
    "    - Use 32 filters\n",
    "    - Kernel size should be (3, 3) (that's the size of the filter)\n",
    "    - Use 'relu' as activation\n",
    "- Reduce the size of the feature map with max pooling (MaxPooling2D)\n",
    "    - Set the pooling size to (2, 2)\n",
    "- Turn the multi-dimensional result into vectors using a Flatten layer\n",
    "- Next, add a Dense layer with 64 neurons and 'relu' activation\n",
    "- Finally, create the Dense layer with 1 neuron - this will be the output\n",
    "    - The output layer should have an activation - use the appropriate activation for the binary classification case\n",
    "As optimizer use SGD with the following parameters:\n",
    "\n",
    "- SGD(lr=0.002, momentum=0.8)\n",
    "For clarification about kernel size and max pooling, check Office Hours."
   ]
  },
  {
   "cell_type": "code",
   "execution_count": 1,
   "id": "65ea03ea-a4f5-4a64-9582-1ed86eef444c",
   "metadata": {
    "execution": {
     "iopub.execute_input": "2022-11-20T12:54:52.678444Z",
     "iopub.status.busy": "2022-11-20T12:54:52.678213Z",
     "iopub.status.idle": "2022-11-20T12:54:54.575778Z",
     "shell.execute_reply": "2022-11-20T12:54:54.575125Z",
     "shell.execute_reply.started": "2022-11-20T12:54:52.678393Z"
    }
   },
   "outputs": [
    {
     "name": "stderr",
     "output_type": "stream",
     "text": [
      "2022-11-20 12:54:52.818376: I tensorflow/core/util/util.cc:169] oneDNN custom operations are on. You may see slightly different numerical results due to floating-point round-off errors from different computation orders. To turn them off, set the environment variable `TF_ENABLE_ONEDNN_OPTS=0`.\n"
     ]
    }
   ],
   "source": [
    "import tensorflow as tf"
   ]
  },
  {
   "cell_type": "code",
   "execution_count": 2,
   "id": "6aafcade-d5a8-4b79-8a95-8beb46766b23",
   "metadata": {
    "execution": {
     "iopub.execute_input": "2022-11-20T12:54:54.580345Z",
     "iopub.status.busy": "2022-11-20T12:54:54.579914Z",
     "iopub.status.idle": "2022-11-20T12:54:54.588984Z",
     "shell.execute_reply": "2022-11-20T12:54:54.588376Z",
     "shell.execute_reply.started": "2022-11-20T12:54:54.580322Z"
    },
    "tags": []
   },
   "outputs": [
    {
     "data": {
      "text/plain": [
       "'2.9.1'"
      ]
     },
     "execution_count": 2,
     "metadata": {},
     "output_type": "execute_result"
    }
   ],
   "source": [
    "tf.__version__"
   ]
  },
  {
   "cell_type": "code",
   "execution_count": 3,
   "id": "df2f4a30-6757-4842-9db2-18cb59d73263",
   "metadata": {
    "execution": {
     "iopub.execute_input": "2022-11-20T12:54:54.590151Z",
     "iopub.status.busy": "2022-11-20T12:54:54.589869Z",
     "iopub.status.idle": "2022-11-20T12:54:58.849061Z",
     "shell.execute_reply": "2022-11-20T12:54:58.848198Z",
     "shell.execute_reply.started": "2022-11-20T12:54:54.590132Z"
    },
    "tags": []
   },
   "outputs": [
    {
     "name": "stdout",
     "output_type": "stream",
     "text": [
      "Requirement already satisfied: wget in /opt/saturncloud/envs/saturn/lib/python3.9/site-packages (3.2)\n",
      "100% [..................................................] 109298562 / 109298562\n",
      "Saved under dino-dragon (2).zip\n"
     ]
    }
   ],
   "source": [
    "!pip install wget\n",
    "!python -m wget https://github.com/alexeygrigorev/dino-or-dragon/releases/download/data/dino-dragon.zip"
   ]
  },
  {
   "cell_type": "code",
   "execution_count": 4,
   "id": "5269edeb-22af-4846-9154-d97343efef1c",
   "metadata": {
    "execution": {
     "iopub.execute_input": "2022-11-20T12:54:58.850832Z",
     "iopub.status.busy": "2022-11-20T12:54:58.850391Z",
     "iopub.status.idle": "2022-11-20T12:54:58.854805Z",
     "shell.execute_reply": "2022-11-20T12:54:58.854003Z",
     "shell.execute_reply.started": "2022-11-20T12:54:58.850791Z"
    },
    "tags": []
   },
   "outputs": [],
   "source": [
    "!mkdir dino_dragon"
   ]
  },
  {
   "cell_type": "code",
   "execution_count": 5,
   "id": "a31e06d3-1333-42aa-9abb-20e50c64d520",
   "metadata": {
    "execution": {
     "iopub.execute_input": "2022-11-20T12:54:58.856802Z",
     "iopub.status.busy": "2022-11-20T12:54:58.856543Z",
     "iopub.status.idle": "2022-11-20T12:54:58.860174Z",
     "shell.execute_reply": "2022-11-20T12:54:58.859394Z",
     "shell.execute_reply.started": "2022-11-20T12:54:58.856781Z"
    },
    "tags": []
   },
   "outputs": [],
   "source": [
    "!unzip dino-dragon.zip -d dino_dragon"
   ]
  },
  {
   "cell_type": "code",
   "execution_count": 6,
   "id": "608d21d2-398e-45db-a1b9-29410ba61d4d",
   "metadata": {
    "execution": {
     "iopub.execute_input": "2022-11-20T12:54:58.861294Z",
     "iopub.status.busy": "2022-11-20T12:54:58.861079Z",
     "iopub.status.idle": "2022-11-20T12:54:59.375035Z",
     "shell.execute_reply": "2022-11-20T12:54:59.374295Z",
     "shell.execute_reply.started": "2022-11-20T12:54:58.861275Z"
    }
   },
   "outputs": [],
   "source": [
    "import numpy as np\n",
    "import matplotlib.pyplot as plt\n",
    "import tensorflow as tf\n",
    "from tensorflow import keras\n",
    "\n",
    "from tensorflow.keras import layers\n",
    "from tensorflow.keras import models\n",
    "from tensorflow.keras import optimizers\n",
    "from tensorflow.keras.preprocessing.image import ImageDataGenerator\n",
    "\n",
    "%matplotlib inline"
   ]
  },
  {
   "cell_type": "code",
   "execution_count": 7,
   "id": "ac74503b-0030-42d5-9966-0aa74cadb121",
   "metadata": {
    "execution": {
     "iopub.execute_input": "2022-11-20T12:54:59.376679Z",
     "iopub.status.busy": "2022-11-20T12:54:59.376090Z",
     "iopub.status.idle": "2022-11-20T12:54:59.381314Z",
     "shell.execute_reply": "2022-11-20T12:54:59.380444Z",
     "shell.execute_reply.started": "2022-11-20T12:54:59.376645Z"
    },
    "tags": []
   },
   "outputs": [],
   "source": [
    "test_dir = 'dino_dragon/test/'\n",
    "train_dir = 'dino_dragon/train/'"
   ]
  },
  {
   "cell_type": "markdown",
   "id": "1a607137-00fa-43a8-8304-e0e37e883ca6",
   "metadata": {},
   "source": [
    "## Model"
   ]
  },
  {
   "cell_type": "code",
   "execution_count": 8,
   "id": "2850b78d-0fc4-4654-8604-c98cdb426cf4",
   "metadata": {
    "execution": {
     "iopub.execute_input": "2022-11-20T12:54:59.382931Z",
     "iopub.status.busy": "2022-11-20T12:54:59.382626Z",
     "iopub.status.idle": "2022-11-20T12:55:00.474828Z",
     "shell.execute_reply": "2022-11-20T12:55:00.474027Z",
     "shell.execute_reply.started": "2022-11-20T12:54:59.382911Z"
    }
   },
   "outputs": [
    {
     "name": "stderr",
     "output_type": "stream",
     "text": [
      "2022-11-20 12:54:59.432700: I tensorflow/stream_executor/cuda/cuda_gpu_executor.cc:975] successful NUMA node read from SysFS had negative value (-1), but there must be at least one NUMA node, so returning NUMA node zero\n",
      "2022-11-20 12:54:59.440105: I tensorflow/stream_executor/cuda/cuda_gpu_executor.cc:975] successful NUMA node read from SysFS had negative value (-1), but there must be at least one NUMA node, so returning NUMA node zero\n",
      "2022-11-20 12:54:59.440719: I tensorflow/stream_executor/cuda/cuda_gpu_executor.cc:975] successful NUMA node read from SysFS had negative value (-1), but there must be at least one NUMA node, so returning NUMA node zero\n",
      "2022-11-20 12:54:59.441649: I tensorflow/core/platform/cpu_feature_guard.cc:193] This TensorFlow binary is optimized with oneAPI Deep Neural Network Library (oneDNN) to use the following CPU instructions in performance-critical operations:  AVX2 AVX512F AVX512_VNNI FMA\n",
      "To enable them in other operations, rebuild TensorFlow with the appropriate compiler flags.\n",
      "2022-11-20 12:54:59.442009: I tensorflow/stream_executor/cuda/cuda_gpu_executor.cc:975] successful NUMA node read from SysFS had negative value (-1), but there must be at least one NUMA node, so returning NUMA node zero\n",
      "2022-11-20 12:54:59.442636: I tensorflow/stream_executor/cuda/cuda_gpu_executor.cc:975] successful NUMA node read from SysFS had negative value (-1), but there must be at least one NUMA node, so returning NUMA node zero\n",
      "2022-11-20 12:54:59.443194: I tensorflow/stream_executor/cuda/cuda_gpu_executor.cc:975] successful NUMA node read from SysFS had negative value (-1), but there must be at least one NUMA node, so returning NUMA node zero\n",
      "2022-11-20 12:55:00.060347: I tensorflow/stream_executor/cuda/cuda_gpu_executor.cc:975] successful NUMA node read from SysFS had negative value (-1), but there must be at least one NUMA node, so returning NUMA node zero\n",
      "2022-11-20 12:55:00.061000: I tensorflow/stream_executor/cuda/cuda_gpu_executor.cc:975] successful NUMA node read from SysFS had negative value (-1), but there must be at least one NUMA node, so returning NUMA node zero\n",
      "2022-11-20 12:55:00.061585: I tensorflow/stream_executor/cuda/cuda_gpu_executor.cc:975] successful NUMA node read from SysFS had negative value (-1), but there must be at least one NUMA node, so returning NUMA node zero\n",
      "2022-11-20 12:55:00.062108: I tensorflow/core/common_runtime/gpu/gpu_device.cc:1532] Created device /job:localhost/replica:0/task:0/device:GPU:0 with 13795 MB memory:  -> device: 0, name: Tesla T4, pci bus id: 0000:00:1e.0, compute capability: 7.5\n"
     ]
    }
   ],
   "source": [
    "#  use Convolutional Neural Network (CNN)\n",
    "model = models.Sequential()\n",
    "\n",
    "#The shape for input should be (150, 150, 3)\n",
    "# convolutional layer (Conv2D)- 32 filters, kernel size (3, 3), relu for activation\n",
    "model.add(layers.Conv2D(32, (3, 3), activation='relu', input_shape=(150, 150, 3)))\n",
    "\n",
    "# Reduce the size of the feature map with max pooling (MaxPooling2D)\n",
    "# Set the pooling size to (2, 2)\n",
    "model.add(layers.MaxPooling2D((2, 2)))\n",
    "\n",
    "# Turn the multi-dimensional result into vectors using a Flatten layer\n",
    "model.add(layers.Flatten())\n",
    "\n",
    "# add a Dense layer with 64 neurons and 'relu' activation\n",
    "model.add(layers.Dense(64, activation='relu'))\n",
    "\n",
    "# create the Dense layer with 1 neuron - this is the output\n",
    "model.add(layers.Dense(1, activation='sigmoid'))"
   ]
  },
  {
   "cell_type": "markdown",
   "id": "b40d5ee0-b043-49c4-8e7f-4097415e6056",
   "metadata": {},
   "source": [
    "## Question 1\n",
    "\n",
    "Since we have a binary classification problem, what is the best loss function for us?\n",
    "\n",
    "- binary crossentropy\n",
    "- focal loss\n",
    "- mean squared error\n",
    "- categorical crossentropy\n",
    "\n",
    "Note: since we specify an activation for the output layer, we don't need to set from_logits=True"
   ]
  },
  {
   "cell_type": "code",
   "execution_count": 9,
   "id": "80fc6c38-944d-4e30-b676-6d97dc289022",
   "metadata": {
    "execution": {
     "iopub.execute_input": "2022-11-20T12:55:00.476131Z",
     "iopub.status.busy": "2022-11-20T12:55:00.475822Z",
     "iopub.status.idle": "2022-11-20T12:55:00.485401Z",
     "shell.execute_reply": "2022-11-20T12:55:00.484786Z",
     "shell.execute_reply.started": "2022-11-20T12:55:00.476110Z"
    },
    "tags": []
   },
   "outputs": [],
   "source": [
    "# as it's a binary classification,the loss function to use is binary_crossentropy\n",
    "model.compile(loss='binary_crossentropy',\\\n",
    "             optimizer=optimizers.SGD(learning_rate=0.002, momentum=0.8),\\\n",
    "             metrics=['acc'])"
   ]
  },
  {
   "cell_type": "markdown",
   "id": "ce3aa049-357a-4523-a710-ccd9c1687553",
   "metadata": {},
   "source": [
    "`Answer: binary crossentropy`"
   ]
  },
  {
   "cell_type": "markdown",
   "id": "e723b059-4cad-40a4-989c-0365d1b5b9ce",
   "metadata": {},
   "source": [
    "## Question 2\n",
    "\n",
    "What's the total number of parameters of the model? You can use the summary method for that.\n",
    "\n",
    "- 9215873\n",
    "- 11215873\n",
    "- 14215873\n",
    "- 19215873"
   ]
  },
  {
   "cell_type": "code",
   "execution_count": 10,
   "id": "f555b67d-46d7-41f2-a8a0-0f07a1bc8568",
   "metadata": {
    "execution": {
     "iopub.execute_input": "2022-11-20T12:55:00.486493Z",
     "iopub.status.busy": "2022-11-20T12:55:00.486198Z",
     "iopub.status.idle": "2022-11-20T12:55:00.501296Z",
     "shell.execute_reply": "2022-11-20T12:55:00.500708Z",
     "shell.execute_reply.started": "2022-11-20T12:55:00.486463Z"
    }
   },
   "outputs": [
    {
     "name": "stdout",
     "output_type": "stream",
     "text": [
      "Model: \"sequential\"\n",
      "_________________________________________________________________\n",
      " Layer (type)                Output Shape              Param #   \n",
      "=================================================================\n",
      " conv2d (Conv2D)             (None, 148, 148, 32)      896       \n",
      "                                                                 \n",
      " max_pooling2d (MaxPooling2D  (None, 74, 74, 32)       0         \n",
      " )                                                               \n",
      "                                                                 \n",
      " flatten (Flatten)           (None, 175232)            0         \n",
      "                                                                 \n",
      " dense (Dense)               (None, 64)                11214912  \n",
      "                                                                 \n",
      " dense_1 (Dense)             (None, 1)                 65        \n",
      "                                                                 \n",
      "=================================================================\n",
      "Total params: 11,215,873\n",
      "Trainable params: 11,215,873\n",
      "Non-trainable params: 0\n",
      "_________________________________________________________________\n"
     ]
    }
   ],
   "source": [
    "model.summary()"
   ]
  },
  {
   "cell_type": "markdown",
   "id": "702d5eed-184b-4677-83e6-519f922bfb5d",
   "metadata": {},
   "source": [
    "`Answer: 11215873`"
   ]
  },
  {
   "cell_type": "markdown",
   "id": "cd5b91cc-70ee-4904-871c-8ce669128155",
   "metadata": {},
   "source": [
    "## Data Generators\n",
    "For the next two questions, use the following data generator for both train and test sets:\n",
    "\n",
    "```\n",
    "ImageDataGenerator(rescale=1./255)\n",
    "```\n",
    "\n",
    "- We don't need to do any additional pre-processing for the images.\n",
    "- When reading the data from train/val directories, check the class_mode parameter. Which value should it be for a binary classification problem?\n",
    "- Use`batch_size=20`\n",
    "- Use `shuffle=True` for both training and test sets.\n",
    "\n",
    "For training use .fit() with the following params:\n",
    "\n",
    "```\n",
    "model.fit(\n",
    "    train_generator,\n",
    "    epochs=10,\n",
    "    validation_data=test_generator\n",
    ")\n",
    "```"
   ]
  },
  {
   "cell_type": "code",
   "execution_count": 11,
   "id": "87086536-6a4e-4774-9ee1-e80603e88cf6",
   "metadata": {
    "execution": {
     "iopub.execute_input": "2022-11-20T12:55:00.502394Z",
     "iopub.status.busy": "2022-11-20T12:55:00.502111Z",
     "iopub.status.idle": "2022-11-20T12:55:00.506332Z",
     "shell.execute_reply": "2022-11-20T12:55:00.505448Z",
     "shell.execute_reply.started": "2022-11-20T12:55:00.502375Z"
    },
    "tags": []
   },
   "outputs": [],
   "source": [
    "# use data generator\n",
    "train_datagen = ImageDataGenerator(rescale=1./255)\n",
    "val_datagen = ImageDataGenerator(rescale=1./255)"
   ]
  },
  {
   "cell_type": "code",
   "execution_count": 12,
   "id": "cc604805-38dc-44f5-8af1-071112fb419d",
   "metadata": {
    "execution": {
     "iopub.execute_input": "2022-11-20T12:55:00.507729Z",
     "iopub.status.busy": "2022-11-20T12:55:00.507427Z",
     "iopub.status.idle": "2022-11-20T12:55:00.565704Z",
     "shell.execute_reply": "2022-11-20T12:55:00.564901Z",
     "shell.execute_reply.started": "2022-11-20T12:55:00.507702Z"
    },
    "tags": []
   },
   "outputs": [
    {
     "name": "stdout",
     "output_type": "stream",
     "text": [
      "Found 1594 images belonging to 2 classes.\n"
     ]
    }
   ],
   "source": [
    "# set class-mode parametr to \"binary\"\n",
    "# use batch-size = 20\n",
    "# Set shuffle = True\n",
    "train_generator = (\n",
    "    train_datagen\n",
    "    .flow_from_directory(\n",
    "        train_dir, \n",
    "        target_size=(150, 150), \n",
    "        batch_size=20, \n",
    "        class_mode='binary',\n",
    "        shuffle=True\n",
    "    )\n",
    ")"
   ]
  },
  {
   "cell_type": "code",
   "execution_count": 13,
   "id": "b26d1c75-9a58-48c4-8c41-ae642597c50f",
   "metadata": {
    "execution": {
     "iopub.execute_input": "2022-11-20T12:55:00.568408Z",
     "iopub.status.busy": "2022-11-20T12:55:00.568120Z",
     "iopub.status.idle": "2022-11-20T12:55:00.600118Z",
     "shell.execute_reply": "2022-11-20T12:55:00.599291Z",
     "shell.execute_reply.started": "2022-11-20T12:55:00.568387Z"
    },
    "tags": []
   },
   "outputs": [
    {
     "name": "stdout",
     "output_type": "stream",
     "text": [
      "Found 394 images belonging to 2 classes.\n"
     ]
    }
   ],
   "source": [
    "validation_generator = (\n",
    "    val_datagen\n",
    "    .flow_from_directory(\n",
    "        test_dir,\n",
    "        target_size=(150, 150),\n",
    "        batch_size=20,\n",
    "        class_mode='binary',\n",
    "        shuffle=True\n",
    "    )\n",
    ")"
   ]
  },
  {
   "cell_type": "markdown",
   "id": "551a1103-780c-4de9-9a81-570bad11e601",
   "metadata": {},
   "source": [
    "## Model fitting and Accuracy/Loss Evaluation"
   ]
  },
  {
   "cell_type": "code",
   "execution_count": 14,
   "id": "0c936380-298a-4c55-9b7f-c6dcf4cc59c7",
   "metadata": {
    "execution": {
     "iopub.execute_input": "2022-11-20T12:55:00.604815Z",
     "iopub.status.busy": "2022-11-20T12:55:00.604524Z",
     "iopub.status.idle": "2022-11-20T12:56:30.002011Z",
     "shell.execute_reply": "2022-11-20T12:56:30.001215Z",
     "shell.execute_reply.started": "2022-11-20T12:55:00.604792Z"
    }
   },
   "outputs": [
    {
     "name": "stdout",
     "output_type": "stream",
     "text": [
      "Epoch 1/10\n"
     ]
    },
    {
     "name": "stderr",
     "output_type": "stream",
     "text": [
      "2022-11-20 12:55:01.898500: I tensorflow/stream_executor/cuda/cuda_dnn.cc:384] Loaded cuDNN version 8100\n",
      "2022-11-20 12:55:02.535830: I tensorflow/core/platform/default/subprocess.cc:304] Start cannot spawn child process: No such file or directory\n",
      "2022-11-20 12:55:02.536746: I tensorflow/core/platform/default/subprocess.cc:304] Start cannot spawn child process: No such file or directory\n",
      "2022-11-20 12:55:02.536783: W tensorflow/stream_executor/gpu/asm_compiler.cc:80] Couldn't get ptxas version string: INTERNAL: Couldn't invoke ptxas --version\n",
      "2022-11-20 12:55:02.537800: I tensorflow/core/platform/default/subprocess.cc:304] Start cannot spawn child process: No such file or directory\n",
      "2022-11-20 12:55:02.537882: W tensorflow/stream_executor/gpu/redzone_allocator.cc:314] INTERNAL: Failed to launch ptxas\n",
      "Relying on driver to perform ptx compilation. \n",
      "Modify $PATH to customize ptxas location.\n",
      "This message will be only logged once.\n"
     ]
    },
    {
     "name": "stdout",
     "output_type": "stream",
     "text": [
      "80/80 [==============================] - 12s 122ms/step - loss: 0.6702 - acc: 0.6010 - val_loss: 0.6583 - val_acc: 0.5305\n",
      "Epoch 2/10\n",
      "80/80 [==============================] - 8s 105ms/step - loss: 0.5467 - acc: 0.7440 - val_loss: 0.4860 - val_acc: 0.7640\n",
      "Epoch 3/10\n",
      "80/80 [==============================] - 8s 105ms/step - loss: 0.4475 - acc: 0.8118 - val_loss: 0.4106 - val_acc: 0.8198\n",
      "Epoch 4/10\n",
      "80/80 [==============================] - 9s 117ms/step - loss: 0.3919 - acc: 0.8375 - val_loss: 0.3696 - val_acc: 0.8452\n",
      "Epoch 5/10\n",
      "80/80 [==============================] - 8s 105ms/step - loss: 0.3418 - acc: 0.8563 - val_loss: 0.3489 - val_acc: 0.8579\n",
      "Epoch 6/10\n",
      "80/80 [==============================] - 8s 106ms/step - loss: 0.3302 - acc: 0.8626 - val_loss: 0.3325 - val_acc: 0.8503\n",
      "Epoch 7/10\n",
      "80/80 [==============================] - 8s 106ms/step - loss: 0.2833 - acc: 0.8839 - val_loss: 0.4091 - val_acc: 0.8046\n",
      "Epoch 8/10\n",
      "80/80 [==============================] - 9s 107ms/step - loss: 0.2663 - acc: 0.8877 - val_loss: 0.3627 - val_acc: 0.8274\n",
      "Epoch 9/10\n",
      "80/80 [==============================] - 9s 106ms/step - loss: 0.2436 - acc: 0.9078 - val_loss: 0.3056 - val_acc: 0.8503\n",
      "Epoch 10/10\n",
      "80/80 [==============================] - 8s 106ms/step - loss: 0.2094 - acc: 0.9228 - val_loss: 0.3061 - val_acc: 0.8629\n"
     ]
    }
   ],
   "source": [
    "hist = model.fit(\n",
    "    train_generator,\n",
    "    epochs=10,\n",
    "    validation_data=validation_generator\n",
    ")"
   ]
  },
  {
   "cell_type": "code",
   "execution_count": 15,
   "id": "d6683fb3-46e6-450a-8a07-348646ce82f4",
   "metadata": {
    "execution": {
     "iopub.execute_input": "2022-11-20T12:56:30.003603Z",
     "iopub.status.busy": "2022-11-20T12:56:30.003199Z",
     "iopub.status.idle": "2022-11-20T12:56:30.009345Z",
     "shell.execute_reply": "2022-11-20T12:56:30.008576Z",
     "shell.execute_reply.started": "2022-11-20T12:56:30.003548Z"
    },
    "tags": []
   },
   "outputs": [
    {
     "data": {
      "text/plain": [
       "dict_keys(['loss', 'acc', 'val_loss', 'val_acc'])"
      ]
     },
     "execution_count": 15,
     "metadata": {},
     "output_type": "execute_result"
    }
   ],
   "source": [
    "hist.history.keys()"
   ]
  },
  {
   "cell_type": "code",
   "execution_count": 16,
   "id": "315776ff-5638-4afa-a914-96e7cf6b8cfb",
   "metadata": {
    "execution": {
     "iopub.execute_input": "2022-11-20T12:56:30.010632Z",
     "iopub.status.busy": "2022-11-20T12:56:30.010323Z",
     "iopub.status.idle": "2022-11-20T12:56:30.015104Z",
     "shell.execute_reply": "2022-11-20T12:56:30.014417Z",
     "shell.execute_reply.started": "2022-11-20T12:56:30.010611Z"
    },
    "tags": []
   },
   "outputs": [],
   "source": [
    "acc = hist.history['acc']\n",
    "val_acc= hist.history['val_acc']\n",
    "loss = hist.history['loss']\n",
    "val_loss= hist.history['val_loss']"
   ]
  },
  {
   "cell_type": "code",
   "execution_count": 17,
   "id": "a29b2f13-e1e9-4898-8e7a-0c1d8ebb24b1",
   "metadata": {
    "execution": {
     "iopub.execute_input": "2022-11-20T12:56:30.016470Z",
     "iopub.status.busy": "2022-11-20T12:56:30.016198Z",
     "iopub.status.idle": "2022-11-20T12:56:30.020992Z",
     "shell.execute_reply": "2022-11-20T12:56:30.020083Z",
     "shell.execute_reply.started": "2022-11-20T12:56:30.016449Z"
    }
   },
   "outputs": [],
   "source": [
    "mean_acc = np.median(acc)"
   ]
  },
  {
   "cell_type": "markdown",
   "id": "4dde4ce7-8bc5-4735-b173-4fdc16662774",
   "metadata": {},
   "source": [
    "## Question 3\n",
    "\n",
    "What is the median of training accuracy for all the epochs for this model?\n",
    "\n",
    "- 0.40\n",
    "- 0.60\n",
    "- 0.90\n",
    "- 0.20"
   ]
  },
  {
   "cell_type": "code",
   "execution_count": 18,
   "id": "e707eab6-a9ca-412a-94e6-8e60ce7fa3aa",
   "metadata": {
    "execution": {
     "iopub.execute_input": "2022-11-20T12:56:30.022762Z",
     "iopub.status.busy": "2022-11-20T12:56:30.022328Z",
     "iopub.status.idle": "2022-11-20T12:56:30.205229Z",
     "shell.execute_reply": "2022-11-20T12:56:30.204410Z",
     "shell.execute_reply.started": "2022-11-20T12:56:30.022731Z"
    },
    "tags": []
   },
   "outputs": [
    {
     "name": "stdout",
     "output_type": "stream",
     "text": [
      "Mean Acc 0.8594730198383331\n"
     ]
    },
    {
     "data": {
      "image/png": "[encoded data removed]",
      "text/plain": [
       "<Figure size 640x480 with 1 Axes>"
      ]
     },
     "metadata": {},
     "output_type": "display_data"
    }
   ],
   "source": [
    "epochs = range(1,len(acc)+1)\n",
    "\n",
    "plt.plot(epochs, acc, label='Training acc')\n",
    "plt.plot(epochs, val_acc, label='Validation acc')\n",
    "plt.axhline(y=mean_acc, color='violet', linestyle='--')\n",
    "\n",
    "plt.title('Training and Validation Accuracy')\n",
    "plt.legend()\n",
    "print('Mean Acc',mean_acc)"
   ]
  },
  {
   "cell_type": "markdown",
   "id": "21ab6d31-c98d-47d9-aa17-86ba7215ecb6",
   "metadata": {},
   "source": [
    "`Answer 0.9`"
   ]
  },
  {
   "cell_type": "markdown",
   "id": "14940954-e78b-4cf0-ac7e-74ea04275757",
   "metadata": {},
   "source": [
    "## Question 4\n",
    "\n",
    "What is the standard deviation of training loss for all the epochs for this model?\n",
    "\n",
    "- 0.11\n",
    "- 0.66\n",
    "- 0.99\n",
    "- 0.33"
   ]
  },
  {
   "cell_type": "code",
   "execution_count": 19,
   "id": "5c95fcdc-a9b1-4dea-bd43-f375e787ba79",
   "metadata": {
    "execution": {
     "iopub.execute_input": "2022-11-20T12:56:30.206493Z",
     "iopub.status.busy": "2022-11-20T12:56:30.206186Z",
     "iopub.status.idle": "2022-11-20T12:56:30.210201Z",
     "shell.execute_reply": "2022-11-20T12:56:30.209595Z",
     "shell.execute_reply.started": "2022-11-20T12:56:30.206470Z"
    }
   },
   "outputs": [],
   "source": [
    "std_acc = np.std(loss)"
   ]
  },
  {
   "cell_type": "code",
   "execution_count": 20,
   "id": "96e18cc3-24ab-4c17-802e-903067490478",
   "metadata": {
    "execution": {
     "iopub.execute_input": "2022-11-20T12:56:30.211302Z",
     "iopub.status.busy": "2022-11-20T12:56:30.211050Z",
     "iopub.status.idle": "2022-11-20T12:56:30.329608Z",
     "shell.execute_reply": "2022-11-20T12:56:30.328934Z",
     "shell.execute_reply.started": "2022-11-20T12:56:30.211282Z"
    },
    "tags": []
   },
   "outputs": [
    {
     "name": "stdout",
     "output_type": "stream",
     "text": [
      "Std acc 0.137889698864394\n"
     ]
    },
    {
     "data": {
      "image/png": "[encoded data removed]",
      "text/plain": [
       "<Figure size 640x480 with 1 Axes>"
      ]
     },
     "metadata": {},
     "output_type": "display_data"
    }
   ],
   "source": [
    "plt.plot(epochs, loss, label='Training loss')\n",
    "plt.plot(epochs, val_loss, label='Validation loss')\n",
    "\n",
    "plt.title('Training and Validation Loss')\n",
    "plt.legend()\n",
    "print('Std acc',std_acc)"
   ]
  },
  {
   "cell_type": "markdown",
   "id": "c15fb3bf-17f5-4f02-99cc-46c52332ecbf",
   "metadata": {
    "execution": {
     "iopub.execute_input": "2022-11-20T11:08:01.010833Z",
     "iopub.status.busy": "2022-11-20T11:08:01.010423Z",
     "iopub.status.idle": "2022-11-20T11:08:01.015794Z",
     "shell.execute_reply": "2022-11-20T11:08:01.014714Z",
     "shell.execute_reply.started": "2022-11-20T11:08:01.010809Z"
    }
   },
   "source": [
    "`Answer 0.11`"
   ]
  },
  {
   "cell_type": "markdown",
   "id": "25e2b76f-3595-41dd-9f5c-2ecb592d46a1",
   "metadata": {},
   "source": [
    "## Data Augmentation\n",
    "\n",
    "For the next two questions, we'll generate more data using data augmentations.\n",
    "\n",
    "Add the following augmentations to your training data generator:\n",
    "\n",
    "- `rotation_range=40`,\n",
    "- `width_shift_range=0.2`,\n",
    "- `height_shift_range=0.2`,\n",
    "- `shear_range=0.2`,\n",
    "- `zoom_range=0.2`,\n",
    "- `horizontal_flip=True`,\n",
    "- `fill_mode='nearest'`"
   ]
  },
  {
   "cell_type": "code",
   "execution_count": 21,
   "id": "399d9718-631a-4caa-bf78-797d003b8027",
   "metadata": {
    "execution": {
     "iopub.execute_input": "2022-11-20T12:56:30.330844Z",
     "iopub.status.busy": "2022-11-20T12:56:30.330552Z",
     "iopub.status.idle": "2022-11-20T12:56:30.334906Z",
     "shell.execute_reply": "2022-11-20T12:56:30.334117Z",
     "shell.execute_reply.started": "2022-11-20T12:56:30.330821Z"
    },
    "tags": []
   },
   "outputs": [],
   "source": [
    "train_datagen = ImageDataGenerator(\n",
    "    rescale=1./255,\n",
    "    rotation_range=40,\n",
    "    width_shift_range=0.2,\n",
    "    height_shift_range=0.2,\n",
    "    shear_range=0.2,\n",
    "    zoom_range=0.2,\n",
    "    horizontal_flip=True,\n",
    "    fill_mode='nearest'\n",
    ")"
   ]
  },
  {
   "cell_type": "code",
   "execution_count": 22,
   "id": "b6dad453-01c6-46dc-9548-b1fee16a414c",
   "metadata": {
    "execution": {
     "iopub.execute_input": "2022-11-20T12:56:30.336124Z",
     "iopub.status.busy": "2022-11-20T12:56:30.335787Z",
     "iopub.status.idle": "2022-11-20T12:56:30.339715Z",
     "shell.execute_reply": "2022-11-20T12:56:30.339087Z",
     "shell.execute_reply.started": "2022-11-20T12:56:30.336089Z"
    },
    "tags": []
   },
   "outputs": [],
   "source": [
    "test_datagen = ImageDataGenerator(rescale=1./255)"
   ]
  },
  {
   "cell_type": "code",
   "execution_count": 23,
   "id": "d8626c9f-cdca-41f2-8778-2891d3586652",
   "metadata": {
    "execution": {
     "iopub.execute_input": "2022-11-20T12:56:30.340731Z",
     "iopub.status.busy": "2022-11-20T12:56:30.340534Z",
     "iopub.status.idle": "2022-11-20T12:56:30.391659Z",
     "shell.execute_reply": "2022-11-20T12:56:30.390870Z",
     "shell.execute_reply.started": "2022-11-20T12:56:30.340713Z"
    },
    "tags": []
   },
   "outputs": [
    {
     "name": "stdout",
     "output_type": "stream",
     "text": [
      "Found 1594 images belonging to 2 classes.\n"
     ]
    }
   ],
   "source": [
    "train_generator = (\n",
    "    train_datagen\n",
    "    .flow_from_directory(\n",
    "        train_dir, \n",
    "        target_size=(150, 150),\n",
    "        batch_size=32,\n",
    "        class_mode='binary'\n",
    "    )\n",
    ")"
   ]
  },
  {
   "cell_type": "code",
   "execution_count": 24,
   "id": "4001712c-44a4-40a7-8c69-2351f5aead50",
   "metadata": {
    "execution": {
     "iopub.execute_input": "2022-11-20T12:56:30.392900Z",
     "iopub.status.busy": "2022-11-20T12:56:30.392627Z",
     "iopub.status.idle": "2022-11-20T12:56:30.411911Z",
     "shell.execute_reply": "2022-11-20T12:56:30.411156Z",
     "shell.execute_reply.started": "2022-11-20T12:56:30.392877Z"
    },
    "tags": []
   },
   "outputs": [
    {
     "name": "stdout",
     "output_type": "stream",
     "text": [
      "Found 394 images belonging to 2 classes.\n"
     ]
    }
   ],
   "source": [
    "validation_generator = (\n",
    "    test_datagen\n",
    "    .flow_from_directory(\n",
    "        test_dir, \n",
    "        target_size=(150, 150),\n",
    "        batch_size=32,\n",
    "        class_mode='binary'\n",
    "    )\n",
    ")"
   ]
  },
  {
   "cell_type": "markdown",
   "id": "87209854-74f4-4a18-8ebe-09880b508549",
   "metadata": {},
   "source": [
    "## Question 5\n",
    "\n",
    "Let's train our model for 10 more epochs using the same code as previously. Make sure you don't re-create the model - we want to continue training the model we already started training.\n",
    "\n",
    "What is the mean of test loss for all the epochs for the model trained with augmentations?\n",
    "\n",
    "- 0.15\n",
    "- 0.77\n",
    "- 0.37\n",
    "- 0.97"
   ]
  },
  {
   "cell_type": "code",
   "execution_count": null,
   "id": "de8bb599-1298-4f51-88b4-c84e8b04dbf5",
   "metadata": {
    "execution": {
     "iopub.execute_input": "2022-11-20T12:56:30.413006Z",
     "iopub.status.busy": "2022-11-20T12:56:30.412745Z"
    }
   },
   "outputs": [
    {
     "name": "stdout",
     "output_type": "stream",
     "text": [
      "Epoch 1/10\n",
      "50/50 [==============================] - 15s 304ms/step - loss: 0.4292 - acc: 0.8130 - val_loss: 0.4882 - val_acc: 0.7843\n",
      "Epoch 2/10\n",
      "50/50 [==============================] - 15s 299ms/step - loss: 0.4352 - acc: 0.8043 - val_loss: 0.3091 - val_acc: 0.8680\n",
      "Epoch 3/10\n",
      "50/50 [==============================] - 15s 299ms/step - loss: 0.4107 - acc: 0.8149 - val_loss: 0.3986 - val_acc: 0.8147\n",
      "Epoch 4/10\n",
      "50/50 [==============================] - 15s 300ms/step - loss: 0.4006 - acc: 0.8256 - val_loss: 0.5188 - val_acc: 0.7665\n",
      "Epoch 5/10\n",
      "50/50 [==============================] - 15s 301ms/step - loss: 0.3931 - acc: 0.8325 - val_loss: 0.3806 - val_acc: 0.8249\n",
      "Epoch 6/10\n",
      "50/50 [==============================] - 15s 301ms/step - loss: 0.3984 - acc: 0.8231 - val_loss: 0.4890 - val_acc: 0.7817\n",
      "Epoch 7/10\n",
      "50/50 [==============================] - 15s 299ms/step - loss: 0.3810 - acc: 0.8300 - val_loss: 0.5614 - val_acc: 0.7614\n",
      "Epoch 8/10\n",
      "50/50 [==============================] - 15s 300ms/step - loss: 0.3693 - acc: 0.8394 - val_loss: 0.4591 - val_acc: 0.7995\n",
      "Epoch 9/10\n",
      "50/50 [==============================] - ETA: 0s - loss: 0.3673 - acc: 0.8469"
     ]
    }
   ],
   "source": [
    "hist = model.fit(\n",
    "    train_generator,\n",
    "    epochs=10,\n",
    "    validation_data=validation_generator\n",
    ")"
   ]
  },
  {
   "cell_type": "code",
   "execution_count": null,
   "id": "e7c0346e-f6c8-46e1-ad16-25b1c858b526",
   "metadata": {},
   "outputs": [],
   "source": [
    "acc = hist.history['acc']\n",
    "val_acc= hist.history['val_acc']\n",
    "loss = hist.history['loss']\n",
    "val_loss= hist.history['val_loss']"
   ]
  },
  {
   "cell_type": "code",
   "execution_count": null,
   "id": "95daeb34-bbd6-413c-a5a3-f6f8612e5be2",
   "metadata": {},
   "outputs": [],
   "source": [
    "mean_val_loss = np.median(val_loss)"
   ]
  },
  {
   "cell_type": "code",
   "execution_count": null,
   "id": "27351824-961d-44c3-bac0-12a37582a71a",
   "metadata": {
    "tags": []
   },
   "outputs": [],
   "source": [
    "epochs = range(1,len(acc)+1)\n",
    "\n",
    "plt.plot(epochs, acc, label='Training acc')\n",
    "plt.plot(epochs, val_acc, label='Validation acc')\n",
    "\n",
    "plt.title('Training and Validation Accuracy')\n",
    "plt.legend()"
   ]
  },
  {
   "cell_type": "code",
   "execution_count": null,
   "id": "19a89822-e639-4330-b7ec-4ee7668ff457",
   "metadata": {
    "tags": []
   },
   "outputs": [],
   "source": [
    "plt.plot(epochs, loss, label='Training loss')\n",
    "plt.plot(epochs, val_loss, label='Validation loss')\n",
    "\n",
    "plt.axhline(y=mean_val_loss, color='red', linestyle='--')\n",
    "\n",
    "plt.title('Training and Validation Accuracy')\n",
    "plt.legend()\n",
    "print('Mean Val loss',mean_val_loss)"
   ]
  },
  {
   "cell_type": "markdown",
   "id": "4d4ac7a4-c9b1-4712-9e2d-739d1fd4e120",
   "metadata": {},
   "source": [
    "`Answer: 0.37`"
   ]
  },
  {
   "cell_type": "markdown",
   "id": "7a624780-068b-4d32-bc86-ec053349c6fe",
   "metadata": {},
   "source": [
    "## Question 6\n",
    "\n",
    "What's the average of test accuracy for the last 5 epochs (from 6 to 10) for the model trained with augmentations?\n",
    "\n",
    "- 0.84\n",
    "- 0.54\n",
    "- 0.44\n",
    "- 0.24"
   ]
  },
  {
   "cell_type": "code",
   "execution_count": null,
   "id": "668308fc-b6d1-46aa-8546-d8763eac3e76",
   "metadata": {
    "tags": []
   },
   "outputs": [],
   "source": [
    "np.mean(val_acc[-5:])"
   ]
  },
  {
   "cell_type": "markdown",
   "id": "91497792-405f-4272-ae42-8c052c530c45",
   "metadata": {},
   "source": [
    "`Answer 0.84`"
   ]
  },
  {
   "cell_type": "code",
   "execution_count": null,
   "id": "b311e850-4b63-4c2b-86bf-adc8466308a8",
   "metadata": {},
   "outputs": [],
   "source": []
  }
 ],
 "metadata": {
  "kernelspec": {
   "display_name": "saturn (Python 3)",
   "language": "python",
   "name": "python3"
  },
  "language_info": {
   "codemirror_mode": {
    "name": "ipython",
    "version": 3
   },
   "file_extension": ".py",
   "mimetype": "text/x-python",
   "name": "python",
   "nbconvert_exporter": "python",
   "pygments_lexer": "ipython3",
   "version": "3.9.13"
  }
 },
 "nbformat": 4,
 "nbformat_minor": 5
}
