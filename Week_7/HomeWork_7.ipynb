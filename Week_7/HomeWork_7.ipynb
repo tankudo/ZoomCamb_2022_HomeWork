{
 "cells": [
  {
   "cell_type": "markdown",
   "metadata": {},
   "source": [
    "## Homework\n",
    "\n",
    "Note: sometimes your answer might not match one of the options exactly. That's fine. Select the option that's closest to your solution.\n",
    "The goal of this homework is to familiarize you with BentoML and how to build and test an ML production service.\n",
    "\n",
    "Background\n",
    "\n",
    "You are a new recruit at ACME corp. Your manager is emailing you about your first assignment.\n",
    "\n",
    "Email from your manager\n",
    "\n",
    "Good morning recruit! It's good to have you here! I have an assignment for you. I have a data scientist that's built a credit risk model in a jupyter notebook. I need you to run the notebook and save the model with BentoML and see how big the model is. If it's greater than a certain size, I'm going to have to request additional resources from our infra team. Please let me know how big it is.\n",
    "\n",
    "Thanks,\n",
    "\n",
    "Mr McManager"
   ]
  },
  {
   "cell_type": "markdown",
   "metadata": {},
   "source": [
    "### Question 1\n",
    "\n",
    "Install BentoML\n",
    "What's the version of BentoML you installed?\n",
    "Use --version to find out\n",
    "\n",
    "**1.0.7**"
   ]
  },
  {
   "cell_type": "code",
   "execution_count": 1,
   "metadata": {
    "collapsed": true
   },
   "outputs": [
    {
     "name": "stdout",
     "output_type": "stream",
     "text": [
      "\u001b[33mWARNING: Ignoring invalid distribution -cikit-learn (/Users/tatyjanaankudo/.local/lib/python3.8/site-packages)\u001b[0m\n",
      "\u001b[33mWARNING: Ignoring invalid distribution - (/Users/tatyjanaankudo/opt/anaconda3/lib/python3.8/site-packages)\u001b[0m\n",
      "\u001b[33mWARNING: Ignoring invalid distribution -cipy (/Users/tatyjanaankudo/opt/anaconda3/lib/python3.8/site-packages)\u001b[0m\n",
      "\u001b[33mWARNING: Ignoring invalid distribution -cikit-learn (/Users/tatyjanaankudo/.local/lib/python3.8/site-packages)\u001b[0m\n",
      "\u001b[33mWARNING: Ignoring invalid distribution - (/Users/tatyjanaankudo/opt/anaconda3/lib/python3.8/site-packages)\u001b[0m\n",
      "\u001b[33mWARNING: Ignoring invalid distribution -cipy (/Users/tatyjanaankudo/opt/anaconda3/lib/python3.8/site-packages)\u001b[0m\n",
      "Collecting bentoml\n",
      "  Downloading bentoml-1.0.7-py3-none-any.whl (858 kB)\n",
      "\u001b[K     |████████████████████████████████| 858 kB 3.6 MB/s eta 0:00:01\n",
      "\u001b[?25hRequirement already satisfied: python-dateutil in /Users/tatyjanaankudo/opt/anaconda3/lib/python3.8/site-packages (from bentoml) (2.8.1)\n",
      "Collecting circus\n",
      "  Downloading circus-0.17.2-py3-none-any.whl (204 kB)\n",
      "\u001b[K     |████████████████████████████████| 204 kB 13.2 MB/s eta 0:00:01\n",
      "\u001b[?25hCollecting uvicorn\n",
      "  Downloading uvicorn-0.19.0-py3-none-any.whl (56 kB)\n",
      "\u001b[K     |████████████████████████████████| 56 kB 9.2 MB/s  eta 0:00:01\n",
      "\u001b[?25hCollecting attrs>=21.1.0\n",
      "  Downloading attrs-22.1.0-py2.py3-none-any.whl (58 kB)\n",
      "\u001b[K     |████████████████████████████████| 58 kB 9.0 MB/s  eta 0:00:01\n",
      "\u001b[?25hCollecting opentelemetry-semantic-conventions==0.33b0\n",
      "  Downloading opentelemetry_semantic_conventions-0.33b0-py3-none-any.whl (26 kB)\n",
      "Requirement already satisfied: numpy in /Users/tatyjanaankudo/opt/anaconda3/lib/python3.8/site-packages (from bentoml) (1.19.5)\n",
      "Requirement already satisfied: cloudpickle in /Users/tatyjanaankudo/opt/anaconda3/lib/python3.8/site-packages (from bentoml) (1.5.0)\n",
      "Collecting rich>=11.2.0\n",
      "  Downloading rich-12.6.0-py3-none-any.whl (237 kB)\n",
      "\u001b[K     |████████████████████████████████| 237 kB 12.6 MB/s eta 0:00:01\n",
      "\u001b[?25hCollecting fs\n",
      "  Downloading fs-2.4.16-py2.py3-none-any.whl (135 kB)\n",
      "\u001b[K     |████████████████████████████████| 135 kB 12.7 MB/s eta 0:00:01\n",
      "\u001b[?25hCollecting opentelemetry-util-http==0.33b0\n",
      "  Downloading opentelemetry_util_http-0.33b0-py3-none-any.whl (6.6 kB)\n",
      "Collecting deepmerge\n",
      "  Downloading deepmerge-1.1.0-py3-none-any.whl (8.5 kB)\n",
      "Collecting simple-di>=0.1.4\n",
      "  Downloading simple_di-0.1.5-py3-none-any.whl (9.8 kB)\n",
      "Collecting pynvml<12\n",
      "  Downloading pynvml-11.4.1-py3-none-any.whl (46 kB)\n",
      "\u001b[K     |████████████████████████████████| 46 kB 8.9 MB/s  eta 0:00:01\n",
      "\u001b[?25hCollecting schema\n",
      "  Downloading schema-0.7.5-py2.py3-none-any.whl (17 kB)\n",
      "Requirement already satisfied: aiohttp in /Users/tatyjanaankudo/opt/anaconda3/lib/python3.8/site-packages (from bentoml) (3.7.4.post0)\n",
      "Requirement already satisfied: PyYAML>=5.0 in /Users/tatyjanaankudo/opt/anaconda3/lib/python3.8/site-packages (from bentoml) (5.3.1)\n",
      "Collecting prometheus-client>=0.10.0\n",
      "  Downloading prometheus_client-0.15.0-py3-none-any.whl (60 kB)\n",
      "\u001b[K     |████████████████████████████████| 60 kB 6.6 MB/s eta 0:00:011\n",
      "\u001b[?25hCollecting opentelemetry-api>=1.9.0\n",
      "  Downloading opentelemetry_api-1.13.0-py3-none-any.whl (50 kB)\n",
      "\u001b[K     |████████████████████████████████| 50 kB 10.2 MB/s eta 0:00:01\n",
      "\u001b[?25hCollecting python-dotenv>=0.20.0\n",
      "  Downloading python_dotenv-0.21.0-py3-none-any.whl (18 kB)\n",
      "Collecting pip-tools>=6.6.2\n",
      "  Downloading pip_tools-6.9.0-py3-none-any.whl (52 kB)\n",
      "\u001b[K     |████████████████████████████████| 52 kB 3.9 MB/s  eta 0:00:01\n",
      "\u001b[?25hCollecting starlette\n",
      "  Downloading starlette-0.21.0-py3-none-any.whl (64 kB)\n",
      "\u001b[K     |████████████████████████████████| 64 kB 8.2 MB/s  eta 0:00:01\n",
      "\u001b[?25hCollecting cattrs>=22.1.0\n",
      "  Downloading cattrs-22.2.0-py3-none-any.whl (35 kB)\n",
      "Collecting opentelemetry-instrumentation==0.33b0\n",
      "  Downloading opentelemetry_instrumentation-0.33b0-py3-none-any.whl (23 kB)\n",
      "Requirement already satisfied: requests in /Users/tatyjanaankudo/opt/anaconda3/lib/python3.8/site-packages (from bentoml) (2.25.1)\n",
      "Collecting opentelemetry-sdk>=1.9.0\n",
      "  Downloading opentelemetry_sdk-1.13.0-py3-none-any.whl (81 kB)\n",
      "\u001b[K     |████████████████████████████████| 81 kB 10.8 MB/s eta 0:00:01\n",
      "\u001b[?25hCollecting pathspec\n",
      "  Downloading pathspec-0.10.1-py3-none-any.whl (27 kB)\n",
      "Collecting opentelemetry-instrumentation-asgi==0.33b0\n",
      "  Downloading opentelemetry_instrumentation_asgi-0.33b0-py3-none-any.whl (8.9 kB)\n",
      "Requirement already satisfied: psutil in /Users/tatyjanaankudo/opt/anaconda3/lib/python3.8/site-packages (from bentoml) (5.7.0)\n",
      "Requirement already satisfied: packaging>=20.0 in /Users/tatyjanaankudo/opt/anaconda3/lib/python3.8/site-packages (from bentoml) (20.4)\n",
      "Collecting Jinja2>=3.0.1\n",
      "  Downloading Jinja2-3.1.2-py3-none-any.whl (133 kB)\n",
      "\u001b[K     |████████████████████████████████| 133 kB 12.4 MB/s eta 0:00:01\n",
      "\u001b[?25hCollecting python-multipart\n",
      "  Downloading python-multipart-0.0.5.tar.gz (32 kB)\n",
      "Collecting watchfiles>=0.15.0\n",
      "  Downloading watchfiles-0.18.0-cp37-abi3-macosx_10_7_x86_64.whl (373 kB)\n",
      "\u001b[K     |████████████████████████████████| 373 kB 20.5 MB/s eta 0:00:01\n",
      "\u001b[?25hRequirement already satisfied: click>=7.0 in /Users/tatyjanaankudo/opt/anaconda3/lib/python3.8/site-packages (from bentoml) (7.1.2)\n",
      "Collecting opentelemetry-instrumentation-aiohttp-client==0.33b0\n",
      "  Downloading opentelemetry_instrumentation_aiohttp_client-0.33b0-py3-none-any.whl (11 kB)\n",
      "Requirement already satisfied: setuptools>=16.0 in /Users/tatyjanaankudo/opt/anaconda3/lib/python3.8/site-packages (from opentelemetry-instrumentation==0.33b0->bentoml) (54.1.1)\n",
      "Requirement already satisfied: wrapt<2.0.0,>=1.0.0 in /Users/tatyjanaankudo/opt/anaconda3/lib/python3.8/site-packages (from opentelemetry-instrumentation==0.33b0->bentoml) (1.12.1)\n",
      "Collecting asgiref~=3.0\n",
      "  Downloading asgiref-3.5.2-py3-none-any.whl (22 kB)\n",
      "Collecting exceptiongroup\n",
      "  Downloading exceptiongroup-1.0.0rc9-py3-none-any.whl (12 kB)\n",
      "Collecting MarkupSafe>=2.0\n",
      "  Downloading MarkupSafe-2.1.1-cp38-cp38-macosx_10_9_x86_64.whl (13 kB)\n",
      "Collecting deprecated>=1.2.6\n",
      "  Downloading Deprecated-1.2.13-py2.py3-none-any.whl (9.6 kB)\n",
      "Collecting opentelemetry-sdk>=1.9.0\n",
      "  Downloading opentelemetry_sdk-1.12.0-py3-none-any.whl (81 kB)\n",
      "\u001b[K     |████████████████████████████████| 81 kB 15.1 MB/s eta 0:00:01\n",
      "\u001b[?25hCollecting opentelemetry-api>=1.9.0\n",
      "  Downloading opentelemetry_api-1.12.0-py3-none-any.whl (52 kB)\n",
      "\u001b[K     |████████████████████████████████| 52 kB 3.2 MB/s  eta 0:00:01\n",
      "\u001b[?25hRequirement already satisfied: typing-extensions>=3.7.4 in /Users/tatyjanaankudo/opt/anaconda3/lib/python3.8/site-packages (from opentelemetry-sdk>=1.9.0->bentoml) (3.7.4.3)\n",
      "Requirement already satisfied: pyparsing>=2.0.2 in /Users/tatyjanaankudo/opt/anaconda3/lib/python3.8/site-packages (from packaging>=20.0->bentoml) (2.4.7)\n",
      "Requirement already satisfied: six in /Users/tatyjanaankudo/opt/anaconda3/lib/python3.8/site-packages (from packaging>=20.0->bentoml) (1.15.0)\n",
      "Collecting build\n",
      "  Downloading build-0.8.0-py3-none-any.whl (17 kB)\n",
      "Requirement already satisfied: wheel in /Users/tatyjanaankudo/opt/anaconda3/lib/python3.8/site-packages (from pip-tools>=6.6.2->bentoml) (0.36.2)\n",
      "Collecting pip>=21.2\n",
      "  Downloading pip-22.3-py3-none-any.whl (2.1 MB)\n",
      "\u001b[K     |████████████████████████████████| 2.1 MB 13.4 MB/s eta 0:00:01\n",
      "\u001b[?25hRequirement already satisfied: pygments<3.0.0,>=2.6.0 in /Users/tatyjanaankudo/opt/anaconda3/lib/python3.8/site-packages (from rich>=11.2.0->bentoml) (2.6.1)\n",
      "Collecting typing-extensions>=3.7.4\n",
      "  Downloading typing_extensions-4.4.0-py3-none-any.whl (26 kB)\n",
      "Collecting commonmark<0.10.0,>=0.9.0\n",
      "  Downloading commonmark-0.9.1-py2.py3-none-any.whl (51 kB)\n",
      "\u001b[K     |████████████████████████████████| 51 kB 10.2 MB/s eta 0:00:01\n",
      "\u001b[?25hCollecting anyio<4,>=3.0.0\n",
      "  Downloading anyio-3.6.2-py3-none-any.whl (80 kB)\n",
      "\u001b[K     |████████████████████████████████| 80 kB 16.3 MB/s eta 0:00:01\n",
      "\u001b[?25hCollecting sniffio>=1.1\n",
      "  Downloading sniffio-1.3.0-py3-none-any.whl (10 kB)\n",
      "Requirement already satisfied: idna>=2.8 in /Users/tatyjanaankudo/opt/anaconda3/lib/python3.8/site-packages (from anyio<4,>=3.0.0->watchfiles>=0.15.0->bentoml) (2.10)\n",
      "Requirement already satisfied: multidict<7.0,>=4.5 in /Users/tatyjanaankudo/opt/anaconda3/lib/python3.8/site-packages (from aiohttp->bentoml) (5.1.0)\n"
     ]
    },
    {
     "name": "stdout",
     "output_type": "stream",
     "text": [
      "Requirement already satisfied: async-timeout<4.0,>=3.0 in /Users/tatyjanaankudo/opt/anaconda3/lib/python3.8/site-packages (from aiohttp->bentoml) (3.0.1)\n",
      "Requirement already satisfied: yarl<2.0,>=1.0 in /Users/tatyjanaankudo/opt/anaconda3/lib/python3.8/site-packages (from aiohttp->bentoml) (1.6.3)\n",
      "Requirement already satisfied: chardet<5.0,>=2.0 in /Users/tatyjanaankudo/opt/anaconda3/lib/python3.8/site-packages (from aiohttp->bentoml) (3.0.4)\n",
      "Collecting pep517>=0.9.1\n",
      "  Downloading pep517-0.13.0-py3-none-any.whl (18 kB)\n",
      "Collecting tomli>=1.0.0\n",
      "  Downloading tomli-2.0.1-py3-none-any.whl (12 kB)\n",
      "Requirement already satisfied: tornado>=5.0.2 in /Users/tatyjanaankudo/opt/anaconda3/lib/python3.8/site-packages (from circus->bentoml) (6.0.4)\n",
      "Requirement already satisfied: pyzmq>=17.0 in /Users/tatyjanaankudo/opt/anaconda3/lib/python3.8/site-packages (from circus->bentoml) (19.0.1)\n",
      "Requirement already satisfied: appdirs~=1.4.3 in /Users/tatyjanaankudo/opt/anaconda3/lib/python3.8/site-packages (from fs->bentoml) (1.4.4)\n",
      "Requirement already satisfied: certifi>=2017.4.17 in /Users/tatyjanaankudo/opt/anaconda3/lib/python3.8/site-packages (from requests->bentoml) (2020.6.20)\n",
      "Requirement already satisfied: urllib3<1.27,>=1.21.1 in /Users/tatyjanaankudo/opt/anaconda3/lib/python3.8/site-packages (from requests->bentoml) (1.25.9)\n",
      "Requirement already satisfied: contextlib2>=0.5.5 in /Users/tatyjanaankudo/opt/anaconda3/lib/python3.8/site-packages (from schema->bentoml) (0.6.0.post1)\n",
      "Collecting h11>=0.8\n",
      "  Downloading h11-0.14.0-py3-none-any.whl (58 kB)\n",
      "\u001b[K     |████████████████████████████████| 58 kB 18.4 MB/s eta 0:00:01\n",
      "\u001b[?25hBuilding wheels for collected packages: python-multipart\n",
      "  Building wheel for python-multipart (setup.py) ... \u001b[?25ldone\n",
      "\u001b[?25h  Created wheel for python-multipart: filename=python_multipart-0.0.5-py3-none-any.whl size=31670 sha256=99ad464bca39781561b7ac5488a5da559ef6f99512a058aa85fbc5c6271c3500\n",
      "  Stored in directory: /Users/tatyjanaankudo/Library/Caches/pip/wheels/9e/fc/1c/cf980e6413d3ee8e70cd8f39e2366b0f487e3e221aeb452eb0\n",
      "Successfully built python-multipart\n",
      "\u001b[33mWARNING: Ignoring invalid distribution -cikit-learn (/Users/tatyjanaankudo/.local/lib/python3.8/site-packages)\u001b[0m\n",
      "\u001b[33mWARNING: Ignoring invalid distribution - (/Users/tatyjanaankudo/opt/anaconda3/lib/python3.8/site-packages)\u001b[0m\n",
      "\u001b[33mWARNING: Ignoring invalid distribution -cipy (/Users/tatyjanaankudo/opt/anaconda3/lib/python3.8/site-packages)\u001b[0m\n",
      "Installing collected packages: tomli, deprecated, sniffio, pep517, opentelemetry-api, typing-extensions, pip, opentelemetry-util-http, opentelemetry-semantic-conventions, opentelemetry-instrumentation, MarkupSafe, h11, exceptiongroup, commonmark, build, attrs, asgiref, anyio, watchfiles, uvicorn, starlette, simple-di, schema, rich, python-multipart, python-dotenv, pynvml, prometheus-client, pip-tools, pathspec, opentelemetry-sdk, opentelemetry-instrumentation-asgi, opentelemetry-instrumentation-aiohttp-client, Jinja2, fs, deepmerge, circus, cattrs, bentoml\n",
      "  Attempting uninstall: typing-extensions\n",
      "\u001b[33m    WARNING: Ignoring invalid distribution -cikit-learn (/Users/tatyjanaankudo/.local/lib/python3.8/site-packages)\u001b[0m\n",
      "\u001b[33m    WARNING: Ignoring invalid distribution - (/Users/tatyjanaankudo/opt/anaconda3/lib/python3.8/site-packages)\u001b[0m\n",
      "\u001b[33m    WARNING: Ignoring invalid distribution -cipy (/Users/tatyjanaankudo/opt/anaconda3/lib/python3.8/site-packages)\u001b[0m\n",
      "    Found existing installation: typing-extensions 3.7.4.3\n",
      "    Uninstalling typing-extensions-3.7.4.3:\n",
      "      Successfully uninstalled typing-extensions-3.7.4.3\n",
      "  Attempting uninstall: pip\n",
      "\u001b[33m    WARNING: Ignoring invalid distribution -cikit-learn (/Users/tatyjanaankudo/.local/lib/python3.8/site-packages)\u001b[0m\n",
      "\u001b[33m    WARNING: Ignoring invalid distribution - (/Users/tatyjanaankudo/opt/anaconda3/lib/python3.8/site-packages)\u001b[0m\n",
      "\u001b[33m    WARNING: Ignoring invalid distribution -cipy (/Users/tatyjanaankudo/opt/anaconda3/lib/python3.8/site-packages)\u001b[0m\n",
      "    Found existing installation: pip 21.1.1\n",
      "    Uninstalling pip-21.1.1:\n",
      "      Successfully uninstalled pip-21.1.1\n",
      "  Attempting uninstall: MarkupSafe\n",
      "\u001b[33m    WARNING: Ignoring invalid distribution -cikit-learn (/Users/tatyjanaankudo/.local/lib/python3.8/site-packages)\u001b[0m\n",
      "\u001b[33m    WARNING: Ignoring invalid distribution - (/Users/tatyjanaankudo/opt/anaconda3/lib/python3.8/site-packages)\u001b[0m\n",
      "\u001b[33m    WARNING: Ignoring invalid distribution -cipy (/Users/tatyjanaankudo/opt/anaconda3/lib/python3.8/site-packages)\u001b[0m\n",
      "    Found existing installation: MarkupSafe 1.1.1\n",
      "    Uninstalling MarkupSafe-1.1.1:\n",
      "      Successfully uninstalled MarkupSafe-1.1.1\n",
      "  Attempting uninstall: attrs\n",
      "\u001b[33m    WARNING: Ignoring invalid distribution -cikit-learn (/Users/tatyjanaankudo/.local/lib/python3.8/site-packages)\u001b[0m\n",
      "\u001b[33m    WARNING: Ignoring invalid distribution - (/Users/tatyjanaankudo/opt/anaconda3/lib/python3.8/site-packages)\u001b[0m\n",
      "\u001b[33m    WARNING: Ignoring invalid distribution -cipy (/Users/tatyjanaankudo/opt/anaconda3/lib/python3.8/site-packages)\u001b[0m\n",
      "    Found existing installation: attrs 19.3.0\n",
      "    Uninstalling attrs-19.3.0:\n",
      "      Successfully uninstalled attrs-19.3.0\n",
      "  Attempting uninstall: python-dotenv\n",
      "\u001b[33m    WARNING: Ignoring invalid distribution -cikit-learn (/Users/tatyjanaankudo/.local/lib/python3.8/site-packages)\u001b[0m\n",
      "\u001b[33m    WARNING: Ignoring invalid distribution - (/Users/tatyjanaankudo/opt/anaconda3/lib/python3.8/site-packages)\u001b[0m\n",
      "\u001b[33m    WARNING: Ignoring invalid distribution -cipy (/Users/tatyjanaankudo/opt/anaconda3/lib/python3.8/site-packages)\u001b[0m\n",
      "    Found existing installation: python-dotenv 0.17.0\n",
      "    Uninstalling python-dotenv-0.17.0:\n",
      "      Successfully uninstalled python-dotenv-0.17.0\n",
      "  Attempting uninstall: prometheus-client\n",
      "\u001b[33m    WARNING: Ignoring invalid distribution -cikit-learn (/Users/tatyjanaankudo/.local/lib/python3.8/site-packages)\u001b[0m\n",
      "\u001b[33m    WARNING: Ignoring invalid distribution - (/Users/tatyjanaankudo/opt/anaconda3/lib/python3.8/site-packages)\u001b[0m\n",
      "\u001b[33m    WARNING: Ignoring invalid distribution -cipy (/Users/tatyjanaankudo/opt/anaconda3/lib/python3.8/site-packages)\u001b[0m\n",
      "    Found existing installation: prometheus-client 0.8.0\n",
      "    Uninstalling prometheus-client-0.8.0:\n",
      "      Successfully uninstalled prometheus-client-0.8.0\n",
      "  Attempting uninstall: Jinja2\n",
      "\u001b[33m    WARNING: Ignoring invalid distribution -cikit-learn (/Users/tatyjanaankudo/.local/lib/python3.8/site-packages)\u001b[0m\n",
      "\u001b[33m    WARNING: Ignoring invalid distribution - (/Users/tatyjanaankudo/opt/anaconda3/lib/python3.8/site-packages)\u001b[0m\n",
      "\u001b[33m    WARNING: Ignoring invalid distribution -cipy (/Users/tatyjanaankudo/opt/anaconda3/lib/python3.8/site-packages)\u001b[0m\n",
      "    Found existing installation: Jinja2 2.11.2\n",
      "    Uninstalling Jinja2-2.11.2:\n",
      "      Successfully uninstalled Jinja2-2.11.2\n",
      "\u001b[33mWARNING: Ignoring invalid distribution - (/Users/tatyjanaankudo/opt/anaconda3/lib/python3.8/site-packages)\u001b[0m\n",
      "\u001b[33mWARNING: Ignoring invalid distribution -cipy (/Users/tatyjanaankudo/opt/anaconda3/lib/python3.8/site-packages)\u001b[0m\n",
      "\u001b[33mWARNING: Ignoring invalid distribution -cikit-learn (/Users/tatyjanaankudo/opt/anaconda3/lib/python3.8/site-packages)\u001b[0m\n",
      "\u001b[33mWARNING: Ignoring invalid distribution - (/Users/tatyjanaankudo/opt/anaconda3/lib/python3.8/site-packages)\u001b[0m\n",
      "\u001b[33mWARNING: Ignoring invalid distribution -cipy (/Users/tatyjanaankudo/opt/anaconda3/lib/python3.8/site-packages)\u001b[0m\n",
      "\u001b[33mWARNING: Ignoring invalid distribution -cikit-learn (/Users/tatyjanaankudo/opt/anaconda3/lib/python3.8/site-packages)\u001b[0m\n",
      "\u001b[33mWARNING: Ignoring invalid distribution - (/Users/tatyjanaankudo/opt/anaconda3/lib/python3.8/site-packages)\u001b[0m\n",
      "\u001b[33mWARNING: Ignoring invalid distribution -cipy (/Users/tatyjanaankudo/opt/anaconda3/lib/python3.8/site-packages)\u001b[0m\n",
      "\u001b[33mWARNING: Ignoring invalid distribution -cikit-learn (/Users/tatyjanaankudo/opt/anaconda3/lib/python3.8/site-packages)\u001b[0m\n",
      "\u001b[33mWARNING: Ignoring invalid distribution - (/Users/tatyjanaankudo/opt/anaconda3/lib/python3.8/site-packages)\u001b[0m\n",
      "\u001b[33mWARNING: Ignoring invalid distribution -cipy (/Users/tatyjanaankudo/opt/anaconda3/lib/python3.8/site-packages)\u001b[0m\n",
      "\u001b[33mWARNING: Ignoring invalid distribution -cikit-learn (/Users/tatyjanaankudo/opt/anaconda3/lib/python3.8/site-packages)\u001b[0m\n",
      "\u001b[33mWARNING: Ignoring invalid distribution - (/Users/tatyjanaankudo/opt/anaconda3/lib/python3.8/site-packages)\u001b[0m\n",
      "\u001b[33mWARNING: Ignoring invalid distribution -cipy (/Users/tatyjanaankudo/opt/anaconda3/lib/python3.8/site-packages)\u001b[0m\n",
      "\u001b[33mWARNING: Ignoring invalid distribution -cikit-learn (/Users/tatyjanaankudo/opt/anaconda3/lib/python3.8/site-packages)\u001b[0m\n",
      "\u001b[33mWARNING: Ignoring invalid distribution - (/Users/tatyjanaankudo/opt/anaconda3/lib/python3.8/site-packages)\u001b[0m\n",
      "\u001b[33mWARNING: Ignoring invalid distribution -cipy (/Users/tatyjanaankudo/opt/anaconda3/lib/python3.8/site-packages)\u001b[0m\n",
      "\u001b[33mWARNING: Ignoring invalid distribution -cikit-learn (/Users/tatyjanaankudo/opt/anaconda3/lib/python3.8/site-packages)\u001b[0m\n",
      "\u001b[33mWARNING: Ignoring invalid distribution - (/Users/tatyjanaankudo/opt/anaconda3/lib/python3.8/site-packages)\u001b[0m\n",
      "\u001b[33mWARNING: Ignoring invalid distribution -cipy (/Users/tatyjanaankudo/opt/anaconda3/lib/python3.8/site-packages)\u001b[0m\n",
      "\u001b[33mWARNING: Ignoring invalid distribution -cikit-learn (/Users/tatyjanaankudo/opt/anaconda3/lib/python3.8/site-packages)\u001b[0m\n",
      "\u001b[33mWARNING: Ignoring invalid distribution - (/Users/tatyjanaankudo/opt/anaconda3/lib/python3.8/site-packages)\u001b[0m\n",
      "\u001b[33mWARNING: Ignoring invalid distribution -cipy (/Users/tatyjanaankudo/opt/anaconda3/lib/python3.8/site-packages)\u001b[0m\n",
      "\u001b[33mWARNING: Ignoring invalid distribution -cikit-learn (/Users/tatyjanaankudo/opt/anaconda3/lib/python3.8/site-packages)\u001b[0m\n",
      "\u001b[33mWARNING: Ignoring invalid distribution - (/Users/tatyjanaankudo/opt/anaconda3/lib/python3.8/site-packages)\u001b[0m\n",
      "\u001b[33mWARNING: Ignoring invalid distribution -cipy (/Users/tatyjanaankudo/opt/anaconda3/lib/python3.8/site-packages)\u001b[0m\n",
      "\u001b[33mWARNING: Ignoring invalid distribution -cikit-learn (/Users/tatyjanaankudo/opt/anaconda3/lib/python3.8/site-packages)\u001b[0m\n",
      "\u001b[33mWARNING: Ignoring invalid distribution - (/Users/tatyjanaankudo/opt/anaconda3/lib/python3.8/site-packages)\u001b[0m\n",
      "\u001b[33mWARNING: Ignoring invalid distribution -cipy (/Users/tatyjanaankudo/opt/anaconda3/lib/python3.8/site-packages)\u001b[0m\n",
      "\u001b[33mWARNING: Ignoring invalid distribution -cikit-learn (/Users/tatyjanaankudo/opt/anaconda3/lib/python3.8/site-packages)\u001b[0m\n",
      "\u001b[33mWARNING: Ignoring invalid distribution - (/Users/tatyjanaankudo/opt/anaconda3/lib/python3.8/site-packages)\u001b[0m\n",
      "\u001b[33mWARNING: Ignoring invalid distribution -cipy (/Users/tatyjanaankudo/opt/anaconda3/lib/python3.8/site-packages)\u001b[0m\n",
      "\u001b[33mWARNING: Ignoring invalid distribution -cikit-learn (/Users/tatyjanaankudo/opt/anaconda3/lib/python3.8/site-packages)\u001b[0m\n",
      "\u001b[33mWARNING: Ignoring invalid distribution - (/Users/tatyjanaankudo/opt/anaconda3/lib/python3.8/site-packages)\u001b[0m\n",
      "\u001b[33mWARNING: Ignoring invalid distribution -cipy (/Users/tatyjanaankudo/opt/anaconda3/lib/python3.8/site-packages)\u001b[0m\n",
      "\u001b[33mWARNING: Ignoring invalid distribution -cikit-learn (/Users/tatyjanaankudo/opt/anaconda3/lib/python3.8/site-packages)\u001b[0m\n",
      "\u001b[33mWARNING: Ignoring invalid distribution - (/Users/tatyjanaankudo/opt/anaconda3/lib/python3.8/site-packages)\u001b[0m\n",
      "\u001b[33mWARNING: Ignoring invalid distribution -cipy (/Users/tatyjanaankudo/opt/anaconda3/lib/python3.8/site-packages)\u001b[0m\n",
      "\u001b[33mWARNING: Ignoring invalid distribution -cikit-learn (/Users/tatyjanaankudo/opt/anaconda3/lib/python3.8/site-packages)\u001b[0m\n"
     ]
    },
    {
     "name": "stdout",
     "output_type": "stream",
     "text": [
      "\u001b[33mWARNING: Ignoring invalid distribution - (/Users/tatyjanaankudo/opt/anaconda3/lib/python3.8/site-packages)\u001b[0m\r\n",
      "\u001b[33mWARNING: Ignoring invalid distribution -cipy (/Users/tatyjanaankudo/opt/anaconda3/lib/python3.8/site-packages)\u001b[0m\r\n",
      "\u001b[33mWARNING: Ignoring invalid distribution -cikit-learn (/Users/tatyjanaankudo/opt/anaconda3/lib/python3.8/site-packages)\u001b[0m\r\n",
      "\u001b[33mWARNING: Ignoring invalid distribution - (/Users/tatyjanaankudo/opt/anaconda3/lib/python3.8/site-packages)\u001b[0m\r\n",
      "\u001b[33mWARNING: Ignoring invalid distribution -cipy (/Users/tatyjanaankudo/opt/anaconda3/lib/python3.8/site-packages)\u001b[0m\r\n",
      "\u001b[33mWARNING: Ignoring invalid distribution -cikit-learn (/Users/tatyjanaankudo/opt/anaconda3/lib/python3.8/site-packages)\u001b[0m\r\n",
      "\u001b[33mWARNING: Ignoring invalid distribution - (/Users/tatyjanaankudo/opt/anaconda3/lib/python3.8/site-packages)\u001b[0m\r\n",
      "\u001b[33mWARNING: Ignoring invalid distribution -cipy (/Users/tatyjanaankudo/opt/anaconda3/lib/python3.8/site-packages)\u001b[0m\r\n",
      "\u001b[33mWARNING: Ignoring invalid distribution -cikit-learn (/Users/tatyjanaankudo/opt/anaconda3/lib/python3.8/site-packages)\u001b[0m\r\n",
      "\u001b[33mWARNING: Ignoring invalid distribution - (/Users/tatyjanaankudo/opt/anaconda3/lib/python3.8/site-packages)\u001b[0m\r\n",
      "\u001b[33mWARNING: Ignoring invalid distribution -cipy (/Users/tatyjanaankudo/opt/anaconda3/lib/python3.8/site-packages)\u001b[0m\r\n",
      "\u001b[33mWARNING: Ignoring invalid distribution -cikit-learn (/Users/tatyjanaankudo/opt/anaconda3/lib/python3.8/site-packages)\u001b[0m\r\n",
      "\u001b[33mWARNING: Ignoring invalid distribution - (/Users/tatyjanaankudo/opt/anaconda3/lib/python3.8/site-packages)\u001b[0m\r\n",
      "\u001b[33mWARNING: Ignoring invalid distribution -cipy (/Users/tatyjanaankudo/opt/anaconda3/lib/python3.8/site-packages)\u001b[0m\r\n",
      "\u001b[33mWARNING: Ignoring invalid distribution -cikit-learn (/Users/tatyjanaankudo/opt/anaconda3/lib/python3.8/site-packages)\u001b[0m\r\n",
      "\u001b[33mWARNING: Ignoring invalid distribution - (/Users/tatyjanaankudo/opt/anaconda3/lib/python3.8/site-packages)\u001b[0m\r\n",
      "\u001b[33mWARNING: Ignoring invalid distribution -cipy (/Users/tatyjanaankudo/opt/anaconda3/lib/python3.8/site-packages)\u001b[0m\r\n",
      "\u001b[33mWARNING: Ignoring invalid distribution -cikit-learn (/Users/tatyjanaankudo/opt/anaconda3/lib/python3.8/site-packages)\u001b[0m\r\n",
      "\u001b[33mWARNING: Ignoring invalid distribution - (/Users/tatyjanaankudo/opt/anaconda3/lib/python3.8/site-packages)\u001b[0m\r\n",
      "\u001b[33mWARNING: Ignoring invalid distribution -cipy (/Users/tatyjanaankudo/opt/anaconda3/lib/python3.8/site-packages)\u001b[0m\r\n",
      "\u001b[33mWARNING: Ignoring invalid distribution -cikit-learn (/Users/tatyjanaankudo/opt/anaconda3/lib/python3.8/site-packages)\u001b[0m\r\n",
      "\u001b[33mWARNING: Ignoring invalid distribution - (/Users/tatyjanaankudo/opt/anaconda3/lib/python3.8/site-packages)\u001b[0m\r\n",
      "\u001b[33mWARNING: Ignoring invalid distribution -cipy (/Users/tatyjanaankudo/opt/anaconda3/lib/python3.8/site-packages)\u001b[0m\r\n",
      "\u001b[33mWARNING: Ignoring invalid distribution -cikit-learn (/Users/tatyjanaankudo/opt/anaconda3/lib/python3.8/site-packages)\u001b[0m\r\n",
      "\u001b[33mWARNING: Ignoring invalid distribution - (/Users/tatyjanaankudo/opt/anaconda3/lib/python3.8/site-packages)\u001b[0m\r\n",
      "\u001b[33mWARNING: Ignoring invalid distribution -cipy (/Users/tatyjanaankudo/opt/anaconda3/lib/python3.8/site-packages)\u001b[0m\r\n",
      "\u001b[33mWARNING: Ignoring invalid distribution -cikit-learn (/Users/tatyjanaankudo/opt/anaconda3/lib/python3.8/site-packages)\u001b[0m\r\n",
      "\u001b[33mWARNING: Ignoring invalid distribution - (/Users/tatyjanaankudo/opt/anaconda3/lib/python3.8/site-packages)\u001b[0m\r\n",
      "\u001b[33mWARNING: Ignoring invalid distribution -cipy (/Users/tatyjanaankudo/opt/anaconda3/lib/python3.8/site-packages)\u001b[0m\r\n",
      "\u001b[33mWARNING: Ignoring invalid distribution -cikit-learn (/Users/tatyjanaankudo/opt/anaconda3/lib/python3.8/site-packages)\u001b[0m\r\n",
      "\u001b[33mWARNING: Ignoring invalid distribution - (/Users/tatyjanaankudo/opt/anaconda3/lib/python3.8/site-packages)\u001b[0m\r\n",
      "\u001b[33mWARNING: Ignoring invalid distribution -cipy (/Users/tatyjanaankudo/opt/anaconda3/lib/python3.8/site-packages)\u001b[0m\r\n",
      "\u001b[33mWARNING: Ignoring invalid distribution -cikit-learn (/Users/tatyjanaankudo/opt/anaconda3/lib/python3.8/site-packages)\u001b[0m\r\n",
      "\u001b[33mWARNING: Ignoring invalid distribution - (/Users/tatyjanaankudo/opt/anaconda3/lib/python3.8/site-packages)\u001b[0m\r\n",
      "\u001b[33mWARNING: Ignoring invalid distribution -cipy (/Users/tatyjanaankudo/opt/anaconda3/lib/python3.8/site-packages)\u001b[0m\r\n",
      "\u001b[33mWARNING: Ignoring invalid distribution -cikit-learn (/Users/tatyjanaankudo/opt/anaconda3/lib/python3.8/site-packages)\u001b[0m\r\n",
      "\u001b[33mWARNING: Ignoring invalid distribution - (/Users/tatyjanaankudo/opt/anaconda3/lib/python3.8/site-packages)\u001b[0m\r\n",
      "\u001b[33mWARNING: Ignoring invalid distribution -cipy (/Users/tatyjanaankudo/opt/anaconda3/lib/python3.8/site-packages)\u001b[0m\r\n",
      "\u001b[33mWARNING: Ignoring invalid distribution -cikit-learn (/Users/tatyjanaankudo/opt/anaconda3/lib/python3.8/site-packages)\u001b[0m\r\n",
      "\u001b[33mWARNING: Ignoring invalid distribution - (/Users/tatyjanaankudo/opt/anaconda3/lib/python3.8/site-packages)\u001b[0m\r\n",
      "\u001b[33mWARNING: Ignoring invalid distribution -cipy (/Users/tatyjanaankudo/opt/anaconda3/lib/python3.8/site-packages)\u001b[0m\r\n",
      "\u001b[33mWARNING: Ignoring invalid distribution -cikit-learn (/Users/tatyjanaankudo/opt/anaconda3/lib/python3.8/site-packages)\u001b[0m\r\n",
      "\u001b[33mWARNING: Ignoring invalid distribution - (/Users/tatyjanaankudo/opt/anaconda3/lib/python3.8/site-packages)\u001b[0m\r\n",
      "\u001b[33mWARNING: Ignoring invalid distribution -cipy (/Users/tatyjanaankudo/opt/anaconda3/lib/python3.8/site-packages)\u001b[0m\r\n",
      "\u001b[33mWARNING: Ignoring invalid distribution -cikit-learn (/Users/tatyjanaankudo/opt/anaconda3/lib/python3.8/site-packages)\u001b[0m\r\n",
      "\u001b[33mWARNING: Ignoring invalid distribution - (/Users/tatyjanaankudo/opt/anaconda3/lib/python3.8/site-packages)\u001b[0m\r\n",
      "\u001b[33mWARNING: Ignoring invalid distribution -cipy (/Users/tatyjanaankudo/opt/anaconda3/lib/python3.8/site-packages)\u001b[0m\r\n",
      "\u001b[33mWARNING: Ignoring invalid distribution -cikit-learn (/Users/tatyjanaankudo/opt/anaconda3/lib/python3.8/site-packages)\u001b[0m\r\n",
      "\u001b[33mWARNING: Ignoring invalid distribution - (/Users/tatyjanaankudo/opt/anaconda3/lib/python3.8/site-packages)\u001b[0m\r\n",
      "\u001b[33mWARNING: Ignoring invalid distribution -cipy (/Users/tatyjanaankudo/opt/anaconda3/lib/python3.8/site-packages)\u001b[0m\r\n",
      "\u001b[33mWARNING: Ignoring invalid distribution -cikit-learn (/Users/tatyjanaankudo/opt/anaconda3/lib/python3.8/site-packages)\u001b[0m\r\n",
      "\u001b[33mWARNING: Ignoring invalid distribution - (/Users/tatyjanaankudo/opt/anaconda3/lib/python3.8/site-packages)\u001b[0m\r\n",
      "\u001b[33mWARNING: Ignoring invalid distribution -cipy (/Users/tatyjanaankudo/opt/anaconda3/lib/python3.8/site-packages)\u001b[0m\r\n",
      "\u001b[33mWARNING: Ignoring invalid distribution -cikit-learn (/Users/tatyjanaankudo/opt/anaconda3/lib/python3.8/site-packages)\u001b[0m\r\n",
      "\u001b[33mWARNING: Ignoring invalid distribution - (/Users/tatyjanaankudo/opt/anaconda3/lib/python3.8/site-packages)\u001b[0m\r\n",
      "\u001b[33mWARNING: Ignoring invalid distribution -cipy (/Users/tatyjanaankudo/opt/anaconda3/lib/python3.8/site-packages)\u001b[0m\r\n",
      "\u001b[33mWARNING: Ignoring invalid distribution -cikit-learn (/Users/tatyjanaankudo/opt/anaconda3/lib/python3.8/site-packages)\u001b[0m\r\n",
      "\u001b[33mWARNING: Ignoring invalid distribution - (/Users/tatyjanaankudo/opt/anaconda3/lib/python3.8/site-packages)\u001b[0m\r\n",
      "\u001b[33mWARNING: Ignoring invalid distribution -cipy (/Users/tatyjanaankudo/opt/anaconda3/lib/python3.8/site-packages)\u001b[0m\r\n",
      "\u001b[33mWARNING: Ignoring invalid distribution -cikit-learn (/Users/tatyjanaankudo/opt/anaconda3/lib/python3.8/site-packages)\u001b[0m\r\n",
      "\u001b[33mWARNING: Ignoring invalid distribution - (/Users/tatyjanaankudo/opt/anaconda3/lib/python3.8/site-packages)\u001b[0m\r\n",
      "\u001b[33mWARNING: Ignoring invalid distribution -cipy (/Users/tatyjanaankudo/opt/anaconda3/lib/python3.8/site-packages)\u001b[0m\r\n",
      "\u001b[33mWARNING: Ignoring invalid distribution -cikit-learn (/Users/tatyjanaankudo/opt/anaconda3/lib/python3.8/site-packages)\u001b[0m\r\n",
      "\u001b[33mWARNING: Ignoring invalid distribution - (/Users/tatyjanaankudo/opt/anaconda3/lib/python3.8/site-packages)\u001b[0m\r\n",
      "\u001b[33mWARNING: Ignoring invalid distribution -cipy (/Users/tatyjanaankudo/opt/anaconda3/lib/python3.8/site-packages)\u001b[0m\r\n",
      "\u001b[33mWARNING: Ignoring invalid distribution -cikit-learn (/Users/tatyjanaankudo/opt/anaconda3/lib/python3.8/site-packages)\u001b[0m\r\n",
      "\u001b[33mWARNING: Ignoring invalid distribution - (/Users/tatyjanaankudo/opt/anaconda3/lib/python3.8/site-packages)\u001b[0m\r\n",
      "\u001b[33mWARNING: Ignoring invalid distribution -cipy (/Users/tatyjanaankudo/opt/anaconda3/lib/python3.8/site-packages)\u001b[0m\r\n",
      "\u001b[33mWARNING: Ignoring invalid distribution -cikit-learn (/Users/tatyjanaankudo/opt/anaconda3/lib/python3.8/site-packages)\u001b[0m\r\n",
      "\u001b[33mWARNING: Ignoring invalid distribution - (/Users/tatyjanaankudo/opt/anaconda3/lib/python3.8/site-packages)\u001b[0m\r\n",
      "\u001b[33mWARNING: Ignoring invalid distribution -cipy (/Users/tatyjanaankudo/opt/anaconda3/lib/python3.8/site-packages)\u001b[0m\r\n",
      "\u001b[33mWARNING: Ignoring invalid distribution -cikit-learn (/Users/tatyjanaankudo/opt/anaconda3/lib/python3.8/site-packages)\u001b[0m\r\n",
      "\u001b[33mWARNING: Ignoring invalid distribution - (/Users/tatyjanaankudo/opt/anaconda3/lib/python3.8/site-packages)\u001b[0m\r\n",
      "\u001b[33mWARNING: Ignoring invalid distribution -cipy (/Users/tatyjanaankudo/opt/anaconda3/lib/python3.8/site-packages)\u001b[0m\r\n",
      "\u001b[33mWARNING: Ignoring invalid distribution -cikit-learn (/Users/tatyjanaankudo/opt/anaconda3/lib/python3.8/site-packages)\u001b[0m\r\n",
      "\u001b[33mWARNING: Ignoring invalid distribution - (/Users/tatyjanaankudo/opt/anaconda3/lib/python3.8/site-packages)\u001b[0m\r\n",
      "\u001b[33mWARNING: Ignoring invalid distribution -cipy (/Users/tatyjanaankudo/opt/anaconda3/lib/python3.8/site-packages)\u001b[0m\r\n",
      "\u001b[33mWARNING: Ignoring invalid distribution -cikit-learn (/Users/tatyjanaankudo/opt/anaconda3/lib/python3.8/site-packages)\u001b[0m\r\n",
      "\u001b[31mERROR: pip's dependency resolver does not currently take into account all the packages that are installed. This behaviour is the source of the following dependency conflicts.\r\n",
      "tensorflow 2.4.1 requires typing-extensions~=3.7.4, but you have typing-extensions 4.4.0 which is incompatible.\r\n",
      "lightautoml 0.2.12 requires lightgbm<3.0,>=2.3, but you have lightgbm 3.2.1 which is incompatible.\r\n",
      "dropbox 11.4.0 requires six==1.14.0, but you have six 1.15.0 which is incompatible.\r\n",
      "dataprep 0.2.15 requires jinja2<3.0,>=2.11, but you have jinja2 3.1.2 which is incompatible.\r\n",
      "apache-superset 1.0.1 requires typing-extensions<4,>=3.7.4.3, but you have typing-extensions 4.4.0 which is incompatible.\u001b[0m\r\n",
      "Successfully installed Jinja2-3.1.2 MarkupSafe-2.1.1 anyio-3.6.2 asgiref-3.5.2 attrs-22.1.0 bentoml-1.0.7 build-0.8.0 cattrs-22.2.0 circus-0.17.2 commonmark-0.9.1 deepmerge-1.1.0 deprecated-1.2.13 exceptiongroup-1.0.0rc9 fs-2.4.16 h11-0.14.0 opentelemetry-api-1.12.0 opentelemetry-instrumentation-0.33b0 opentelemetry-instrumentation-aiohttp-client-0.33b0 opentelemetry-instrumentation-asgi-0.33b0 opentelemetry-sdk-1.12.0 opentelemetry-semantic-conventions-0.33b0 opentelemetry-util-http-0.33b0 pathspec-0.10.1 pep517-0.13.0 pip-22.3 pip-tools-6.9.0 prometheus-client-0.15.0 pynvml-11.4.1 python-dotenv-0.21.0 python-multipart-0.0.5 rich-12.6.0 schema-0.7.5 simple-di-0.1.5 sniffio-1.3.0 starlette-0.21.0 tomli-2.0.1 typing-extensions-4.4.0 uvicorn-0.19.0 watchfiles-0.18.0\r\n",
      "\u001b[33mWARNING: Ignoring invalid distribution -cikit-learn (/Users/tatyjanaankudo/.local/lib/python3.8/site-packages)\u001b[0m\r\n",
      "\u001b[33mWARNING: Ignoring invalid distribution - (/Users/tatyjanaankudo/opt/anaconda3/lib/python3.8/site-packages)\u001b[0m\r\n",
      "\u001b[33mWARNING: Ignoring invalid distribution -cipy (/Users/tatyjanaankudo/opt/anaconda3/lib/python3.8/site-packages)\u001b[0m\r\n",
      "\u001b[33mWARNING: Ignoring invalid distribution -cikit-learn (/Users/tatyjanaankudo/.local/lib/python3.8/site-packages)\u001b[0m\r\n",
      "\u001b[33mWARNING: Ignoring invalid distribution - (/Users/tatyjanaankudo/opt/anaconda3/lib/python3.8/site-packages)\u001b[0m\r\n",
      "\u001b[33mWARNING: Ignoring invalid distribution -cipy (/Users/tatyjanaankudo/opt/anaconda3/lib/python3.8/site-packages)\u001b[0m\r\n"
     ]
    },
    {
     "name": "stdout",
     "output_type": "stream",
     "text": [
      "\u001b[33mWARNING: Ignoring invalid distribution -cikit-learn (/Users/tatyjanaankudo/.local/lib/python3.8/site-packages)\u001b[0m\r\n",
      "\u001b[33mWARNING: Ignoring invalid distribution - (/Users/tatyjanaankudo/opt/anaconda3/lib/python3.8/site-packages)\u001b[0m\r\n",
      "\u001b[33mWARNING: Ignoring invalid distribution -cipy (/Users/tatyjanaankudo/opt/anaconda3/lib/python3.8/site-packages)\u001b[0m\r\n"
     ]
    }
   ],
   "source": [
    "!pip install bentoml"
   ]
  },
  {
   "cell_type": "code",
   "execution_count": 6,
   "metadata": {},
   "outputs": [
    {
     "name": "stdout",
     "output_type": "stream",
     "text": [
      "bentoml, version 1.0.7\r\n"
     ]
    }
   ],
   "source": [
    "!bentoml --version"
   ]
  },
  {
   "cell_type": "markdown",
   "metadata": {},
   "source": [
    "### Question 2\n",
    "\n",
    "Run the notebook which contains the xgboost model from module 6 i.e previous module and save the xgboost model with BentoML. To make it easier for you we have prepared this [notebook](https://github.com/alexeygrigorev/mlbookcamp-code/blob/master/course-zoomcamp/07-bentoml-production/code/train.ipynb).\n",
    "\n",
    "How big approximately is the saved BentoML model? Size can slightly vary depending on your local development environment. Choose the size closest to your model.\n",
    "\n",
    "- 924kb\n",
    "\n",
    "- **724kb**\n",
    "\n",
    "- 114kb\n",
    "\n",
    "- 8kb"
   ]
  },
  {
   "cell_type": "markdown",
   "metadata": {},
   "source": [
    "#### Another email from your manager\n",
    "\n",
    "Great job recruit! Looks like I won't be having to go back to the procurement team. Thanks for the information.\n",
    "\n",
    "However, I just got word from one of the teams that's using one of our ML services and they're saying our service is \"broken\" and their trying to blame our model. I looked at the data their sending and it's completely bogus. I don't want them to send bad data to us and blame us for our models. Could you write a pydantic schema for the data that they should be sending? That way next time it will tell them it's their data that's bad and not our model.\n",
    "\n",
    "Thanks,\n",
    "\n",
    "Mr McManager\n",
    "\n",
    "### Question 3\n",
    "\n",
    "Say you have the following data that you're sending to your service:"
   ]
  },
  {
   "cell_type": "markdown",
   "metadata": {},
   "source": [
    "{\n",
    "  \n",
    "  \"name\": \"Tim\",\n",
    "  \n",
    "  \"age\": 37,\n",
    "  \n",
    "  \"country\": \"US\",\n",
    "  \n",
    "  \"rating\": 3.14\n",
    "  \n",
    "}"
   ]
  },
  {
   "cell_type": "markdown",
   "metadata": {},
   "source": [
    "What would the pydantic class look like? You can name the class `UserProfile`"
   ]
  },
  {
   "cell_type": "code",
   "execution_count": null,
   "metadata": {},
   "outputs": [],
   "source": [
    "from pydantic impot BaseModel\n",
    "\n",
    "class UserProfileClass(BaseModel):\n",
    "    \n",
    "    \n",
    "    name: str\n",
    "    age: int\n",
    "    country: str\n",
    "    raiting: float\n",
    "        \n",
    "@svc.api(input=JSON(pydanic_model=UserProfileClass), output=JSON())"
   ]
  },
  {
   "cell_type": "markdown",
   "metadata": {},
   "source": [
    "#### Email from your CEO\n",
    "\n",
    "Good morning! I hear you're the one to go to if I need something done well! We've got a new model that a big client needs deployed ASAP. I need you to build a service with it and test it against the old model and make sure that it performs better, otherwise we're going to lose this client. All our hopes are with you!\n",
    "\n",
    "Thanks,\n",
    "\n",
    "CEO of Acme Corp"
   ]
  },
  {
   "cell_type": "markdown",
   "metadata": {},
   "source": [
    "### Question 4\n",
    "\n",
    "We've prepared a model for you that you can import using:"
   ]
  },
  {
   "cell_type": "code",
   "execution_count": 13,
   "metadata": {},
   "outputs": [
    {
     "name": "stdout",
     "output_type": "stream",
     "text": [
      "  % Total    % Received % Xferd  Average Speed   Time    Time     Time  Current\n",
      "                                 Dload  Upload   Total   Spent    Left  Speed\n",
      "100  1724  100  1724    0     0   1244      0  0:00:01  0:00:01 --:--:--  1244\n",
      "Model(tag=\"mlzoomcamp_homework:qtzdz3slg6mwwdu5\") imported\n"
     ]
    }
   ],
   "source": [
    "!curl -O \"https://s3.us-west-2.amazonaws.com/bentoml.com/mlzoomcamp/coolmodel.bentomodel\"\n",
    "!bentoml models import coolmodel.bentomodel"
   ]
  },
  {
   "cell_type": "markdown",
   "metadata": {},
   "source": [
    "What version of scikit-learn was this model trained with?\n",
    "\n",
    "- **1.1.1**\n",
    "\n",
    "- 1.1.2\n",
    "\n",
    "- 1.1.3\n",
    "\n",
    "- 1.1.4\n",
    "\n",
    "- 1.1.5"
   ]
  },
  {
   "cell_type": "code",
   "execution_count": 26,
   "metadata": {},
   "outputs": [
    {
     "name": "stdout",
     "output_type": "stream",
     "text": [
      "\u001b[1m \u001b[0m\u001b[1mTag                           \u001b[0m\u001b[1m \u001b[0m\u001b[1m \u001b[0m\u001b[1mModule         \u001b[0m\u001b[1m \u001b[0m\u001b[1m \u001b[0m\u001b[1mSize    \u001b[0m\u001b[1m \u001b[0m\u001b[1m \u001b[0m\u001b[1mCreation Time      \u001b[0m\u001b[1m \u001b[0m\r\n",
      " mlzoomcamp_homework:qtzdz3slg…  bentoml.sklearn  5.79 KiB  2022-10-13 22:42:14 \r\n"
     ]
    }
   ],
   "source": [
    "!bentoml models list"
   ]
  },
  {
   "cell_type": "code",
   "execution_count": 27,
   "metadata": {},
   "outputs": [
    {
     "name": "stdout",
     "output_type": "stream",
     "text": [
      "\u001b[91;40mname\u001b[0m\u001b[97;40m:\u001b[0m\u001b[97;40m \u001b[0m\u001b[40mmlzoomcamp_homework\u001b[0m\u001b[40m                                                       \u001b[0m\r\n",
      "\u001b[91;40mversion\u001b[0m\u001b[97;40m:\u001b[0m\u001b[97;40m \u001b[0m\u001b[40mqtzdz3slg6mwwdu5\u001b[0m\u001b[40m                                                       \u001b[0m\r\n",
      "\u001b[91;40mmodule\u001b[0m\u001b[97;40m:\u001b[0m\u001b[97;40m \u001b[0m\u001b[40mbentoml.sklearn\u001b[0m\u001b[40m                                                         \u001b[0m\r\n",
      "\u001b[91;40mlabels\u001b[0m\u001b[97;40m:\u001b[0m\u001b[97;40m \u001b[0m\u001b[40m{\u001b[0m\u001b[40m}\u001b[0m\u001b[40m                                                                      \u001b[0m\r\n",
      "\u001b[91;40moptions\u001b[0m\u001b[97;40m:\u001b[0m\u001b[97;40m \u001b[0m\u001b[40m{\u001b[0m\u001b[40m}\u001b[0m\u001b[40m                                                                     \u001b[0m\r\n",
      "\u001b[91;40mmetadata\u001b[0m\u001b[97;40m:\u001b[0m\u001b[97;40m \u001b[0m\u001b[40m{\u001b[0m\u001b[40m}\u001b[0m\u001b[40m                                                                    \u001b[0m\r\n",
      "\u001b[91;40mcontext\u001b[0m\u001b[97;40m:\u001b[0m\u001b[40m                                                                        \u001b[0m\r\n",
      "\u001b[97;40m  \u001b[0m\u001b[91;40mframework_name\u001b[0m\u001b[97;40m:\u001b[0m\u001b[97;40m \u001b[0m\u001b[40msklearn\u001b[0m\u001b[40m                                                       \u001b[0m\r\n",
      "\u001b[97;40m  \u001b[0m\u001b[91;40mframework_versions\u001b[0m\u001b[97;40m:\u001b[0m\u001b[40m                                                           \u001b[0m\r\n",
      "\u001b[97;40m    \u001b[0m\u001b[91;40mscikit-learn\u001b[0m\u001b[97;40m:\u001b[0m\u001b[97;40m \u001b[0m\u001b[40m1.1.1\u001b[0m\u001b[40m                                                         \u001b[0m\r\n",
      "\u001b[97;40m  \u001b[0m\u001b[91;40mbentoml_version\u001b[0m\u001b[97;40m:\u001b[0m\u001b[97;40m \u001b[0m\u001b[40m1.0.7\u001b[0m\u001b[40m                                                        \u001b[0m\r\n",
      "\u001b[97;40m  \u001b[0m\u001b[91;40mpython_version\u001b[0m\u001b[97;40m:\u001b[0m\u001b[97;40m \u001b[0m\u001b[40m3.9.12\u001b[0m\u001b[40m                                                        \u001b[0m\r\n",
      "\u001b[91;40msignatures\u001b[0m\u001b[97;40m:\u001b[0m\u001b[40m                                                                     \u001b[0m\r\n",
      "\u001b[97;40m  \u001b[0m\u001b[91;40mpredict\u001b[0m\u001b[97;40m:\u001b[0m\u001b[40m                                                                      \u001b[0m\r\n",
      "\u001b[97;40m    \u001b[0m\u001b[91;40mbatchable\u001b[0m\u001b[97;40m:\u001b[0m\u001b[97;40m \u001b[0m\u001b[40mfalse\u001b[0m\u001b[40m                                                            \u001b[0m\r\n",
      "\u001b[91;40mapi_version\u001b[0m\u001b[97;40m:\u001b[0m\u001b[97;40m \u001b[0m\u001b[40mv1\u001b[0m\u001b[40m                                                                 \u001b[0m\r\n",
      "\u001b[91;40mcreation_time\u001b[0m\u001b[97;40m:\u001b[0m\u001b[97;40m \u001b[0m\u001b[93;40m'\u001b[0m\u001b[93;40m2022-10-13T20:42:14.411084+00:00\u001b[0m\u001b[93;40m'\u001b[0m\u001b[40m                               \u001b[0m\r\n",
      "\u001b[40m                                                                                \u001b[0m\r\n"
     ]
    }
   ],
   "source": [
    "!bentoml models get mlzoomcamp_homework:qtzdz3slg6mwwdu5"
   ]
  },
  {
   "cell_type": "markdown",
   "metadata": {},
   "source": [
    "### Question 5\n",
    "\n",
    "Create a bento out of this scikit-learn model. The output type for this endpoint should be NumpyNdarray()\n",
    "\n",
    "Send this array to the Bento:\n",
    "\n",
    "[[6.4,3.5,4.5,1.2]]\n",
    "You can use curl or the Swagger UI. What value does it return?\n",
    "\n",
    "- 0\n",
    "\n",
    "- 1\n",
    "\n",
    "- 2\n",
    "\n",
    "- 3\n",
    "\n",
    "(Make sure your environment has Scikit-Learn installed)"
   ]
  },
  {
   "cell_type": "code",
   "execution_count": 28,
   "metadata": {},
   "outputs": [
    {
     "name": "stdout",
     "output_type": "stream",
     "text": [
      "Error: \u001b[31m[bentoml-cli] `build` failed: bentofile \"bentofile.yaml\" not found\u001b[0m\r\n"
     ]
    }
   ],
   "source": [
    "!bentoml build"
   ]
  },
  {
   "cell_type": "code",
   "execution_count": null,
   "metadata": {},
   "outputs": [],
   "source": []
  }
 ],
 "metadata": {
  "kernelspec": {
   "display_name": "Python 3",
   "language": "python",
   "name": "python3"
  },
  "language_info": {
   "codemirror_mode": {
    "name": "ipython",
    "version": 3
   },
   "file_extension": ".py",
   "mimetype": "text/x-python",
   "name": "python",
   "nbconvert_exporter": "python",
   "pygments_lexer": "ipython3",
   "version": "3.8.3"
  },
  "varInspector": {
   "cols": {
    "lenName": 16,
    "lenType": 16,
    "lenVar": 40
   },
   "kernels_config": {
    "python": {
     "delete_cmd_postfix": "",
     "delete_cmd_prefix": "del ",
     "library": "var_list.py",
     "varRefreshCmd": "print(var_dic_list())"
    },
    "r": {
     "delete_cmd_postfix": ") ",
     "delete_cmd_prefix": "rm(",
     "library": "var_list.r",
     "varRefreshCmd": "cat(var_dic_list()) "
    }
   },
   "types_to_exclude": [
    "module",
    "function",
    "builtin_function_or_method",
    "instance",
    "_Feature"
   ],
   "window_display": false
  }
 },
 "nbformat": 4,
 "nbformat_minor": 4
}
