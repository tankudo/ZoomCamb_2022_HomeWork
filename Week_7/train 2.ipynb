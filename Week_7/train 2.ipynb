{
  "cells": [
    {
      "cell_type": "code",
      "execution_count": 1,
      "id": "d04e7bea",
      "metadata": {
        "id": "d04e7bea"
      },
      "outputs": [],
      "source": [
        "import pandas as pd\n",
        "import numpy as np\n",
        "\n",
        "from sklearn.model_selection import train_test_split\n",
        "from sklearn.feature_extraction import DictVectorizer\n",
        "\n",
        "from sklearn.ensemble import RandomForestClassifier\n",
        "\n",
        "import xgboost as xgb"
      ]
    },
    {
      "cell_type": "markdown",
      "id": "d37324f2",
      "metadata": {
        "id": "d37324f2"
      },
      "source": [
        "### Data preparation"
      ]
    },
    {
      "cell_type": "code",
      "execution_count": 2,
      "id": "49807b73",
      "metadata": {
        "id": "49807b73"
      },
      "outputs": [],
      "source": [
        "data = 'https://raw.githubusercontent.com/alexeygrigorev/mlbookcamp-code/master/chapter-06-trees/CreditScoring.csv'\n",
        "df = pd.read_csv(data)"
      ]
    },
    {
      "cell_type": "code",
      "execution_count": 3,
      "id": "28b3fadb",
      "metadata": {
        "id": "28b3fadb"
      },
      "outputs": [],
      "source": [
        "df.columns = df.columns.str.lower()\n",
        "\n",
        "status_values = {\n",
        "    1: 'ok',\n",
        "    2: 'default',\n",
        "    0: 'unk'\n",
        "}\n",
        "\n",
        "df.status = df.status.map(status_values)\n",
        "\n",
        "home_values = {\n",
        "    1: 'rent',\n",
        "    2: 'owner',\n",
        "    3: 'private',\n",
        "    4: 'ignore',\n",
        "    5: 'parents',\n",
        "    6: 'other',\n",
        "    0: 'unk'\n",
        "}\n",
        "\n",
        "df.home = df.home.map(home_values)\n",
        "\n",
        "marital_values = {\n",
        "    1: 'single',\n",
        "    2: 'married',\n",
        "    3: 'widow',\n",
        "    4: 'separated',\n",
        "    5: 'divorced',\n",
        "    0: 'unk'\n",
        "}\n",
        "\n",
        "df.marital = df.marital.map(marital_values)\n",
        "\n",
        "records_values = {\n",
        "    1: 'no',\n",
        "    2: 'yes',\n",
        "    0: 'unk'\n",
        "}\n",
        "\n",
        "df.records = df.records.map(records_values)\n",
        "\n",
        "job_values = {\n",
        "    1: 'fixed',\n",
        "    2: 'partime',\n",
        "    3: 'freelance',\n",
        "    4: 'others',\n",
        "    0: 'unk'\n",
        "}\n",
        "\n",
        "df.job = df.job.map(job_values)\n",
        "\n",
        "for c in ['income', 'assets', 'debt']:\n",
        "    df[c] = df[c].replace(to_replace=99999999, value=np.nan)\n",
        "\n",
        "df = df[df.status != 'unk'].reset_index(drop=True)"
      ]
    },
    {
      "cell_type": "code",
      "execution_count": 4,
      "id": "4fd52ad9",
      "metadata": {
        "id": "4fd52ad9"
      },
      "outputs": [],
      "source": [
        "df_train, df_test = train_test_split(df, test_size=0.2, random_state=11)\n",
        "\n",
        "df_train = df_train.reset_index(drop=True)\n",
        "df_test = df_test.reset_index(drop=True)\n",
        "\n",
        "y_train = (df_train.status == 'default').astype('int').values\n",
        "y_test = (df_test.status == 'default').astype('int').values\n",
        "\n",
        "del df_train['status']\n",
        "del df_test['status']"
      ]
    },
    {
      "cell_type": "code",
      "execution_count": 5,
      "id": "5fe56815",
      "metadata": {
        "id": "5fe56815"
      },
      "outputs": [],
      "source": [
        "dv = DictVectorizer(sparse=False)\n",
        "\n",
        "train_dicts = df_train.fillna(0).to_dict(orient='records')\n",
        "X_train = dv.fit_transform(train_dicts)\n",
        "\n",
        "test_dicts = df_test.fillna(0).to_dict(orient='records')\n",
        "X_test = dv.transform(test_dicts)"
      ]
    },
    {
      "cell_type": "markdown",
      "id": "1fb68649",
      "metadata": {
        "id": "1fb68649"
      },
      "source": [
        "### Random forest"
      ]
    },
    {
      "cell_type": "code",
      "execution_count": 6,
      "id": "a84fa9d2",
      "metadata": {
        "colab": {
          "base_uri": "https://localhost:8080/"
        },
        "id": "a84fa9d2",
        "outputId": "68dd04dc-7856-40eb-cb85-6bf54e0d00af"
      },
      "outputs": [
        {
          "output_type": "execute_result",
          "data": {
            "text/plain": [
              "RandomForestClassifier(max_depth=10, min_samples_leaf=3, n_estimators=200,\n",
              "                       random_state=1)"
            ]
          },
          "metadata": {},
          "execution_count": 6
        }
      ],
      "source": [
        "rf = RandomForestClassifier(n_estimators=200,\n",
        "                            max_depth=10,\n",
        "                            min_samples_leaf=3,\n",
        "                            random_state=1)\n",
        "rf.fit(X_train, y_train)"
      ]
    },
    {
      "cell_type": "markdown",
      "id": "05f1bb34",
      "metadata": {
        "id": "05f1bb34"
      },
      "source": [
        "### XGBoost\n",
        "\n",
        "Note:\n",
        "\n",
        "We removed feature names\n",
        "\n",
        "It was \n",
        "\n",
        "```python\n",
        "features = dv.get_feature_names_out()\n",
        "dtrain = xgb.DMatrix(X_train, label=y_train, feature_names=features)\n",
        "```\n",
        "\n",
        "Now it's\n",
        "\n",
        "```python\n",
        "dtrain = xgb.DMatrix(X_train, label=y_train)\n",
        "```"
      ]
    },
    {
      "cell_type": "code",
      "execution_count": 7,
      "id": "63185f7a",
      "metadata": {
        "id": "63185f7a"
      },
      "outputs": [],
      "source": [
        "dtrain = xgb.DMatrix(X_train, label=y_train)"
      ]
    },
    {
      "cell_type": "code",
      "execution_count": 8,
      "id": "d1e284f4",
      "metadata": {
        "id": "d1e284f4"
      },
      "outputs": [],
      "source": [
        "xgb_params = {\n",
        "    'eta': 0.1, \n",
        "    'max_depth': 3,\n",
        "    'min_child_weight': 1,\n",
        "\n",
        "    'objective': 'binary:logistic',\n",
        "    'eval_metric': 'auc',\n",
        "\n",
        "    'nthread': 8,\n",
        "    'seed': 1,\n",
        "    'verbosity': 1,\n",
        "}\n",
        "\n",
        "model = xgb.train(xgb_params, dtrain, num_boost_round=175)"
      ]
    },
    {
      "cell_type": "markdown",
      "id": "23ae12d0",
      "metadata": {
        "id": "23ae12d0"
      },
      "source": [
        "### BentoML"
      ]
    },
    {
      "cell_type": "code",
      "execution_count": 10,
      "id": "7a230459",
      "metadata": {
        "id": "7a230459"
      },
      "outputs": [],
      "source": [
        "import bentoml"
      ]
    },
    {
      "cell_type": "code",
      "execution_count": 11,
      "id": "0ea2ca87",
      "metadata": {
        "colab": {
          "base_uri": "https://localhost:8080/"
        },
        "id": "0ea2ca87",
        "outputId": "8b42382b-bcfa-4e5b-d641-b0228495f361"
      },
      "outputs": [
        {
          "output_type": "execute_result",
          "data": {
            "text/plain": [
              "Model(tag=\"credit_risk_model:f3sztpsums47sasc\", path=\"/root/bentoml/models/credit_risk_model/f3sztpsums47sasc/\")"
            ]
          },
          "metadata": {},
          "execution_count": 11
        }
      ],
      "source": [
        "bentoml.xgboost.save_model(\n",
        "    'credit_risk_model',\n",
        "    model,\n",
        "    custom_objects={\n",
        "        'dictVectorizer': dv\n",
        "    })"
      ]
    },
    {
      "cell_type": "markdown",
      "id": "a5151ea7",
      "metadata": {
        "id": "a5151ea7"
      },
      "source": [
        "Test"
      ]
    },
    {
      "cell_type": "code",
      "execution_count": 12,
      "id": "492f90ec",
      "metadata": {
        "id": "492f90ec"
      },
      "outputs": [],
      "source": [
        "import json"
      ]
    },
    {
      "cell_type": "code",
      "execution_count": 13,
      "id": "ed5efc41",
      "metadata": {
        "colab": {
          "base_uri": "https://localhost:8080/"
        },
        "id": "ed5efc41",
        "outputId": "d2912f48-d420-4767-ac0f-69f70c4fb171"
      },
      "outputs": [
        {
          "output_type": "stream",
          "name": "stdout",
          "text": [
            "{\n",
            "  \"seniority\": 3,\n",
            "  \"home\": \"owner\",\n",
            "  \"time\": 36,\n",
            "  \"age\": 26,\n",
            "  \"marital\": \"single\",\n",
            "  \"records\": \"no\",\n",
            "  \"job\": \"freelance\",\n",
            "  \"expenses\": 35,\n",
            "  \"income\": 0.0,\n",
            "  \"assets\": 60000.0,\n",
            "  \"debt\": 3000.0,\n",
            "  \"amount\": 800,\n",
            "  \"price\": 1000\n",
            "}\n"
          ]
        }
      ],
      "source": [
        "request = df_test.iloc[0].to_dict()\n",
        "print(json.dumps(request, indent=2))"
      ]
    },
    {
      "cell_type": "code",
      "execution_count": 14,
      "id": "ec2744ae",
      "metadata": {
        "colab": {
          "base_uri": "https://localhost:8080/"
        },
        "id": "ec2744ae",
        "outputId": "939e0db6-f65a-403a-c1c6-b03b2066d589"
      },
      "outputs": [
        {
          "output_type": "stream",
          "name": "stdout",
          "text": [
            "bentoml, version 1.0.7\n"
          ]
        }
      ],
      "source": [
        "!bentoml --version"
      ]
    },
    {
      "cell_type": "code",
      "source": [
        "cd /root/bentoml/models/credit_risk_model"
      ],
      "metadata": {
        "colab": {
          "base_uri": "https://localhost:8080/"
        },
        "id": "xpm41cM9OI2n",
        "outputId": "338b07e4-8d57-4954-9755-96c321e044eb"
      },
      "id": "xpm41cM9OI2n",
      "execution_count": 17,
      "outputs": [
        {
          "output_type": "stream",
          "name": "stdout",
          "text": [
            "/root/bentoml/models/credit_risk_model\n"
          ]
        }
      ]
    },
    {
      "cell_type": "code",
      "source": [
        "ls -la f3sztpsums47sasc"
      ],
      "metadata": {
        "colab": {
          "base_uri": "https://localhost:8080/"
        },
        "id": "sc9CqSJQO8uB",
        "outputId": "f62a2d7f-2e95-4ea8-8d05-585972f12e9c"
      },
      "id": "sc9CqSJQO8uB",
      "execution_count": 19,
      "outputs": [
        {
          "output_type": "stream",
          "name": "stdout",
          "text": [
            "total 132\n",
            "drwxr-xr-x 2 root root   4096 Oct 25 12:54 \u001b[0m\u001b[01;34m.\u001b[0m/\n",
            "drwxr-xr-x 3 root root   4096 Oct 25 12:54 \u001b[01;34m..\u001b[0m/\n",
            "-rw-r--r-- 1 root root    716 Oct 25 12:54 custom_objects.pkl\n",
            "-rw-r--r-- 1 root root    367 Oct 25 12:54 model.yaml\n",
            "-rw-r--r-- 1 root root 117852 Oct 25 12:54 saved_model.ubj\n"
          ]
        }
      ]
    },
    {
      "cell_type": "code",
      "source": [],
      "metadata": {
        "id": "bOe9D7_DPHfZ"
      },
      "id": "bOe9D7_DPHfZ",
      "execution_count": null,
      "outputs": []
    }
  ],
  "metadata": {
    "kernelspec": {
      "display_name": "Python 3 (ipykernel)",
      "language": "python",
      "name": "python3"
    },
    "language_info": {
      "codemirror_mode": {
        "name": "ipython",
        "version": 3
      },
      "file_extension": ".py",
      "mimetype": "text/x-python",
      "name": "python",
      "nbconvert_exporter": "python",
      "pygments_lexer": "ipython3",
      "version": "3.8.10"
    },
    "colab": {
      "provenance": [],
      "collapsed_sections": []
    }
  },
  "nbformat": 4,
  "nbformat_minor": 5
}